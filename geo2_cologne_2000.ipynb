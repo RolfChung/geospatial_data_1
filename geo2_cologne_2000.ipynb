{
 "cells": [
  {
   "cell_type": "markdown",
   "id": "recreational-strategy",
   "metadata": {},
   "source": [
    "# Summary\n",
    "\n",
    "<p>\n",
    "This notebook explores the city of Cologne using geospatial or geographic data.<br>\n",
    "In particular parking meters and hospitals are considered.\n",
    "<p>\n",
    "\"Geographic data and information is defined in the ISO/TC 211 series of standards as data and information having an implicit or explicit association with a location relative to Earth (a geographic location or geographic position).\"<br>\n",
    "<a href=\"https://en.wikipedia.org/wiki/Geographic_data_and_information\" target=\"_blank\">Wikipedia</a> \n",
    "</p>\n",
    "\n",
    "<p>\n",
    "Here this means in practical terms 'longitudes' and 'latitudes' are used. Two coordinate reference systems are mainly applied here: EPSG:4326 and EPSG:3857.\n",
    "</p>\n",
    "<p>\n",
    "\"A spatial reference system (SRS) or coordinate reference system (CRS) is a coordinate-based local, regional or global system used to locate geographical entities. A SRS commonly defines a specific map projection, as well as transformations between different SRS.\"<br>\n",
    "<a href=\"https://en.wikipedia.org/wiki/Spatial_reference_system\" target=\"_blank\">Wikipedia</a>  \n",
    "<br>\n",
    "It is of overall important to apply the right crs for the operation in case.<br>\n",
    "Otherwise major trouble is ahead.<br>\n",
    "More on this in the notebook.\n",
    "</p> \n",
    "\n",
    "<p>\n",
    "    In a Python perspective the <b>Geopandas</b> package is applied here.\n",
    "</p> \n",
    "\n",
    "<p>\n",
    "\"GeoPandas is an open source project to make working with geospatial data in python easier. GeoPandas extends the datatypes used by pandas to allow spatial operations on geometric types. Geometric operations are performed by shapely. Geopandas further depends on fiona for file access and matplotlib for plotting.\"<br>\n",
    "<a href=\"https://geopandas.readthedocs.io/en/latest/index.html\" target=\"_blank\">GeoPandas</a>  \n",
    "</p> \n",
    "\n",
    "<p>\n",
    "I am totally agreeing  with this. In general it makes life easier and is an entry point into the\n",
    "many geopspatial packages and dependencies behind it.\n",
    "</p>\n",
    "\n",
    "<p>\n",
    "Further topics explored here are:\n",
    "</p>\n",
    "\n",
    "<ul>\n",
    "  <li>Shapefiles</li>\n",
    "  <li>GeoDataFrames</li>\n",
    "  <li>GeoJson</li>\n",
    "  <li>Geospatial Joins</li>\n",
    "  <li>Geopspatial calculations</li>\n",
    "  <li>Geopandas plots</li>\n",
    "  <li>Folium plots</li>\n",
    "  <li>Choropleth plots</li>\n",
    "</ul> "
   ]
  },
  {
   "cell_type": "markdown",
   "id": "separate-highlight",
   "metadata": {},
   "source": [
    "# Import packages"
   ]
  },
  {
   "cell_type": "code",
   "execution_count": null,
   "id": "bronze-restaurant",
   "metadata": {},
   "outputs": [],
   "source": [
    "import pandas as pd\n",
    "import matplotlib.pyplot as plt\n",
    "%matplotlib inline\n",
    "import seaborn as sns\n",
    "import numpy as np\n",
    "import os as os\n",
    "import time\n",
    "import pprint\n",
    "import sys\n",
    "import unidecode\n",
    "\n",
    "\n",
    "# geographic\n",
    "import geopandas as geop\n",
    "import json, requests\n",
    "from shapely.geometry import Point\n",
    "from shapely.geometry import Polygon, mapping, shape\n",
    "from shapely.geometry.multipolygon import MultiPolygon\n",
    "from shapely import wkt\n",
    "import folium\n",
    "import fiona; fiona.supported_drivers\n",
    "\n"
   ]
  },
  {
   "cell_type": "code",
   "execution_count": null,
   "id": "collaborative-career",
   "metadata": {},
   "outputs": [],
   "source": [
    "print(\"Version Pandas: {}\".format(pd.__version__))\n",
    "print(\"Version Geopandas: {}\".format(geop.__version__))\n",
    "print(\"Version Numpy: {}\".format(np.__version__))"
   ]
  },
  {
   "cell_type": "markdown",
   "id": "outdoor-extent",
   "metadata": {},
   "source": [
    "OS"
   ]
  },
  {
   "cell_type": "code",
   "execution_count": null,
   "id": "graduate-linux",
   "metadata": {},
   "outputs": [],
   "source": [
    "import os\n",
    "# print(os.getcwd())\n",
    "# print(os.name)\n",
    "# print(os.listdir())"
   ]
  },
  {
   "cell_type": "code",
   "execution_count": null,
   "id": "sudden-update",
   "metadata": {},
   "outputs": [],
   "source": [
    "import types\n",
    "def imports():\n",
    "    for name, val in globals().items():\n",
    "        if isinstance(val, types.ModuleType):\n",
    "            yield val.__name__\n",
    "list(imports())"
   ]
  },
  {
   "cell_type": "code",
   "execution_count": null,
   "id": "floating-praise",
   "metadata": {},
   "outputs": [],
   "source": [
    "# Seaborn | Style And Color: ttps://www.geeksforgeeks.org/seaborn-style-and-color/\n",
    "sns.set() \n",
    "sns.set_style(\"darkgrid\") \n",
    "sns.set_style(\"ticks\", {\"xtick.major.size\":20, \"ytick.major.size\":20})\n",
    "sns.set_theme(style=\"darkgrid\")\n"
   ]
  },
  {
   "cell_type": "code",
   "execution_count": null,
   "id": "superior-remains",
   "metadata": {},
   "outputs": [],
   "source": [
    "currentwd = os.getcwd()\n",
    "# print(currentwd)"
   ]
  },
  {
   "cell_type": "markdown",
   "id": "senior-knowing",
   "metadata": {},
   "source": [
    "# Import data\n",
    "\n",
    "<p>\n",
    "<b>About the data set:</b><br>\n",
    "List of parking ticket machines in Cologne, including information on fees and maximum parking time.<br>\n",
    "\n",
    "<b>Important:</b><br>\n",
    "The individual parking ticket machines are georeferenced. However, it is possible that with machines that do not have the street and house number combination, this referencing does not match the actual installation location. This data set is therefore constantly updated (at least every six months).<br>\n",
    "(Translated with Google Translate.)<br>\n",
    "<a href=\"https://www.offenedaten-koeln.de/dataset/parkscheinautomaten-koeln\" target=\"_blank\">Stadt Köln</a> \n",
    "</p> \n",
    "\n",
    "<p>\n",
    "The data is imported with different methods below.\n",
    "</p> "
   ]
  },
  {
   "cell_type": "code",
   "execution_count": null,
   "id": "gorgeous-account",
   "metadata": {},
   "outputs": [],
   "source": [
    "path_1 = 'datasets/PSA_Koeln_2020_0.csv'"
   ]
  },
  {
   "cell_type": "code",
   "execution_count": null,
   "id": "improving-creation",
   "metadata": {},
   "outputs": [],
   "source": [
    "# encoding:  ‘utf-8’\n",
    "pm_20 = \\\n",
    "pd.read_json(\"https://offenedaten-koeln.de/api/action/datastore/search.json?resource_id=11667407-a0d4-42ea-95d8-a0c5e40017dc\",\n",
    "             encoding='utf-8')"
   ]
  },
  {
   "cell_type": "code",
   "execution_count": null,
   "id": "mobile-dating",
   "metadata": {},
   "outputs": [],
   "source": [
    "sd_1 = open(path_1, mode='r', encoding='utf-8') # Open the file for reading\n",
    "sd_1_text = sd_1.read() # Read a file’s contents\n",
    "\n",
    "print(sd_1.closed) #  Check whether file is closed, file is not closed\n",
    "\n",
    "sd_1.close() # Close file\n",
    "\n",
    "print(sd_1_text[:430])"
   ]
  },
  {
   "cell_type": "code",
   "execution_count": null,
   "id": "dangerous-delta",
   "metadata": {},
   "outputs": [],
   "source": [
    "with open(path_1, 'r', encoding='utf-8') as col_2:\n",
    "    print(col_2.readline())\n",
    "    col_2.close()"
   ]
  },
  {
   "cell_type": "code",
   "execution_count": null,
   "id": "maritime-bandwidth",
   "metadata": {},
   "outputs": [],
   "source": [
    "col_4 = open(path_1, 'r', encoding='utf-8')\n",
    "col_4_data = col_4.read()\n",
    "col_4.close()\n",
    "\n",
    "col_4_lines = col_4_data.split('\\n')\n",
    "\n",
    "col_4_rows=[]\n",
    "\n",
    "for line in col_4_lines:\n",
    "    values = line.split(';')\n",
    "    col_4_rows.append(values)\n",
    "    \n",
    "col_4_rows[:1]"
   ]
  },
  {
   "cell_type": "code",
   "execution_count": null,
   "id": "square-richardson",
   "metadata": {},
   "outputs": [],
   "source": [
    "col_4_rows[6]"
   ]
  },
  {
   "cell_type": "markdown",
   "id": "divine-flashing",
   "metadata": {},
   "source": [
    "Alternatively there is a JSON-Api:"
   ]
  },
  {
   "cell_type": "code",
   "execution_count": null,
   "id": "favorite-parcel",
   "metadata": {},
   "outputs": [],
   "source": [
    "url_pm = \\\n",
    "\"https://offenedaten-koeln.de/api/action/datastore/search.json?resource_id=11667407-a0d4-42ea-95d8-a0c5e40017dc\""
   ]
  },
  {
   "cell_type": "code",
   "execution_count": null,
   "id": "resistant-melissa",
   "metadata": {},
   "outputs": [],
   "source": [
    "pm_20 = \\\n",
    "pd.read_json(url_pm, encoding='utf-8')"
   ]
  },
  {
   "cell_type": "code",
   "execution_count": null,
   "id": "phantom-andrews",
   "metadata": {},
   "outputs": [],
   "source": [
    "pm_20.head()"
   ]
  },
  {
   "cell_type": "markdown",
   "id": "spiritual-kelly",
   "metadata": {},
   "source": [
    "This does not work out. This points to a nested dict including meta data."
   ]
  },
  {
   "cell_type": "code",
   "execution_count": null,
   "id": "packed-decision",
   "metadata": {},
   "outputs": [],
   "source": [
    "pm_data = requests.get(url_pm).json()\n",
    "\n",
    "print(type(pm_data))"
   ]
  },
  {
   "cell_type": "markdown",
   "id": "lovely-sentence",
   "metadata": {},
   "source": [
    "Structure of the nested json dictionary:"
   ]
  },
  {
   "cell_type": "code",
   "execution_count": null,
   "id": "elegant-strain",
   "metadata": {},
   "outputs": [],
   "source": [
    "print(pm_data.keys())\n",
    "print(pm_data['result'].keys())\n",
    "print(pm_data['result']['records'][:1])"
   ]
  },
  {
   "cell_type": "markdown",
   "id": "prescribed-showcase",
   "metadata": {},
   "source": [
    "<p>\n",
    "How to get the records out of the nested dictionary?<br>\n",
    "Answer:\n",
    "</p> \n",
    "\n",
    "<p>\n",
    "<b>pandas.json_normalize</b>\n",
    "pandas.json_normalize(data, record_path=None, meta=None, meta_prefix=None, record_prefix=None, errors='raise', sep='.', max_level=None)<br>\n",
    "Normalize semi-structured JSON data into a flat table.<br>\n",
    "<a href=\"https://pandas.pydata.org/docs/reference/api/pandas.json_normalize.html\" target=\"_blank\">pandas.json_normalize</a> \n",
    "</p> \n",
    "\n",
    "\n"
   ]
  },
  {
   "cell_type": "code",
   "execution_count": null,
   "id": "responsible-occurrence",
   "metadata": {},
   "outputs": [],
   "source": [
    "pm_455 = pd.json_normalize(pm_data, record_path=['result', 'records'])\n",
    "\n",
    "print(type(pm_455))"
   ]
  },
  {
   "cell_type": "code",
   "execution_count": null,
   "id": "collaborative-postage",
   "metadata": {},
   "outputs": [],
   "source": [
    "pm_455.info()"
   ]
  },
  {
   "cell_type": "code",
   "execution_count": null,
   "id": "about-thomas",
   "metadata": {},
   "outputs": [],
   "source": [
    "pm_455[['aufstellort', 'geokoordinatenord', 'geokoordinateost']].head()"
   ]
  },
  {
   "cell_type": "markdown",
   "id": "little-things",
   "metadata": {},
   "source": [
    "Normalizing worked out. Despite the data used here is imported as csv."
   ]
  },
  {
   "cell_type": "code",
   "execution_count": null,
   "id": "systematic-primary",
   "metadata": {},
   "outputs": [],
   "source": [
    "cologne_pd = pd.read_csv(path_1, header=0, sep=';', encoding='utf-8')"
   ]
  },
  {
   "cell_type": "markdown",
   "id": "natural-quebec",
   "metadata": {},
   "source": [
    "# Data exploration"
   ]
  },
  {
   "cell_type": "code",
   "execution_count": null,
   "id": "level-salmon",
   "metadata": {},
   "outputs": [],
   "source": [
    "cologne_pd.shape"
   ]
  },
  {
   "cell_type": "code",
   "execution_count": null,
   "id": "subjective-insider",
   "metadata": {},
   "outputs": [],
   "source": [
    "type(cologne_pd)"
   ]
  },
  {
   "cell_type": "code",
   "execution_count": null,
   "id": "imperial-intranet",
   "metadata": {},
   "outputs": [],
   "source": [
    "cologne_pd.columns.to_list()"
   ]
  },
  {
   "cell_type": "code",
   "execution_count": null,
   "id": "front-broadway",
   "metadata": {},
   "outputs": [],
   "source": [
    "pd.DataFrame(zip(cologne_pd.count(), cologne_pd.isna().sum(), \n",
    "                 cologne_pd.count() + cologne_pd.isna().sum()), \n",
    "            columns=['Not NA', 'NA', 'Len'], index=cologne_pd.columns.to_list())"
   ]
  },
  {
   "cell_type": "code",
   "execution_count": null,
   "id": "fuzzy-kenya",
   "metadata": {},
   "outputs": [],
   "source": [
    "cologne_pd.info()"
   ]
  },
  {
   "cell_type": "markdown",
   "id": "unusual-lunch",
   "metadata": {},
   "source": [
    "There are 2783 parking meters. Not all geocoordinates for those are provided."
   ]
  },
  {
   "cell_type": "code",
   "execution_count": null,
   "id": "packed-receptor",
   "metadata": {},
   "outputs": [],
   "source": [
    "cologne_pd.head(3)"
   ]
  },
  {
   "cell_type": "code",
   "execution_count": null,
   "id": "mechanical-local",
   "metadata": {},
   "outputs": [],
   "source": [
    "cologne_pd.tail(3)"
   ]
  },
  {
   "cell_type": "code",
   "execution_count": null,
   "id": "rolled-census",
   "metadata": {},
   "outputs": [],
   "source": [
    "cologne_pd_555 =cologne_pd.copy()"
   ]
  },
  {
   "cell_type": "markdown",
   "id": "velvet-austin",
   "metadata": {},
   "source": [
    "## Data cleaning"
   ]
  },
  {
   "cell_type": "markdown",
   "id": "convinced-bunch",
   "metadata": {},
   "source": [
    "### Type correction\n",
    "\n",
    "<p>\n",
    "There are several variables of type string, which should be a number.<br>\n",
    "For this project the geocoordinates are the most important variables.<br>\n",
    "So start with those.<br>\n",
    "The data types of the geocoordinates are strings.<br> \n",
    "Those should be floats and converted.<br>\n",
    "However those are using commas instead of points as decimal seperators. <br>\n",
    "Before type conversion the commas must be replaced with points.<br>\n",
    "There are numerous methods to do this, but as we are here in Pandas context, <br>\n",
    "the choosen method"
   ]
  },
  {
   "cell_type": "markdown",
   "id": "satisfactory-roberts",
   "metadata": {},
   "source": [
    "<p>\n",
    "In the data the variables\n",
    "'GeoKoordinateNord' is 'Latitude'<br>\n",
    "'GeoKoordinateOst' is'Longitude'.\n",
    "</p> \n",
    "\n",
    "<p>\n",
    "The terms are renamed below.\n",
    "</p> \n"
   ]
  },
  {
   "cell_type": "code",
   "execution_count": null,
   "id": "aware-placement",
   "metadata": {},
   "outputs": [],
   "source": [
    "cologne_pd_111 = \\\n",
    "cologne_pd.rename(columns={'GeoKoordinateNord': 'Latitude', 'GeoKoordinateOst':'Longitude'})"
   ]
  },
  {
   "cell_type": "markdown",
   "id": "front-macintosh",
   "metadata": {},
   "source": [
    "#### Are there outliers in the coordinates?\n",
    "\n",
    "<p>\n",
    "The coordinates should all be in simuilar range.<br>\n",
    "If those are not, this indicates wrong values.\n",
    "</p> \n",
    "\n",
    "<p>\n",
    "Geographic coordinates of Cologne, Germany in decimal degrees:<br>\n",
    "Latitude: 50.9333300°<br>\n",
    "Longitude: 6.9500000°<br>\n",
    "</p> "
   ]
  },
  {
   "cell_type": "code",
   "execution_count": null,
   "id": "raised-switzerland",
   "metadata": {},
   "outputs": [],
   "source": [
    "coord = cologne_pd_111[['Bezirk/Gebiet', 'Latitude', 'Longitude']]"
   ]
  },
  {
   "cell_type": "code",
   "execution_count": null,
   "id": "imported-implementation",
   "metadata": {},
   "outputs": [],
   "source": [
    "cgeoost = cologne_pd_111.Longitude.str.replace(',', '.', regex=False).astype(float)\n",
    "\n",
    "print(cgeoost[:2])\n",
    "print(type(cgeoost[:2][1]))"
   ]
  },
  {
   "cell_type": "code",
   "execution_count": null,
   "id": "introductory-statement",
   "metadata": {},
   "outputs": [],
   "source": [
    "cgenord = cologne_pd_111.Latitude.str.replace(',', '.', regex=False).astype(float)\n",
    "\n",
    "print(cgenord[:2])\n",
    "print(type(cgenord[:2][1]))"
   ]
  },
  {
   "cell_type": "code",
   "execution_count": null,
   "id": "bizarre-insider",
   "metadata": {},
   "outputs": [],
   "source": [
    "coord_2 = coord.assign(Latitude=cgenord, Longitude=cgeoost)\n",
    "coord_2.head(3)"
   ]
  },
  {
   "cell_type": "code",
   "execution_count": null,
   "id": "subjective-venice",
   "metadata": {},
   "outputs": [],
   "source": [
    "coord_2.describe()"
   ]
  },
  {
   "cell_type": "code",
   "execution_count": null,
   "id": "stupid-nicholas",
   "metadata": {},
   "outputs": [],
   "source": [
    "fig, (ax1, ax2) = plt.subplots(2,1, figsize=(12,5))\n",
    "\n",
    "\n",
    "sns.boxplot(x='Latitude', data=coord_2, ax=ax1)\n",
    "sns.boxplot(x='Longitude', data=coord_2, ax=ax2)\n",
    "\n",
    "plt.show()"
   ]
  },
  {
   "cell_type": "code",
   "execution_count": null,
   "id": "automotive-disposition",
   "metadata": {},
   "outputs": [],
   "source": [
    "coord_2[(coord_2['Latitude']  > 60)  | (coord_2['Latitude']  < 50)]"
   ]
  },
  {
   "cell_type": "markdown",
   "id": "logical-cotton",
   "metadata": {},
   "source": [
    "This two values should be corrected or dropped.."
   ]
  },
  {
   "cell_type": "code",
   "execution_count": null,
   "id": "daily-gossip",
   "metadata": {},
   "outputs": [],
   "source": [
    "coord_2[(coord_2['Longitude'] < 1)]"
   ]
  },
  {
   "cell_type": "code",
   "execution_count": null,
   "id": "cleared-watson",
   "metadata": {},
   "outputs": [],
   "source": [
    "coord_2[(coord_2['Longitude'] > 10)]"
   ]
  },
  {
   "cell_type": "markdown",
   "id": "coated-jordan",
   "metadata": {
    "tags": []
   },
   "source": [
    "<p>\n",
    "The longitude \"7012081.0\" is not possible. \n",
    "</p> \n",
    "\n",
    "\n",
    "<p>\n",
    "This indicates a problem with the Longitudes.\n",
    "The variable is a string and the fraction seperator is in German a comma instead of a point.\n",
    "A lot of those are from the district \"Mühlheim\".\n",
    "Some values are NA.\n",
    "Before converting the comma is replaced with point, but some values lack erroneously commas,\n",
    "maybe because of a transcription error.\n",
    "This corrupts the conversion and the longitudes and must be corrected by\n",
    "</p> \n",
    "\n",
    "#### inserting point at index 2 \n",
    "\n",
    "<p>\n",
    "The first step is trying to understand the situation by finding the longitudes without commas\n",
    "in the string.<br>\n",
    "The function below is<br>\n",
    "<b>applying a user defined funtion on the rows of a data frame with the \"string.find()\" method</b>\n",
    "</p> "
   ]
  },
  {
   "cell_type": "code",
   "execution_count": null,
   "id": "deluxe-interval",
   "metadata": {},
   "outputs": [],
   "source": [
    "def check_comma(row):\n",
    "        if row.find(\",\") >= 0:\n",
    "            value = 1\n",
    "        elif row.find(\",\") == -1:\n",
    "            value = 0\n",
    "        return value"
   ]
  },
  {
   "cell_type": "code",
   "execution_count": null,
   "id": "surrounded-spring",
   "metadata": {},
   "outputs": [],
   "source": [
    "cologne_pd_c = cologne_pd_111.copy()"
   ]
  },
  {
   "cell_type": "code",
   "execution_count": null,
   "id": "grand-spotlight",
   "metadata": {},
   "outputs": [],
   "source": [
    "cologne_pd_c.info()"
   ]
  },
  {
   "cell_type": "code",
   "execution_count": null,
   "id": "excited-yemen",
   "metadata": {},
   "outputs": [],
   "source": [
    "cologne_pd_c['Longitude'] = cologne_pd_c['Longitude'].astype(str)"
   ]
  },
  {
   "cell_type": "code",
   "execution_count": null,
   "id": "under-interest",
   "metadata": {},
   "outputs": [],
   "source": [
    "cologne_pd_c['commas'] = cologne_pd_c['Longitude'].apply(check_comma)\n",
    "cologne_pd_c_2 = cologne_pd_c[['Bezirk/Gebiet', 'Longitude', 'commas']]"
   ]
  },
  {
   "cell_type": "markdown",
   "id": "dirty-warning",
   "metadata": {},
   "source": [
    "Printing longitudes with commas."
   ]
  },
  {
   "cell_type": "code",
   "execution_count": null,
   "id": "baking-return",
   "metadata": {},
   "outputs": [],
   "source": [
    "print(cologne_pd_c_2.shape)\n",
    "cologne_pd_c_2.head()"
   ]
  },
  {
   "cell_type": "markdown",
   "id": "radical-there",
   "metadata": {},
   "source": [
    "Printing longitudes without commas."
   ]
  },
  {
   "cell_type": "code",
   "execution_count": null,
   "id": "tight-designer",
   "metadata": {},
   "outputs": [],
   "source": [
    "not_commas = cologne_pd_c_2[cologne_pd_c_2.commas==0]\n",
    "print(not_commas.shape)\n",
    "not_commas.head()"
   ]
  },
  {
   "cell_type": "code",
   "execution_count": null,
   "id": "informational-angola",
   "metadata": {},
   "outputs": [],
   "source": [
    "not_commas.info()"
   ]
  },
  {
   "cell_type": "markdown",
   "id": "complex-contact",
   "metadata": {},
   "source": [
    "Print the entire data frame with the context options manager.<br>\n",
    "This shows the longitudes without commas."
   ]
  },
  {
   "cell_type": "code",
   "execution_count": null,
   "id": "toxic-words",
   "metadata": {},
   "outputs": [],
   "source": [
    "with pd.option_context('display.max_rows', None,\n",
    "                       'display.max_columns', None,\n",
    "                       'display.precision', 3,\n",
    "                       ):\n",
    "    print(not_commas)"
   ]
  },
  {
   "cell_type": "markdown",
   "id": "casual-oxford",
   "metadata": {},
   "source": [
    "#### Checking the latitudes\n",
    "\n",
    "<p>\n",
    "The expectation is that there are only nan values, but none latitudes without commas,\n",
    "based on the describe-statistics.\n",
    "</p> "
   ]
  },
  {
   "cell_type": "code",
   "execution_count": null,
   "id": "warming-above",
   "metadata": {},
   "outputs": [],
   "source": [
    "cologne_pd_c.Latitude.isna().sum()"
   ]
  },
  {
   "cell_type": "code",
   "execution_count": null,
   "id": "unexpected-humanity",
   "metadata": {},
   "outputs": [],
   "source": [
    "cologne_pd_c.dtypes"
   ]
  },
  {
   "cell_type": "code",
   "execution_count": null,
   "id": "bright-jaguar",
   "metadata": {},
   "outputs": [],
   "source": [
    "cologne_pd_c['Latitude'].head()\n",
    "print(type(cologne_pd_c['Latitude'][100]))"
   ]
  },
  {
   "cell_type": "code",
   "execution_count": null,
   "id": "waiting-scratch",
   "metadata": {},
   "outputs": [],
   "source": [
    "lat_122 = cologne_pd_c['Latitude'].astype(str).apply(check_comma)"
   ]
  },
  {
   "cell_type": "code",
   "execution_count": null,
   "id": "equivalent-background",
   "metadata": {},
   "outputs": [],
   "source": [
    "lat_122.value_counts()"
   ]
  },
  {
   "cell_type": "code",
   "execution_count": null,
   "id": "defined-kansas",
   "metadata": {},
   "outputs": [],
   "source": [
    "cologne_pd_c_33 = cologne_pd_c.copy()\n",
    "cologne_pd_c_33['lat_checked'] = lat_122\n",
    "c_lat = cologne_pd_c_33[['Bezirk/Gebiet', 'Latitude', 'lat_checked']]\n",
    "c_lat[c_lat.lat_checked == 0][:5]"
   ]
  },
  {
   "cell_type": "code",
   "execution_count": null,
   "id": "preceding-month",
   "metadata": {},
   "outputs": [],
   "source": [
    "c_lat.loc[c_lat.lat_checked == 0, 'Latitude'].isna().sum()"
   ]
  },
  {
   "cell_type": "markdown",
   "id": "distinguished-aurora",
   "metadata": {},
   "source": [
    "The expectation is confirmed."
   ]
  },
  {
   "cell_type": "markdown",
   "id": "adequate-adams",
   "metadata": {},
   "source": [
    "Now we want to add commas only to the longitude values without commas and not the nan's either."
   ]
  },
  {
   "cell_type": "markdown",
   "id": "comic-fusion",
   "metadata": {},
   "source": [
    "<b> Example: Find and insert a String into a String in Python with the \"string.find()\" method</b>"
   ]
  },
  {
   "cell_type": "code",
   "execution_count": null,
   "id": "emotional-breakfast",
   "metadata": {},
   "outputs": [],
   "source": [
    "# take \n",
    "mgeo_str=cologne_pd_111.loc[2126,'Longitude']\n",
    "print(mgeo_str)\n",
    "print(type(mgeo_str))\n",
    "print(mgeo_str[0])\n",
    "print(len(mgeo_str))\n",
    "print(mgeo_str[0] + \",\" + mgeo_str[1:len(mgeo_str)])"
   ]
  },
  {
   "cell_type": "markdown",
   "id": "particular-macedonia",
   "metadata": {},
   "source": [
    "<p>\n",
    "The function below is<br>\n",
    "<b>applying a user defined funtion on the rows of a data frame \n",
    "with the \"string.find()\" method and adds a comma to longitude values.</b>\n",
    "</p> "
   ]
  },
  {
   "cell_type": "code",
   "execution_count": null,
   "id": "expanded-assets",
   "metadata": {},
   "outputs": [],
   "source": [
    "def add_comma(row):\n",
    "        if row.find(\",\") >= 0:\n",
    "            value = row\n",
    "            \n",
    "        elif 'nan' in row:\n",
    "            value = 'nan'\n",
    "            \n",
    "        elif row.find(\",\") == -1:\n",
    "            value = row[0] + \",\" + row[1:len(row)]\n",
    "        return value"
   ]
  },
  {
   "cell_type": "code",
   "execution_count": null,
   "id": "stable-sword",
   "metadata": {},
   "outputs": [],
   "source": [
    "cologne_pd_c['add_commas'] = cologne_pd_c['Longitude'].apply(add_comma)"
   ]
  },
  {
   "cell_type": "code",
   "execution_count": null,
   "id": "cardiovascular-biodiversity",
   "metadata": {},
   "outputs": [],
   "source": [
    "print(cologne_pd_c.shape)\n",
    "cologne_pd_c.columns"
   ]
  },
  {
   "cell_type": "code",
   "execution_count": null,
   "id": "relevant-fight",
   "metadata": {},
   "outputs": [],
   "source": [
    "cologne_pd_c_3 = cologne_pd_c[['Bezirk/Gebiet', 'Longitude', 'commas', 'add_commas']]"
   ]
  },
  {
   "cell_type": "code",
   "execution_count": null,
   "id": "spanish-encoding",
   "metadata": {},
   "outputs": [],
   "source": [
    "cologne_pd_c_3.head()"
   ]
  },
  {
   "cell_type": "code",
   "execution_count": null,
   "id": "detailed-accused",
   "metadata": {},
   "outputs": [],
   "source": [
    "cologne_pd_c_3[cologne_pd_c_3.commas == 0]"
   ]
  },
  {
   "cell_type": "code",
   "execution_count": null,
   "id": "acceptable-james",
   "metadata": {},
   "outputs": [],
   "source": [
    "cologne_pd_c_777 = cologne_pd_c.copy()"
   ]
  },
  {
   "cell_type": "code",
   "execution_count": null,
   "id": "subtle-cross",
   "metadata": {},
   "outputs": [],
   "source": [
    "cologne_pd_c_777.drop(['Longitude', 'commas'], axis=1, inplace=True)"
   ]
  },
  {
   "cell_type": "code",
   "execution_count": null,
   "id": "joint-ethnic",
   "metadata": {},
   "outputs": [],
   "source": [
    "cologne_pd_c_777.rename(columns={'add_commas': 'Longitudes', 'Latitude':'Latitudes'}, inplace=True)"
   ]
  },
  {
   "cell_type": "code",
   "execution_count": null,
   "id": "remarkable-spice",
   "metadata": {},
   "outputs": [],
   "source": [
    "cologne_pd_c_777.columns.to_list()"
   ]
  },
  {
   "cell_type": "code",
   "execution_count": null,
   "id": "presidential-option",
   "metadata": {},
   "outputs": [],
   "source": [
    "long_777 = cologne_pd_c_777.Longitudes.str.replace(',', '.', regex=False).astype(float)"
   ]
  },
  {
   "cell_type": "code",
   "execution_count": null,
   "id": "optical-crawford",
   "metadata": {},
   "outputs": [],
   "source": [
    "print(len(long_777))\n",
    "print(long_777[:4])\n",
    "print(type(long_777[3]))"
   ]
  },
  {
   "cell_type": "code",
   "execution_count": null,
   "id": "intelligent-vanilla",
   "metadata": {},
   "outputs": [],
   "source": [
    "cologne_pd_c_777['Longitudes'] = long_777"
   ]
  },
  {
   "cell_type": "code",
   "execution_count": null,
   "id": "impaired-aging",
   "metadata": {},
   "outputs": [],
   "source": [
    "lat_777 = cologne_pd_c_777.Latitudes.str.replace(',', '.', regex=False).astype(float)"
   ]
  },
  {
   "cell_type": "code",
   "execution_count": null,
   "id": "brazilian-partnership",
   "metadata": {},
   "outputs": [],
   "source": [
    "cologne_pd_c_777['Latitudes'] = lat_777"
   ]
  },
  {
   "cell_type": "code",
   "execution_count": null,
   "id": "express-tract",
   "metadata": {},
   "outputs": [],
   "source": [
    "cologne_pd_c_777.dtypes"
   ]
  },
  {
   "cell_type": "code",
   "execution_count": null,
   "id": "purple-contemporary",
   "metadata": {},
   "outputs": [],
   "source": [
    "colo_df = cologne_pd_c_777.copy()"
   ]
  },
  {
   "cell_type": "code",
   "execution_count": null,
   "id": "nominated-conversion",
   "metadata": {},
   "outputs": [],
   "source": [
    "# check if col there with helper function\n",
    "def col_exist(col, cols):\n",
    "    if col in cols:\n",
    "        return ('{col} {text}'.format(col=col, text = 'does exist.'))\n",
    "    else:\n",
    "        return ('{col} {text}'.format(col=col, text = 'does not exist.'))"
   ]
  },
  {
   "cell_type": "code",
   "execution_count": null,
   "id": "contemporary-winning",
   "metadata": {},
   "outputs": [],
   "source": [
    "print(col_exist(col='Longitudes', cols=colo_df.columns))\n",
    "print(col_exist(col='Latitudes', cols=colo_df.columns))"
   ]
  },
  {
   "cell_type": "markdown",
   "id": "thousand-present",
   "metadata": {},
   "source": []
  },
  {
   "cell_type": "code",
   "execution_count": null,
   "id": "familiar-florence",
   "metadata": {},
   "outputs": [],
   "source": [
    "drops_123 = coord_2[(coord_2['Latitude']  > 60)  | (coord_2['Latitude']  < 50.8)].index.to_list()\n",
    "drops_123"
   ]
  },
  {
   "cell_type": "code",
   "execution_count": null,
   "id": "combined-ceremony",
   "metadata": {},
   "outputs": [],
   "source": [
    "colo_df = colo_df.drop(index=drops_123)"
   ]
  },
  {
   "cell_type": "code",
   "execution_count": null,
   "id": "least-split",
   "metadata": {},
   "outputs": [],
   "source": [
    "colo_df.describe()"
   ]
  },
  {
   "cell_type": "markdown",
   "id": "balanced-comparative",
   "metadata": {},
   "source": [
    "<p>\n",
    "The max longitude of 9.955520 is suspicious.\n",
    "</p> \n"
   ]
  },
  {
   "cell_type": "code",
   "execution_count": null,
   "id": "physical-coach",
   "metadata": {},
   "outputs": [],
   "source": [
    "colo_df[colo_df.Longitudes==colo_df.Longitudes.max()]"
   ]
  },
  {
   "cell_type": "markdown",
   "id": "sexual-person",
   "metadata": {},
   "source": [
    "<p>\n",
    "The geo coordinates are pointig to 36214 Nentershausen, Germany in Hesse.<br>\n",
    "The geo coordinates of Richartzstr. 6, Cologne are 50.939500, 6.955570.\n",
    "</p> "
   ]
  },
  {
   "cell_type": "code",
   "execution_count": null,
   "id": "double-whole",
   "metadata": {},
   "outputs": [],
   "source": [
    "colo_df[colo_df.Longitudes > 7.5]"
   ]
  },
  {
   "cell_type": "code",
   "execution_count": null,
   "id": "filled-medline",
   "metadata": {},
   "outputs": [],
   "source": [
    "colo_df.loc[549, 'Longitudes'] = 6.955570\n",
    "colo_df.loc[1081, 'Longitudes'] = 6.954040\n",
    "\n",
    "# Check\n",
    "print(colo_df.loc[549, 'Longitudes'])\n",
    "print(colo_df.loc[1081, 'Longitudes'])\n"
   ]
  },
  {
   "cell_type": "code",
   "execution_count": null,
   "id": "comfortable-headset",
   "metadata": {},
   "outputs": [],
   "source": [
    "print(colo_df.Longitudes.max())"
   ]
  },
  {
   "cell_type": "markdown",
   "id": "wrong-directive",
   "metadata": {},
   "source": [
    "#### Variable: 'Gebühr je 20 Minuten'"
   ]
  },
  {
   "cell_type": "code",
   "execution_count": null,
   "id": "helpful-captain",
   "metadata": {},
   "outputs": [],
   "source": [
    "print(cologne_pd['Gebuehr je 15 Minuten'].head())\n",
    "print(type(cologne_pd.loc[1, 'Gebuehr je 15 Minuten']))"
   ]
  },
  {
   "cell_type": "code",
   "execution_count": null,
   "id": "written-brook",
   "metadata": {},
   "outputs": [],
   "source": [
    "# str.strip()  function is used to remove or strip the leading \n",
    "# and trailing space of the column in pandas dataframe.\n",
    "\n",
    "gebuehren = \\\n",
    "cols=colo_df['Gebuehr je 15 Minuten'].str.replace(',', '.').str.replace('€', \"\").str.strip().\\\n",
    "astype(float)\n",
    "\n",
    "print(gebuehren.head())\n",
    "print(type(gebuehren[1]))"
   ]
  },
  {
   "cell_type": "code",
   "execution_count": null,
   "id": "suitable-beach",
   "metadata": {},
   "outputs": [],
   "source": [
    "colo_df['Gebühr je 15 Minuten'] = gebuehren\n",
    "colo_df['Gebühr je 15 Minuten'].head()"
   ]
  },
  {
   "cell_type": "markdown",
   "id": "educated-bachelor",
   "metadata": {},
   "source": [
    "#### Variable: Stellplätze"
   ]
  },
  {
   "cell_type": "code",
   "execution_count": null,
   "id": "auburn-custom",
   "metadata": {},
   "outputs": [],
   "source": [
    "cologne_pd = colo_df.assign(Stellplätze = cologne_pd['Stellplätze'].\\\n",
    "                            fillna(np.median(0).astype(int)))\n",
    "\n",
    "cologne_pd['Stellplätze'].isna().sum()"
   ]
  },
  {
   "cell_type": "markdown",
   "id": "guided-calcium",
   "metadata": {},
   "source": [
    "#### Variable: Roter Punkt\n",
    "<p>\n",
    "is unnecessary here and dropped.\n",
    "</p> \n"
   ]
  },
  {
   "cell_type": "code",
   "execution_count": null,
   "id": "exotic-philadelphia",
   "metadata": {},
   "outputs": [],
   "source": [
    "colo_df.drop('Roter Punkt', axis=1, inplace=True)\n"
   ]
  },
  {
   "cell_type": "code",
   "execution_count": null,
   "id": "yellow-practice",
   "metadata": {},
   "outputs": [],
   "source": [
    "colo_df.columns.to_list()"
   ]
  },
  {
   "cell_type": "code",
   "execution_count": null,
   "id": "overall-boston",
   "metadata": {},
   "outputs": [],
   "source": [
    "colo_df.columns = colo_df.columns.str.replace(\" \", \"_\")"
   ]
  },
  {
   "cell_type": "code",
   "execution_count": null,
   "id": "natural-webster",
   "metadata": {},
   "outputs": [],
   "source": [
    "colo_df.columns.to_list()"
   ]
  },
  {
   "cell_type": "markdown",
   "id": "elementary-syndication",
   "metadata": {},
   "source": [
    "### Group by"
   ]
  },
  {
   "cell_type": "code",
   "execution_count": null,
   "id": "economic-british",
   "metadata": {},
   "outputs": [],
   "source": [
    "bezirk_gb = colo_df.groupby('Bezirk/Gebiet')['PSA-Nr.'].count()\n",
    "print(type(bezirk_gb))\n",
    "print(len(bezirk_gb))\n",
    "print(bezirk_gb)"
   ]
  },
  {
   "cell_type": "code",
   "execution_count": null,
   "id": "minute-benchmark",
   "metadata": {},
   "outputs": [],
   "source": [
    "bezirk_gb.sort_values(ascending=False).plot(kind='bar',\n",
    "                                            edgecolor='black', linewidth=3,\n",
    "                                            color=['cyan', 'magenta', 'red'],\n",
    "                                            figsize=(14,4), \n",
    "                                            title='Parking meter by city district')\n",
    "plt.grid()\n",
    "plt.show()"
   ]
  },
  {
   "cell_type": "code",
   "execution_count": null,
   "id": "directed-california",
   "metadata": {},
   "outputs": [],
   "source": [
    "abschnitt_gb = colo_df.groupby('Abschnitt/-bis')['Stellplätze'].sum()\n",
    "abschnitt_gb_df = pd.DataFrame(abschnitt_gb)\n",
    "abschnitt_gb_df.info()"
   ]
  },
  {
   "cell_type": "code",
   "execution_count": null,
   "id": "related-stand",
   "metadata": {},
   "outputs": [],
   "source": [
    "abschnitt_gb_df.head()"
   ]
  },
  {
   "cell_type": "code",
   "execution_count": null,
   "id": "creative-stability",
   "metadata": {},
   "outputs": [],
   "source": [
    "abschnitt_gb_df.tail()"
   ]
  },
  {
   "cell_type": "code",
   "execution_count": null,
   "id": "concerned-vitamin",
   "metadata": {},
   "outputs": [],
   "source": [
    "top_ten_stellplätze = abschnitt_gb.sort_values(ascending=False)[:10]\n",
    "print(top_ten_stellplätze)"
   ]
  },
  {
   "cell_type": "code",
   "execution_count": null,
   "id": "hourly-thumbnail",
   "metadata": {},
   "outputs": [],
   "source": [
    "top_ten_stellplätze.plot(kind='bar', edgecolor='black', linewidth=3, figsize=(10,4),\n",
    "                         color=['black', 'green', 'red'], legend=False,\n",
    "                         title='Sum of parking spaces by section')\n",
    "\n",
    "plt.rc('axes', titlesize=20)\n",
    "\n",
    "font = {'family' : 'arial',\n",
    "        'weight' : 'bold',\n",
    "        'size'   : 18}\n",
    "plt.rc('font', **font)  # pass in the font dict as kwargs\n",
    " \n",
    "plt.grid()\n",
    "plt.show()"
   ]
  },
  {
   "cell_type": "markdown",
   "id": "earned-reynolds",
   "metadata": {},
   "source": [
    "# Geopspatial data exploration\n",
    "\n",
    "<p>\n",
    "In the data the variables\n",
    "'GeoKoordinateNord' is 'Latitude'<br>\n",
    "'GeoKoordinateOst' is'Longitude'.\n",
    "</p> \n",
    "\n",
    "<p>\n",
    "The terms are renamed below.\n",
    "</p> \n"
   ]
  },
  {
   "cell_type": "code",
   "execution_count": null,
   "id": "still-trinidad",
   "metadata": {},
   "outputs": [],
   "source": [
    "colo_df_2 = colo_df.copy()\n",
    "print(colo_df_2.shape)\n",
    "print(type(colo_df_2))"
   ]
  },
  {
   "cell_type": "code",
   "execution_count": null,
   "id": "assisted-handle",
   "metadata": {},
   "outputs": [],
   "source": [
    "colo_df_2 = colo_df_2.dropna(subset=['Latitudes', 'Longitudes'])\n",
    "print(colo_df_2.shape)"
   ]
  },
  {
   "cell_type": "code",
   "execution_count": null,
   "id": "interstate-listening",
   "metadata": {},
   "outputs": [],
   "source": [
    "Latitudes = colo_df_2['Latitudes']\n",
    "Longitudes = colo_df_2['Longitudes']"
   ]
  },
  {
   "cell_type": "code",
   "execution_count": null,
   "id": "dominican-burke",
   "metadata": {},
   "outputs": [],
   "source": [
    "geocoord_111 = colo_df_2[['Latitudes', 'Longitudes']]\n",
    "geocoord_111.info()"
   ]
  },
  {
   "cell_type": "code",
   "execution_count": null,
   "id": "olive-sandwich",
   "metadata": {},
   "outputs": [],
   "source": [
    "geocoord_111.describe()"
   ]
  },
  {
   "cell_type": "code",
   "execution_count": null,
   "id": "critical-sound",
   "metadata": {},
   "outputs": [],
   "source": [
    "geocoord_111.dtypes"
   ]
  },
  {
   "cell_type": "code",
   "execution_count": null,
   "id": "visible-grade",
   "metadata": {},
   "outputs": [],
   "source": [
    "fig, (ax1, ax2, ax3) = plt.subplots(3,1, figsize=(9,25))\n",
    "\n",
    "sns.scatterplot(x='Latitudes', y='Longitudes', \n",
    "                data=colo_df_2, color='r', edgecolor='black', ax=ax1)\n",
    "ax1.set_title('Locations of parking meters in Cologne, Germany in terms of longitude and latitude', \n",
    "              fontsize=12)\n",
    "# ax1.set_xlim(left=50.8, right=51)\n",
    "# ax1.set_ylim(bottom=6.8, top=7.15)\n",
    "\n",
    "\n",
    "sns.regplot(x='Latitudes', y='Longitudes', \n",
    "            data=colo_df_2, color='g', ax=ax2, scatter=True,\n",
    "            scatter_kws={'s': 40, 'alpha': 0.9, 'color': 'red',\n",
    "                         'edgecolor':'black', 'linewidth':0.4, 'alpha':0.8})\n",
    "ax2.set_title('Regression plot', fontsize=14)\n",
    "# ax2.set_xlim(left=50.8, right=51)\n",
    "# ax2.set_ylim(bottom=6.8, top=7.15)\n",
    "\n",
    "\n",
    "sns.scatterplot(x='Latitudes', y='Longitudes',\n",
    "                data=colo_df_2, color='r', edgecolor='black', ax=ax3,\n",
    "                hue='Bezirk/Gebiet', legend='brief')\n",
    "ax3.set_title('Parking meters colored by district', fontsize=14)\n",
    "ax3.set_xlim(left=50.8, right=51)\n",
    "ax3.set_ylim(bottom=6.8, top=7.15)\n",
    "ax3.legend(bbox_to_anchor=(1,1), loc=\"upper left\", ncol=2)\n",
    "\n",
    "\n",
    "for ax in fig.axes:\n",
    "    plt.sca(ax)\n",
    "    plt.xticks(rotation=90)\n",
    "\n",
    "plt.subplots_adjust(hspace=0.2)\n",
    "plt.show()"
   ]
  },
  {
   "cell_type": "markdown",
   "id": "fixed-chrome",
   "metadata": {},
   "source": [
    "## Constructing a geopandas data frame from the parking meters geocoordinates\n",
    "\n",
    "<p>\n",
    "A geopandas data frame needs a \"geometry\" column.<br>\n",
    "This is a special geography format.<br>\n",
    "The schools data frame is a normal pandas data frame.<br>\n",
    "It stores lat and long, but not in the geometry format.<br>\n",
    "The shapely package offers options to create geographic formats like points, lines, and polygons.<br>\n",
    "The school locations are points.<br>\n",
    "Below the lats and longs are turned into shape points.\n",
    "</p> "
   ]
  },
  {
   "cell_type": "code",
   "execution_count": null,
   "id": "special-democracy",
   "metadata": {},
   "outputs": [],
   "source": [
    "# from shapely.geometry import Point\n",
    "# colo_df_2.columns\n",
    "\n",
    "colo_df_2['geometry'] = colo_df_2.apply(lambda x: Point((x.Longitudes, x.Latitudes)), axis=1)"
   ]
  },
  {
   "cell_type": "code",
   "execution_count": null,
   "id": "conceptual-style",
   "metadata": {},
   "outputs": [],
   "source": [
    "colo_df_2[['PSA-Nr.', 'Latitudes', 'Longitudes', 'geometry']].head()"
   ]
  },
  {
   "cell_type": "markdown",
   "id": "forced-trial",
   "metadata": {},
   "source": [
    "#### Converting the data frame to a geopandas df."
   ]
  },
  {
   "cell_type": "code",
   "execution_count": null,
   "id": "forward-laundry",
   "metadata": {},
   "outputs": [],
   "source": [
    "pm_geopd = geop.GeoDataFrame(colo_df_2, crs=\"EPSG:4326\", geometry='geometry')\n",
    "\n",
    "print(type(pm_geopd))\n",
    "print(pm_geopd.crs)\n",
    "# print(pm_geopd.info())\n",
    "# pm_geopd"
   ]
  },
  {
   "cell_type": "markdown",
   "id": "pressed-registration",
   "metadata": {},
   "source": [
    "## Shapefiles of cologone\n",
    "\n",
    "<p>\n",
    "used with<br>\n",
    "<b>GeoPandas 0.9.0</b><br>\n",
    "\"GeoPandas is an open source project to make working with geospatial data in python easier. GeoPandas extends the datatypes used by pandas to allow spatial operations on geometric types. Geometric operations are performed by shapely. Geopandas further depends on fiona for file access and matplotlib for plotting.\"<br>\n",
    "<a href=\"https://geopandas.org/\" target=\"_blank\">GeoPandas</a> \n",
    "\n",
    "</p> \n"
   ]
  },
  {
   "cell_type": "code",
   "execution_count": null,
   "id": "bright-mayor",
   "metadata": {},
   "outputs": [],
   "source": [
    "sf_1 = \\\n",
    "geop.read_file('datasets/Cologne_Stadtteile/Stadtteil.shp', \n",
    "               delimiter=',')"
   ]
  },
  {
   "cell_type": "code",
   "execution_count": null,
   "id": "continuing-pharmaceutical",
   "metadata": {},
   "outputs": [],
   "source": [
    "sf_1  = sf_1.to_crs('EPSG:4326')"
   ]
  },
  {
   "cell_type": "code",
   "execution_count": null,
   "id": "stuck-guitar",
   "metadata": {},
   "outputs": [],
   "source": [
    "sf_1.columns"
   ]
  },
  {
   "cell_type": "code",
   "execution_count": null,
   "id": "fourth-perth",
   "metadata": {},
   "outputs": [],
   "source": [
    "sf_1.geometry.crs"
   ]
  },
  {
   "cell_type": "code",
   "execution_count": null,
   "id": "north-shoot",
   "metadata": {},
   "outputs": [],
   "source": [
    "sf_1.geometry[:1]"
   ]
  },
  {
   "cell_type": "code",
   "execution_count": null,
   "id": "ready-chain",
   "metadata": {},
   "outputs": [],
   "source": [
    "print(type(sf_1))\n",
    "print(sf_1.dtypes)"
   ]
  },
  {
   "cell_type": "code",
   "execution_count": null,
   "id": "czech-programming",
   "metadata": {},
   "outputs": [],
   "source": [
    "print(sf_1.shape)"
   ]
  },
  {
   "cell_type": "code",
   "execution_count": null,
   "id": "qualified-rebate",
   "metadata": {},
   "outputs": [],
   "source": [
    "print(sf_1.columns)"
   ]
  },
  {
   "cell_type": "code",
   "execution_count": null,
   "id": "hazardous-subcommittee",
   "metadata": {},
   "outputs": [],
   "source": [
    "print(sf_1.index)"
   ]
  },
  {
   "cell_type": "code",
   "execution_count": null,
   "id": "accredited-stocks",
   "metadata": {},
   "outputs": [],
   "source": [
    "nuniquue_col = [sf_1[i].nunique() for i in sf_1]\n",
    "nuniquue_col"
   ]
  },
  {
   "cell_type": "code",
   "execution_count": null,
   "id": "controversial-patch",
   "metadata": {},
   "outputs": [],
   "source": [
    "print(pd.DataFrame(zip(sf_1.count(), sf_1.isna().sum(), nuniquue_col), \n",
    "                   columns=['n_values', 'nas', 'unique']))"
   ]
  },
  {
   "cell_type": "code",
   "execution_count": null,
   "id": "posted-emerald",
   "metadata": {},
   "outputs": [],
   "source": [
    "print(sf_1.info())"
   ]
  },
  {
   "cell_type": "markdown",
   "id": "olive-commons",
   "metadata": {},
   "source": [
    "There are 86 eight districts in Cologne."
   ]
  },
  {
   "cell_type": "code",
   "execution_count": null,
   "id": "mobile-controversy",
   "metadata": {},
   "outputs": [],
   "source": [
    "sf_1.head()"
   ]
  },
  {
   "cell_type": "code",
   "execution_count": null,
   "id": "medieval-tuesday",
   "metadata": {},
   "outputs": [],
   "source": [
    "print(type(sf_1))\n",
    "print(sf_1.geometry.crs)\n",
    "sf_1.crs"
   ]
  },
  {
   "cell_type": "code",
   "execution_count": null,
   "id": "silver-pocket",
   "metadata": {},
   "outputs": [],
   "source": [
    "# sf_33 = sf_1.to_crs('EPSG:4328')\n",
    "# sf_33 "
   ]
  },
  {
   "cell_type": "markdown",
   "id": "operational-museum",
   "metadata": {},
   "source": [
    "Exploring the shape of Cologne visually."
   ]
  },
  {
   "cell_type": "code",
   "execution_count": null,
   "id": "needed-definition",
   "metadata": {},
   "outputs": [],
   "source": [
    "fig, (ax1, ax2) = plt.subplots(1,2, figsize=(8,5))\n",
    "sf_1.plot(color='yellow', ax=ax1, edgecolor='black')\n",
    "ax1.set_title('Shape')\n",
    "sf_1.plot(cmap='Set3', ax=ax2)\n",
    "ax2.set_title('Colormap')\n",
    "plt.show()"
   ]
  },
  {
   "cell_type": "markdown",
   "id": "excited-shape",
   "metadata": {},
   "source": [
    "#### Boundaries of geometries\n",
    "\n",
    "geopandas.GeoSeries.boundary\n",
    "\n",
    "Returns a GeoSeries of lower dimensional objects representing each geometries’s \n",
    "set-theoretic boundary."
   ]
  },
  {
   "cell_type": "code",
   "execution_count": null,
   "id": "mineral-reporter",
   "metadata": {},
   "outputs": [],
   "source": [
    "sf1_boundaries = sf_1.geometry.boundary\n",
    "print(sf1_boundaries[:3])\n",
    "sf1_boundaries.plot(color='seagreen')\n",
    "plt.show()"
   ]
  },
  {
   "cell_type": "markdown",
   "id": "nearby-writer",
   "metadata": {},
   "source": [
    "geopandas.GeoSeries.exterior\n",
    "\n",
    "Returns a GeoSeries of LinearRings representing the outer boundary of each polygon in the GeoSeries."
   ]
  },
  {
   "cell_type": "code",
   "execution_count": null,
   "id": "japanese-latest",
   "metadata": {},
   "outputs": [],
   "source": [
    "sf1_exterior_boundaries = sf_1.geometry.exterior\n",
    "print(sf1_exterior_boundaries[:3])\n",
    "sf1_exterior_boundaries.plot()\n",
    "plt.show()"
   ]
  },
  {
   "cell_type": "markdown",
   "id": "forward-california",
   "metadata": {},
   "source": [
    "<p>\n",
    "Extracting the outer boundaries of a geometry series.\n",
    "</p>\n",
    "\n",
    "<strong>GeoSeries.unary_union</strong>\n",
    "\n",
    "<p>\n",
    "Return a geometry containing the union of all geometries in the GeoSeries.\n",
    "</p>\n"
   ]
  },
  {
   "cell_type": "code",
   "execution_count": null,
   "id": "behind-gross",
   "metadata": {},
   "outputs": [],
   "source": [
    "sf_1_unary = sf_1.geometry.unary_union\n",
    "sf_1_unary"
   ]
  },
  {
   "cell_type": "markdown",
   "id": "fifteen-silicon",
   "metadata": {},
   "source": [
    "Further below this shape is used to caculate the center or centroid of Cologne."
   ]
  },
  {
   "cell_type": "code",
   "execution_count": null,
   "id": "optical-intention",
   "metadata": {},
   "outputs": [],
   "source": [
    "# for i in pd.Series(sf_1.iloc[0,4]):\n",
    "    # print(i)"
   ]
  },
  {
   "cell_type": "markdown",
   "id": "cross-absorption",
   "metadata": {},
   "source": [
    "#### Coordinate Reference Systems\n",
    "<p>\n",
    "\"The Coordinate Reference System (CRS) is important because the geometric shapes in a GeoSeries or GeoDataFrame object are simply a collection of coordinates in an arbitrary space. A CRS tells Python how those coordinates relate to places on the Earth.\"<br>\n",
    "<a href=\"https://geopandas.org/docs/user_guide/projections.html\" target=\"_blank\">geopandas</a> \n",
    "</p> \n",
    "\n",
    "<p>\n",
    "The geo coordinates of the parking meters are in CRS \"WGS 84\".<br>\n",
    "The geo coordinates of the shape file are in \"WGS 84 / UTM zone 32N\".<br>\n",
    "Latest when plotted together this raises a conflict.\n",
    "</p> "
   ]
  },
  {
   "cell_type": "code",
   "execution_count": null,
   "id": "accessible-struggle",
   "metadata": {},
   "outputs": [],
   "source": [
    "sf_1.geometry.crs"
   ]
  },
  {
   "cell_type": "code",
   "execution_count": null,
   "id": "proud-backup",
   "metadata": {},
   "outputs": [],
   "source": [
    "sf_2 = sf_1.copy()\n",
    "\n",
    "print(type(sf_2))\n",
    "print(sf_2.columns.to_list())\n",
    "print(sf_2.head(5))"
   ]
  },
  {
   "cell_type": "code",
   "execution_count": null,
   "id": "earned-quilt",
   "metadata": {},
   "outputs": [],
   "source": [
    "sf_2=sf_2.to_crs('EPSG:4326') \n",
    "sf_2.crs"
   ]
  },
  {
   "cell_type": "code",
   "execution_count": null,
   "id": "central-motor",
   "metadata": {},
   "outputs": [],
   "source": [
    "# for i in pd.Series(sf_2.iloc[0,4]):\n",
    "    # print(i)"
   ]
  },
  {
   "cell_type": "markdown",
   "id": "returning-marking",
   "metadata": {},
   "source": [
    "Look into variables"
   ]
  },
  {
   "cell_type": "code",
   "execution_count": null,
   "id": "growing-inspector",
   "metadata": {},
   "outputs": [],
   "source": [
    "colog_districts =sf_2.STT_NAME.unique().tolist()\n",
    "colog_districts[:5]"
   ]
  },
  {
   "cell_type": "markdown",
   "id": "smooth-positive",
   "metadata": {},
   "source": [
    "#### Shape of district: Flittard"
   ]
  },
  {
   "cell_type": "code",
   "execution_count": null,
   "id": "ancient-minister",
   "metadata": {},
   "outputs": [],
   "source": [
    "sf_2.loc[0, 'geometry']"
   ]
  },
  {
   "cell_type": "markdown",
   "id": "vocal-keyboard",
   "metadata": {},
   "source": [
    "#### Shape of district: Dellbrück"
   ]
  },
  {
   "cell_type": "code",
   "execution_count": null,
   "id": "honey-transaction",
   "metadata": {},
   "outputs": [],
   "source": [
    "sf_2.loc[2, 'geometry']"
   ]
  },
  {
   "cell_type": "markdown",
   "id": "sitting-tract",
   "metadata": {},
   "source": [
    "Plot the shape of a special district by subsetting with loc."
   ]
  },
  {
   "cell_type": "code",
   "execution_count": null,
   "id": "intellectual-centre",
   "metadata": {},
   "outputs": [],
   "source": [
    "sf_2.loc[sf_2.STT_NAME=='Rodenkirchen']"
   ]
  },
  {
   "cell_type": "code",
   "execution_count": null,
   "id": "reasonable-attention",
   "metadata": {},
   "outputs": [],
   "source": [
    "sf_2.loc[sf_2.STT_NAME=='Rodenkirchen'].plot(edgecolor='black', linewidth=4,\n",
    "                                             color='yellowgreen')\n",
    "plt.show()"
   ]
  },
  {
   "cell_type": "code",
   "execution_count": null,
   "id": "sunset-minutes",
   "metadata": {},
   "outputs": [],
   "source": [
    "sf_2.loc[sf_2.STT_NAME == 'Langel']"
   ]
  },
  {
   "cell_type": "code",
   "execution_count": null,
   "id": "hollywood-upper",
   "metadata": {},
   "outputs": [],
   "source": [
    "sf_2.loc[sf_2.STT_NAME == 'Langel'].plot(edgecolor='black', linewidth=4,\n",
    "                                         color='yellowgreen')\n",
    "plt.show()"
   ]
  },
  {
   "cell_type": "markdown",
   "id": "preliminary-attempt",
   "metadata": {},
   "source": [
    "#### Shape of cologne"
   ]
  },
  {
   "cell_type": "code",
   "execution_count": null,
   "id": "blank-madison",
   "metadata": {
    "tags": []
   },
   "outputs": [],
   "source": [
    "fig, (ax1, ax2) = plt.subplots(2,1, figsize=(15,15))\n",
    "\n",
    "sf_2.plot(color='gold', edgecolor='black', linewidth=1, ax=ax1)\n",
    "ax1.set_title(\"Shape of Cologne\")\n",
    "\n",
    "sf_2.plot(edgecolor='black', linewidth=1, ax=ax2, legend=True, column='STT_NAME',\n",
    "          legend_kwds={ 'bbox_to_anchor':(1, 1), 'ncol':3, 'loc':'upper left'})\n",
    "ax2.set_title(\"Shape of Cologne colored by district\")\n",
    "\n",
    "\n",
    "plt.show()"
   ]
  },
  {
   "cell_type": "markdown",
   "id": "iraqi-compound",
   "metadata": {},
   "source": [
    "### Working with attribute methods of Geoseries geometry data\n",
    "<p>\n",
    "starting by:<br> \n",
    "</p> \n",
    "\n",
    "#### Calculating the areas of Cologne\n",
    "Examples"
   ]
  },
  {
   "cell_type": "code",
   "execution_count": null,
   "id": "nervous-setting",
   "metadata": {},
   "outputs": [],
   "source": [
    "sf_2.loc[sf_2.STT_NAME=='Flittard'].plot(edgecolor='black', linewidth=4,\n",
    "                                             color='yellowgreen')\n",
    "plt.title('Flittard')\n",
    "plt.show()"
   ]
  },
  {
   "cell_type": "code",
   "execution_count": null,
   "id": "jewish-running",
   "metadata": {},
   "outputs": [],
   "source": [
    "area_flit = sf_1.geometry[0].area\n",
    "print(\"Area of {name}: {area}\".format(name= sf_1.loc[0, 'STT_NAME'], \n",
    "                                      area= area_flit))\n",
    "print(\"Area of {name} by 'SHAPE_AREA': {area}\".format(name= sf_1.loc[0, 'STT_NAME'], \n",
    "                                                      area= sf_1.loc[0, 'SHAPE_AREA']))"
   ]
  },
  {
   "cell_type": "code",
   "execution_count": null,
   "id": "furnished-command",
   "metadata": {},
   "outputs": [],
   "source": [
    "sf_2.loc[sf_2.STT_NAME=='Altstadt/Süd'].plot(edgecolor='black', linewidth=4,\n",
    "                                             color='yellowgreen')\n",
    "plt.title('Altstadt/Süd')\n",
    "plt.show()"
   ]
  },
  {
   "cell_type": "code",
   "execution_count": null,
   "id": "recent-halloween",
   "metadata": {},
   "outputs": [],
   "source": [
    "area_alt = sf_1.geometry[10].area\n",
    "print(\"Area of {name}: {area}\".format(name= sf_1.loc[10, 'STT_NAME'], area= area_alt))\n",
    "print(\"Area of {name} by 'SHAPE_AREA': {area}\".format(name= sf_1.loc[10, 'STT_NAME'], \n",
    "                                                      area= sf_1.loc[10, 'SHAPE_AREA']))"
   ]
  },
  {
   "cell_type": "code",
   "execution_count": null,
   "id": "dimensional-concentrate",
   "metadata": {},
   "outputs": [],
   "source": [
    "all_areas = sf_1.geometry.area "
   ]
  },
  {
   "cell_type": "markdown",
   "id": "recreational-blues",
   "metadata": {},
   "source": [
    "What crs is applied here?"
   ]
  },
  {
   "cell_type": "code",
   "execution_count": null,
   "id": "closed-commodity",
   "metadata": {},
   "outputs": [],
   "source": [
    "sf_1.geometry.crs"
   ]
  },
  {
   "cell_type": "markdown",
   "id": "scientific-refund",
   "metadata": {},
   "source": [
    "<p>\n",
    "The WGS 84 -- WGS84 - World Geodetic System 1984, used in GPS uses the CRS-norm: EPSG:4326.<br>\n",
    "<a href=\"https://epsg.io/4326\" target=\"_blank\">epsg</a> \n",
    "</p> \n",
    "\n",
    "<p>\n",
    "Above the areas are calculated in decimal places according to the EPSG: 4326 crs.<br>\n",
    "This is not human friendly.<br>\n",
    "A better understanding is enabled by calculating m^2 and km^2.<br>\n",
    "This only works only for small distances.<br>\n",
    "Otherwise you have to correct for the fact that the\n",
    "earth is a sphere and not a disc ;-)<br>\n",
    "More on <a href=\"https://gis.stackexchange.com/questions/242545/how-can-epsg3857-be-in-meters\" target=\"_blank\">'How can EPSG:3857 be in meters?'</a> here.\n",
    "</p>\n",
    "\n",
    "<p>\n",
    "Using epsg=3857 for meters as a csr returns m^2.\n",
    "</p> \n",
    "\n",
    "<p>\n",
    "<b>Convert m squared to km squared:</b><br>\n",
    "\"How many m squared in 1 km squared? The answer is 1.000.000.\n",
    "We assume you are converting between square metre and square kilometre.\n",
    "You can view more details on each measurement unit:\n",
    "m squared or km squared\n",
    "The SI derived unit for area is the square meter.\n",
    "1 square meter is equal to 1.0E-6 km squared.\"<br>\n",
    "<a href=\"https://www.convertunits.com/from/m+squared/to/km+squared\" target=\"_blank\">convertunits.com</a> \n",
    "</p> \n"
   ]
  },
  {
   "cell_type": "code",
   "execution_count": null,
   "id": "acoustic-recommendation",
   "metadata": {},
   "outputs": [],
   "source": [
    "colog_m3857 = sf_1.to_crs(epsg=3857)\n",
    "colog_m3857.crs"
   ]
  },
  {
   "cell_type": "code",
   "execution_count": null,
   "id": "several-letter",
   "metadata": {},
   "outputs": [],
   "source": [
    "sf_1[['STT_NAME', 'geometry']].head(2)"
   ]
  },
  {
   "cell_type": "code",
   "execution_count": null,
   "id": "demonstrated-irish",
   "metadata": {},
   "outputs": [],
   "source": [
    "colog_m3857[['STT_NAME', 'geometry']].head(2)"
   ]
  },
  {
   "cell_type": "markdown",
   "id": "expected-contract",
   "metadata": {},
   "source": [
    "The POLYGON values have changed."
   ]
  },
  {
   "cell_type": "code",
   "execution_count": null,
   "id": "written-daisy",
   "metadata": {},
   "outputs": [],
   "source": [
    "colog_m_areas = colog_m3857.geometry.area\n",
    "colog_m_areas[:2]"
   ]
  },
  {
   "cell_type": "markdown",
   "id": "administrative-thomas",
   "metadata": {},
   "source": [
    "Conversion of meters to km^2."
   ]
  },
  {
   "cell_type": "code",
   "execution_count": null,
   "id": "champion-casting",
   "metadata": {},
   "outputs": [],
   "source": [
    "conversion_m_km = 1000000\n",
    "colog_areas_km = colog_m_areas / conversion_m_km\n",
    "colog_areas_km = [round(v,4) for v in colog_areas_km]\n",
    "\n",
    "print(type(colog_areas_km))\n",
    "print(type(colog_areas_km[0]))"
   ]
  },
  {
   "cell_type": "markdown",
   "id": "raised-shuttle",
   "metadata": {},
   "source": [
    "Conversion of meters km^2 to miles."
   ]
  },
  {
   "cell_type": "code",
   "execution_count": null,
   "id": "eastern-prime",
   "metadata": {},
   "outputs": [],
   "source": [
    "conversion_km_miles = 0.3861\n",
    "colog_areas_miles = [v*conversion_km_miles for v in colog_areas_km]\n",
    "colog_areas_miles = [round(float(v),4) for v in colog_areas_miles]\n",
    "# colog_areas_miles"
   ]
  },
  {
   "cell_type": "markdown",
   "id": "canadian-convention",
   "metadata": {},
   "source": [
    "Stylish data frame<br>\n",
    "<a href=\"https://pandas.pydata.org/pandas-docs/stable/user_guide/style.html\" \n",
    "target=\"_blank\">Styling</a> "
   ]
  },
  {
   "cell_type": "code",
   "execution_count": null,
   "id": "technical-stopping",
   "metadata": {},
   "outputs": [],
   "source": [
    "styles = [\n",
    "    dict(selector=\"th\", props=[(\"font-size\", \"110%\"),\n",
    "                               (\"text-align\", \"center\")]),\n",
    "    dict(selector=\"caption\", props=[(\"caption-side\", \"top\"), (\"font-size\", \"150%\")])]"
   ]
  },
  {
   "cell_type": "code",
   "execution_count": null,
   "id": "virtual-island",
   "metadata": {},
   "outputs": [],
   "source": [
    "colog_areas_df = \\\n",
    "pd.DataFrame(zip(colog_m_areas, colog_areas_km, colog_areas_miles, all_areas), \n",
    "             columns=['meters', 'km', 'miles', \"WGS84\"] )\n",
    "colog_areas_df_style = \\\n",
    "colog_areas_df.style.set_table_styles(styles).set_caption(\"Size of Cologne areas\")"
   ]
  },
  {
   "cell_type": "code",
   "execution_count": null,
   "id": "dominant-brick",
   "metadata": {},
   "outputs": [],
   "source": [
    "colog_areas_df_style"
   ]
  },
  {
   "cell_type": "markdown",
   "id": "cellular-aviation",
   "metadata": {},
   "source": [
    "#### GeoSeries Centroids\n",
    "<p>\n",
    "centers are derived from geometry variables.<br>\n",
    "Geometry variables are shapes or areas consisting of line or polygons.<br>\n",
    "Centroids are point in the centers of areas.\n",
    "</p> "
   ]
  },
  {
   "cell_type": "code",
   "execution_count": null,
   "id": "forward-today",
   "metadata": {},
   "outputs": [],
   "source": [
    "# sf_1.info()"
   ]
  },
  {
   "cell_type": "code",
   "execution_count": null,
   "id": "enabling-antibody",
   "metadata": {},
   "outputs": [],
   "source": [
    "sf_geo = sf_1.geometry\n",
    "print(type(sf_geo ))\n",
    "\n",
    "sf_geo_buffer = sf_geo.boundary\n",
    "sf_geo_buffer.plot()"
   ]
  },
  {
   "cell_type": "code",
   "execution_count": null,
   "id": "chicken-vatican",
   "metadata": {},
   "outputs": [],
   "source": [
    "sf_geo "
   ]
  },
  {
   "cell_type": "code",
   "execution_count": null,
   "id": "collective-camping",
   "metadata": {},
   "outputs": [],
   "source": [
    "sf_1.crs"
   ]
  },
  {
   "cell_type": "code",
   "execution_count": null,
   "id": "following-disney",
   "metadata": {},
   "outputs": [],
   "source": [
    "sf_2.crs"
   ]
  },
  {
   "cell_type": "code",
   "execution_count": null,
   "id": "retained-coverage",
   "metadata": {},
   "outputs": [],
   "source": [
    "sf_566_m = sf_2.to_crs(\"EPSG:3857\")"
   ]
  },
  {
   "cell_type": "markdown",
   "id": "intermediate-judgment",
   "metadata": {},
   "source": [
    "<p>\n",
    "This simple explicit conversion above was necessary on ground of an error below.<br>\n",
    "The distances were calculated with different measures. This is corrected now.<br>\n",
    "The Point values were deviating extremly.<br>\n",
    "Why was this the case?<br>\n",
    "It was clear that a pseudo mercator projection in meter was required.<br>\n",
    "It seems that the whole GeoDataFrame must be converted to \"EPSG:3857\".<br>\n",
    "Before only a subset (e.g. Ensen was converted).<br>\n",
    "Figuring this out was time consuming.\n",
    "</p> \n"
   ]
  },
  {
   "cell_type": "markdown",
   "id": "prepared-directory",
   "metadata": {},
   "source": [
    "Determining the center of district Ensen with the centroid-method implemented by Geopandas."
   ]
  },
  {
   "cell_type": "code",
   "execution_count": null,
   "id": "contained-module",
   "metadata": {},
   "outputs": [],
   "source": [
    "print(sf_566_m.STT_NAME[25])\n",
    "ensen_c = sf_566_m.geometry.centroid[25]\n",
    "print(ensen_c )\n",
    "print(type(ensen_c ))"
   ]
  },
  {
   "cell_type": "code",
   "execution_count": null,
   "id": "constitutional-collective",
   "metadata": {},
   "outputs": [],
   "source": [
    "ensen_cgs = geop.GeoSeries(ensen_c, crs=\"EPSG:3857\")\n",
    "print(type(ensen_cgs))\n",
    "print(ensen_cgs.crs)\n"
   ]
  },
  {
   "cell_type": "code",
   "execution_count": null,
   "id": "static-virginia",
   "metadata": {},
   "outputs": [],
   "source": [
    "fig, ax = plt.subplots(1,1, figsize=(12,5))\n",
    "\n",
    "sf_566_m.loc[sf_566_m.STT_NAME == 'Ensen'].plot(edgecolor='black', linewidth=2,\n",
    "                                                color= 'yellowgreen',ax=ax)\n",
    "ensen_cgs.plot(ax=ax, edgecolor='black', linewidth=3, cmap='gist_rainbow')\n",
    "\n",
    "for ax in fig.axes:\n",
    "    plt.sca(ax)\n",
    "    plt.xticks(rotation=90)\n",
    "\n",
    "plt.title('Centroid of Ensen')\n",
    "plt.show()"
   ]
  },
  {
   "cell_type": "markdown",
   "id": "iraqi-general",
   "metadata": {},
   "source": [
    "Determining the center of district Grengel with the centroid-method implemented by Geopandas."
   ]
  },
  {
   "cell_type": "code",
   "execution_count": null,
   "id": "automatic-conversion",
   "metadata": {},
   "outputs": [],
   "source": [
    "print(sf_566_m.STT_NAME[63])\n",
    "grengel_c = sf_566_m.geometry.centroid[63]\n",
    "grengel_cgs = geop.GeoSeries(grengel_c, crs='EPSG:3857')\n",
    "\n",
    "print(grengel_c)"
   ]
  },
  {
   "cell_type": "code",
   "execution_count": null,
   "id": "strange-netherlands",
   "metadata": {},
   "outputs": [],
   "source": [
    "fig, ax = plt.subplots(1,1, figsize=(12,5))\n",
    "\n",
    "sf_566_m.loc[sf_566_m.STT_NAME == 'Grengel'].plot(edgecolor='black', linewidth=2,\n",
    "                                                color= 'yellowgreen',ax=ax)\n",
    "grengel_cgs.plot(ax=ax, edgecolor='black', linewidth=3, cmap='gist_rainbow')\n",
    "\n",
    "for ax in fig.axes:\n",
    "    plt.sca(ax)\n",
    "    plt.xticks(rotation=90)\n",
    "\n",
    "plt.title('Centroid of Grengel')\n",
    "plt.show()"
   ]
  },
  {
   "cell_type": "markdown",
   "id": "motivated-ireland",
   "metadata": {},
   "source": [
    "<strong>\n",
    "Determining the center of Cologne at a whole with the centroid-method implemented by Geopandas.\n",
    "</strong>\n",
    "<br>\n",
    "<p>\n",
    "Problem: the shape file of Cologne is not given here.<br>\n",
    "The shape is extracted from the geometries.<br>\n",
    "As a first step the shape of Cologne at whole is determined with the unary-method from above.\n",
    "</p>"
   ]
  },
  {
   "cell_type": "code",
   "execution_count": null,
   "id": "hungry-hindu",
   "metadata": {},
   "outputs": [],
   "source": [
    "sf1_outer_boundaries = geop.GeoDataFrame(geometry=[sf_1_unary], crs=sf_1.crs)\n",
    "\n",
    "# print(sf1_outer_boundaries.crs)\n",
    "sf1_outer_boundaries"
   ]
  },
  {
   "cell_type": "code",
   "execution_count": null,
   "id": "operating-premium",
   "metadata": {},
   "outputs": [],
   "source": [
    "cologne_center = sf1_outer_boundaries.geometry.centroid\n",
    "cologne_center"
   ]
  },
  {
   "cell_type": "code",
   "execution_count": null,
   "id": "million-natural",
   "metadata": {},
   "outputs": [],
   "source": [
    "fig, ax = plt.subplots(1,1)\n",
    "\n",
    "\n",
    "sf1_outer_boundaries.plot(edgecolor='black', color='gold', ax=ax)\n",
    "cologne_center.plot(ax = ax, color='r', edgecolor='black', linewidth=0.4)\n",
    "\n",
    "plt.title('Center of Cologne at a whole', fontsize=12)\n",
    "plt.show()"
   ]
  },
  {
   "cell_type": "markdown",
   "id": "nasty-joshua",
   "metadata": {},
   "source": [
    "### GeoSeries.distance()\n",
    "\n",
    "<p>\n",
    "allows to calculate the distance between two points.<br>\n",
    "The \"from\" point is here the Cologne Cathedral (Kölner Dom), Cologne, Germany.<br>\n",
    "Latitude and longitude coordinates are: 50.941357, 6.958307.<br>\n",
    "The \"other\" points are the centroids from above.\n",
    "</p> "
   ]
  },
  {
   "cell_type": "code",
   "execution_count": null,
   "id": "introductory-affect",
   "metadata": {},
   "outputs": [],
   "source": [
    "cath_geo = geop.GeoSeries(data=Point((6.958307, 50.941357)),  crs=\"EPSG:4326\")\n",
    "print(cath_geo)\n",
    "print(cath_geo.crs)"
   ]
  },
  {
   "cell_type": "code",
   "execution_count": null,
   "id": "adopted-concert",
   "metadata": {},
   "outputs": [],
   "source": [
    "cath_geo=cath_geo.to_crs(epsg=3857)\n",
    "print(cath_geo.crs)\n",
    "print(cath_geo)\n",
    "print(cath_geo.crs)"
   ]
  },
  {
   "cell_type": "markdown",
   "id": "lesbian-colleague",
   "metadata": {},
   "source": []
  },
  {
   "cell_type": "markdown",
   "id": "junior-meter",
   "metadata": {},
   "source": [
    "Converting the the center point of Ensen into a GeoSeries."
   ]
  },
  {
   "cell_type": "code",
   "execution_count": null,
   "id": "liquid-knowing",
   "metadata": {},
   "outputs": [],
   "source": [
    "ensen_gs = geop.GeoSeries(data=ensen_c,  crs=\"EPSG:3857\")\n",
    "\n",
    "print(type(ensen_gs))\n",
    "print(ensen_gs)\n",
    "print(ensen_gs.crs)"
   ]
  },
  {
   "cell_type": "markdown",
   "id": "voluntary-profile",
   "metadata": {},
   "source": [
    "Converting the the center point of Ensen into a GeoSeries."
   ]
  },
  {
   "cell_type": "code",
   "execution_count": null,
   "id": "sustainable-broadway",
   "metadata": {},
   "outputs": [],
   "source": [
    "grengel_gs = geop.GeoSeries(data=[grengel_c],  crs=\"EPSG:3857\")\n",
    "print(type(grengel_gs))\n",
    "print(grengel_gs)\n",
    "print(grengel_gs.crs)"
   ]
  },
  {
   "cell_type": "code",
   "execution_count": null,
   "id": "representative-clone",
   "metadata": {},
   "outputs": [],
   "source": [
    "dis_ensen = cath_geo.distance(other=ensen_gs)\n",
    "\n",
    "dis_ensen_m = round(float(dis_ensen ),0)\n",
    "print(dis_ensen_m)\n",
    "\n",
    "dis_ensen_km = dis_ensen_m / 1000\n",
    "print(dis_ensen_km)"
   ]
  },
  {
   "cell_type": "markdown",
   "id": "greater-angola",
   "metadata": {},
   "source": [
    "According to Google maps the distance is around 8,5 km.<br>\n",
    "The centroid is not identical with the maps distance.<br>\n",
    "At least the \"cath_geo.distance\" is comprehensible and possible.<br>\n",
    "What is the exact location of the centroid?<br>\n",
    "(For now it is enough.)"
   ]
  },
  {
   "cell_type": "code",
   "execution_count": null,
   "id": "natural-departure",
   "metadata": {},
   "outputs": [],
   "source": [
    "dis_greng = cath_geo.distance(other=grengel_gs)\n",
    "\n",
    "dis_greng_m = round(float(dis_greng ),0)\n",
    "print(dis_greng_m, 'm' )\n",
    "\n",
    "dis_greng_km = dis_greng_m / 1000\n",
    "print(dis_greng_km, 'km')"
   ]
  },
  {
   "cell_type": "markdown",
   "id": "accurate-volleyball",
   "metadata": {},
   "source": [
    "According to Google maps the distance is around 15 km.<br>\n",
    "The centroid is not identical with the maps distance.<br>\n",
    "At least the \"cath_geo.distance\" is comprehensible and possible.<br>\n",
    "What is the exact location of the centroid?<br>\n",
    "(For now it is enough.)"
   ]
  },
  {
   "cell_type": "markdown",
   "id": "dried-petite",
   "metadata": {},
   "source": [
    "Distances between cathedral and every centroid."
   ]
  },
  {
   "cell_type": "code",
   "execution_count": null,
   "id": "danish-forum",
   "metadata": {},
   "outputs": [],
   "source": [
    "# sf_566_m.crs"
   ]
  },
  {
   "cell_type": "code",
   "execution_count": null,
   "id": "adopted-negotiation",
   "metadata": {},
   "outputs": [],
   "source": [
    "sf1_centroids = sf_566_m.geometry.centroid\n",
    "\n",
    "print(type(sf1_centroids))\n",
    "print(sf1_centroids.crs)\n",
    "print(sf1_centroids.head(1))\n"
   ]
  },
  {
   "cell_type": "code",
   "execution_count": null,
   "id": "scientific-status",
   "metadata": {},
   "outputs": [],
   "source": [
    "sf_1['centroid']  = sf1_centroids \n",
    "\n",
    "sf1_centroids_df = sf_1[['STT_NAME', 'centroid']]\n",
    "print(type(sf1_centroids_df))\n",
    "print(sf1_centroids_df.head(2))"
   ]
  },
  {
   "cell_type": "code",
   "execution_count": null,
   "id": "environmental-warren",
   "metadata": {},
   "outputs": [],
   "source": [
    "sf2_df_centers = \\\n",
    "geop.GeoDataFrame(sf1_centroids_df, crs='EPSG:3857', geometry='centroid')\n",
    "\n",
    "sf2_df_centers.rename(columns={'STT_NAME':'district'}, inplace=True)\n",
    "sf2_df_centers.to_crs(3857)\n",
    "\n",
    "\n",
    "print(type(sf2_df_centers))\n",
    "print(sf2_df_centers.shape)\n",
    "print(sf2_df_centers.head(1))\n",
    "print(sf2_df_centers.crs)"
   ]
  },
  {
   "cell_type": "code",
   "execution_count": null,
   "id": "committed-official",
   "metadata": {},
   "outputs": [],
   "source": [
    "distances_cathedral = []\n",
    "\n",
    "for n, row in enumerate(sf2_df_centers.iterrows()):\n",
    "    # print(type(row[1]))\n",
    "    # print(row[1][1])\n",
    "    distance = round(float(cath_geo.distance(other=row[1][1])),2)\n",
    "    distances_cathedral.append(distance)\n",
    "    \n",
    "distances_cathedral[:2]"
   ]
  },
  {
   "cell_type": "code",
   "execution_count": null,
   "id": "normal-buffalo",
   "metadata": {},
   "outputs": [],
   "source": [
    "sf2_df_centers['distance_m'] = distances_cathedral\n",
    "sf2_df_centers['distance_km'] = [round(float(x/1000),2) for x in distances_cathedral]\n",
    "\n",
    "sf2_df_centers.head(2)"
   ]
  },
  {
   "cell_type": "code",
   "execution_count": null,
   "id": "accredited-advocate",
   "metadata": {},
   "outputs": [],
   "source": [
    "print(type(sf2_df_centers))\n",
    "# print(sf2_df_centers.crs)\n",
    "print(sf2_df_centers.shape)"
   ]
  },
  {
   "cell_type": "markdown",
   "id": "recorded-agriculture",
   "metadata": {},
   "source": [
    "#### Spatial joins\n",
    "\n",
    "<p>\n",
    "A spatial join uses binary predicates such as intersects and crosses to combine two GeoDataFrames based on the spatial relationship between their geometries.\n",
    "</p> \n",
    "\n",
    "<p>\n",
    "A common use case might be a spatial join between a point layer and a polygon layer where you want to retain the point geometries and grab the attributes of the intersecting polygons.<br>\n",
    "<a href=\"https://geopandas.org/gallery/spatial_joins.html\" target=\"_blank\">geopandas.org</a> \n",
    "</p> \n",
    "\n",
    "<p>\n",
    "The matching is achieved with the geometry columns, every GeoPandasDataframe has got.<br>\n",
    "Without a geometry col a data structure cannot be a GeoPandasDataframe.<br>\n",
    "The modi of joins in GeoPandas follows SQL logic.\n",
    "</p>\n",
    "\n"
   ]
  },
  {
   "cell_type": "code",
   "execution_count": null,
   "id": "central-nerve",
   "metadata": {},
   "outputs": [],
   "source": [
    "print(type(sf_2))\n",
    "print(type(pm_geopd ))\n",
    "\n",
    "print(sf_2.shape)\n",
    "print(pm_geopd.shape)\n",
    "\n",
    "print(sf_2.crs)\n",
    "print(pm_geopd.crs)"
   ]
  },
  {
   "cell_type": "code",
   "execution_count": null,
   "id": "governmental-ethnic",
   "metadata": {},
   "outputs": [],
   "source": [
    "pm_intersect_dist = geop.sjoin(pm_geopd, sf_2, op='intersects')\n",
    "print(type(pm_intersect_dist))\n",
    "print(pm_intersect_dist.shape)"
   ]
  },
  {
   "cell_type": "code",
   "execution_count": null,
   "id": "thirty-porcelain",
   "metadata": {},
   "outputs": [],
   "source": [
    "pm_intersect_dist.head(1)"
   ]
  },
  {
   "cell_type": "markdown",
   "id": "given-motivation",
   "metadata": {},
   "source": [
    "Top ten number of PM per district."
   ]
  },
  {
   "cell_type": "code",
   "execution_count": null,
   "id": "liable-directory",
   "metadata": {},
   "outputs": [],
   "source": [
    "pm_intersect_dist.STT_NAME.value_counts()[:10]"
   ]
  },
  {
   "cell_type": "markdown",
   "id": "sticky-union",
   "metadata": {},
   "source": [
    "Plotting pm on districts.\n",
    "\n",
    "<p>\n",
    "This needs some preparation. Not all districts are included in the pm data set.\n",
    "</p> "
   ]
  },
  {
   "cell_type": "code",
   "execution_count": null,
   "id": "lovely-chart",
   "metadata": {
    "tags": []
   },
   "outputs": [],
   "source": [
    "# sf_2.columns\n",
    "# sf_2.index\n",
    "# pm_intersect_dist.columns.to_list()\n",
    "\n",
    "# index right from intersect\n",
    "inter_indexr = pm_intersect_dist['index_right'].unique().tolist()\n",
    "print(len(inter_indexr))\n",
    "\n",
    "# subsetting sf_2 with the index from intersect\n",
    "sf2_index = sf_2.iloc[sf_2.index[inter_indexr],:]\n",
    "print(type(sf2_index))\n",
    "print(sf2_index.shape)"
   ]
  },
  {
   "cell_type": "code",
   "execution_count": null,
   "id": "graduate-california",
   "metadata": {},
   "outputs": [],
   "source": [
    "fig, ax = plt.subplots(1,1, figsize=(10,5))\n",
    "\n",
    "sf2_index.plot(ax=ax) # plots districts with pm\n",
    "pm_intersect_dist.plot(color='gold', edgecolor='black', ax=ax) # plot pm\n",
    "\n",
    "\n",
    "plt.show()"
   ]
  },
  {
   "cell_type": "markdown",
   "id": "stupid-internet",
   "metadata": {},
   "source": [
    "<b>Selecting one record: Deutz</b><br>\n",
    "<p>\n",
    "Subsetting the complete record returns a pandas.core.series.Series.<br>\n",
    "Subsetting the geometry returns geopandas.geoseries.GeoSeries'\n",
    "</p> \n"
   ]
  },
  {
   "cell_type": "code",
   "execution_count": null,
   "id": "growing-understanding",
   "metadata": {
    "tags": []
   },
   "outputs": [],
   "source": [
    "deutz = sf2_index.loc[40,:]\n",
    "deutz_geometry = geop.GeoSeries(sf2_index.loc[40,'geometry'])\n",
    "\n",
    "print(type(sf2_index))\n",
    "print(type(deutz))\n",
    "print(type(deutz_geometry))"
   ]
  },
  {
   "cell_type": "code",
   "execution_count": null,
   "id": "julian-yellow",
   "metadata": {},
   "outputs": [],
   "source": [
    "print(deutz.index)\n",
    "deutz "
   ]
  },
  {
   "cell_type": "markdown",
   "id": "quick-handbook",
   "metadata": {},
   "source": [
    "Turning a pandas.core.series.Series to geopandas.geodataframe.GeoDataFrame."
   ]
  },
  {
   "cell_type": "code",
   "execution_count": null,
   "id": "saved-interaction",
   "metadata": {},
   "outputs": [],
   "source": [
    "deutz_pdf=deutz.to_frame().transpose() \n",
    "print(type(deutz_pdf))\n",
    "deutz_pdf.index\n",
    "deutz_pdf"
   ]
  },
  {
   "cell_type": "code",
   "execution_count": null,
   "id": "environmental-technical",
   "metadata": {},
   "outputs": [],
   "source": [
    "deutz_gs = geop.GeoDataFrame(deutz_pdf, geometry='geometry')"
   ]
  },
  {
   "cell_type": "code",
   "execution_count": null,
   "id": "absent-blogger",
   "metadata": {},
   "outputs": [],
   "source": [
    "deutz_gs.plot(edgecolor='black', figsize=(12,3), color='fuchsia', aspect=0.5)\n",
    "plt.show()"
   ]
  },
  {
   "cell_type": "markdown",
   "id": "first-survivor",
   "metadata": {},
   "source": [
    "There are two district values: Deutz and Deutz I.<br>\n",
    "Parking machines in these districts are subsetted below."
   ]
  },
  {
   "cell_type": "code",
   "execution_count": null,
   "id": "focal-might",
   "metadata": {},
   "outputs": [],
   "source": [
    "deutz_boolean_mask = \\\n",
    "(pm_intersect_dist['Bezirk/Gebiet'] == 'Deutz' ) | (pm_intersect_dist['Bezirk/Gebiet'] =='Deutz I')"
   ]
  },
  {
   "cell_type": "code",
   "execution_count": null,
   "id": "abstract-purchase",
   "metadata": {},
   "outputs": [],
   "source": [
    "pm_intersect_dist[deutz_boolean_mask].\\\n",
    "plot(edgecolor='black', figsize=(9,3), color='teal', aspect=0.5)\n",
    "plt.show()"
   ]
  },
  {
   "cell_type": "code",
   "execution_count": null,
   "id": "entire-gothic",
   "metadata": {},
   "outputs": [],
   "source": [
    "fig, ax = plt.subplots(1,1, figsize=(10,5))\n",
    "\n",
    "deutz_gs.plot(edgecolor='black', figsize=(12,3), color='fuchsia', aspect=0.5, ax=ax)\n",
    "pm_intersect_dist[deutz_boolean_mask].\\\n",
    "plot(edgecolor='black', figsize=(9,3), color='teal', aspect=0.5, ax=ax)\n",
    "\n",
    "plt.title('Parking machines in the district of Deutz')\n",
    "plt.show()"
   ]
  },
  {
   "cell_type": "markdown",
   "id": "fatty-allowance",
   "metadata": {},
   "source": [
    "The points outside could belong to the district of Deutz I ?"
   ]
  },
  {
   "cell_type": "markdown",
   "id": "english-voluntary",
   "metadata": {},
   "source": [
    "### Combining Cologne shape polygons & scatter location plots: parking meters\n",
    "\n",
    "<p>\n",
    "into layered plots.\n",
    "</p>"
   ]
  },
  {
   "cell_type": "code",
   "execution_count": null,
   "id": "angry-modeling",
   "metadata": {},
   "outputs": [],
   "source": [
    "colo_df_2.info()"
   ]
  },
  {
   "cell_type": "code",
   "execution_count": null,
   "id": "nervous-campus",
   "metadata": {},
   "outputs": [],
   "source": [
    "colo_df_2.Longitudes.describe() "
   ]
  },
  {
   "cell_type": "code",
   "execution_count": null,
   "id": "weekly-demand",
   "metadata": {},
   "outputs": [],
   "source": [
    "fig, ax1 = plt.subplots(1,1, figsize=(10,8))\n",
    "plt.tight_layout()\n",
    "\n",
    "sf_2.plot(color='gold', edgecolor='black', linewidth=1, ax=ax1)\n",
    "\n",
    "sns.scatterplot(x='Longitudes', y='Latitudes', \n",
    "                data=colo_df_2, color='black', edgecolor='red', ax=ax1)\n",
    "\n",
    "ax1.set_title(\"Cologne parking meters\")\n",
    "\n",
    "plt.subplots_adjust(hspace=0.3, wspace=0.2)\n",
    "plt.show()\n"
   ]
  },
  {
   "cell_type": "code",
   "execution_count": null,
   "id": "urban-soccer",
   "metadata": {},
   "outputs": [],
   "source": [
    "fig, ax1 = plt.subplots(1,1, figsize=(10,8))\n",
    "plt.tight_layout()\n",
    "\n",
    "\n",
    "sf_2.plot(edgecolor='black', linewidth=1, ax=ax1, column='STT_NAME', legend=True,\n",
    "          legend_kwds={ 'bbox_to_anchor':(1, 1), 'ncol':3, 'loc':'upper left'})\n",
    "\n",
    "sns.scatterplot(x='Longitudes', y='Latitudes', \n",
    "                data=colo_df_2, edgecolor='black', ax=ax1)\n",
    "ax1.set_title(\"Cologne parking meters colored by district\")\n",
    "\n",
    "plt.subplots_adjust(hspace=0.3, wspace=0.2)\n",
    "\n",
    "plt.show()\n"
   ]
  },
  {
   "cell_type": "markdown",
   "id": "brazilian-probability",
   "metadata": {},
   "source": [
    "# Creating interactive maps of Cologne with Folium\n",
    "\n",
    "<p>\n",
    ", which is Python package based on the leaflet.js library<br>\n",
    "or in words of the <a href=\"https://python-visualization.github.io/folium/\" target=\"_blank\">Folium 0.12.1 documentation:</a>\n",
    "</p> \n",
    "\n",
    "<p>\n",
    "\"Folium makes it easy to visualize data that’s been manipulated in Python on an interactive leaflet map. It enables both the binding of data to a map for choropleth visualizations as well as passing rich vector/raster/HTML visualizations as markers on the map.\"\n",
    "</p>\n",
    "\n",
    "<p>\n",
    "Below a map is created centered around the Cologne cathedral.<br>\n",
    "The cathedral is located in the district of Altstadt-Nord.\n",
    "</p> "
   ]
  },
  {
   "cell_type": "code",
   "execution_count": null,
   "id": "broadband-fields",
   "metadata": {},
   "outputs": [],
   "source": [
    "cathedral_location = [50.941357, 6.958307]\n",
    "\n",
    "# Zoom centers the map around the location\n",
    "cathedral = folium.Map(location=cathedral_location, zoom_start=18)"
   ]
  },
  {
   "cell_type": "code",
   "execution_count": null,
   "id": "hindu-password",
   "metadata": {},
   "outputs": [],
   "source": [
    "display(cathedral)"
   ]
  },
  {
   "cell_type": "markdown",
   "id": "cheap-carnival",
   "metadata": {},
   "source": [
    "#### Customizing folium maps\n",
    "<p>\n",
    "Resizing folium maps.\n",
    "</p> \n"
   ]
  },
  {
   "cell_type": "code",
   "execution_count": null,
   "id": "tender-choir",
   "metadata": {},
   "outputs": [],
   "source": [
    "f = folium.Figure(width=400, height=300)\n",
    "\n",
    "cathedral_map_resized = folium.Map(location=cathedral_location, zoom_start=14,\n",
    "                                   tiles='openstreetmap').add_to(f)\n",
    "display(cathedral_map_resized )"
   ]
  },
  {
   "cell_type": "markdown",
   "id": "alternative-entertainment",
   "metadata": {},
   "source": [
    "#### Add (district) shape borders to the Folium map.\n",
    "\n",
    "<p>\n",
    "At first the shape is selected from the data set.\n",
    "</p> "
   ]
  },
  {
   "cell_type": "code",
   "execution_count": null,
   "id": "failing-tampa",
   "metadata": {},
   "outputs": [],
   "source": [
    "altstadt_nord = sf_2.loc[sf_2.STT_NAME=='Altstadt/Nord']\n",
    "\n",
    "print(type(altstadt_nord))\n",
    "altstadt_nord"
   ]
  },
  {
   "cell_type": "markdown",
   "id": "impossible-ordinary",
   "metadata": {},
   "source": [
    "Getting the polygon coordinates.<br>\n",
    "Not necessary here."
   ]
  },
  {
   "cell_type": "code",
   "execution_count": null,
   "id": "after-floating",
   "metadata": {},
   "outputs": [],
   "source": [
    "altn_poly = np.array(altstadt_nord.geometry)[0]\n",
    "print(type(altn_poly))\n",
    "ext = altn_poly.exterior.coords[:-1]\n",
    "print(type(ext))\n",
    "altn_poly.exterior.coords"
   ]
  },
  {
   "cell_type": "code",
   "execution_count": null,
   "id": "accompanied-techno",
   "metadata": {},
   "outputs": [],
   "source": [
    "altstadt_nord.plot(edgecolor='black', color='orange')\n",
    "plt.title('Altstadt Nord')\n",
    "plt.show()"
   ]
  },
  {
   "cell_type": "code",
   "execution_count": null,
   "id": "smoking-winter",
   "metadata": {},
   "outputs": [],
   "source": [
    "f = folium.Figure(width=600, height=300)\n",
    "\n",
    "cathedral_map_3 = folium.Map(location=cathedral_location, zoom_start=12.5,\n",
    "                                   tiles='openstreetmap').add_to(f)"
   ]
  },
  {
   "cell_type": "code",
   "execution_count": null,
   "id": "advance-uniform",
   "metadata": {},
   "outputs": [],
   "source": [
    "altstadt_nord_json = altstadt_nord.to_json()\n",
    "altstadt_nord_json[:100]"
   ]
  },
  {
   "cell_type": "markdown",
   "id": "supposed-skill",
   "metadata": {},
   "source": [
    "Folium maps is based on Leaflet.js.<br>\n",
    "Both are using GeoJSON.<br>\n",
    "Folium maps are customizable by using GeoJSON-frames.<br>\n",
    "<a href=\"https://leafletjs.com/examples/geojson/\" target=\"_blank\">leafletjs</a> \n"
   ]
  },
  {
   "cell_type": "code",
   "execution_count": null,
   "id": "collaborative-insert",
   "metadata": {},
   "outputs": [],
   "source": [
    "alt_shape =    folium.GeoJson(data=altstadt_nord_json, \n",
    "               style_function= \\\n",
    "               lambda x: {'fillColor': 'orange',\n",
    "                          \"color\": \"#ff7800\",\n",
    "                          \"weight\": 5,\n",
    "                          \"opacity\": 0.65,\n",
    "                          \"stroke\":True})"
   ]
  },
  {
   "cell_type": "code",
   "execution_count": null,
   "id": "subsequent-rough",
   "metadata": {},
   "outputs": [],
   "source": [
    "str(altstadt_nord['STT_NAME'].values)"
   ]
  },
  {
   "cell_type": "markdown",
   "id": "promising-exception",
   "metadata": {},
   "source": [
    "#### Add a popup to the folium map"
   ]
  },
  {
   "cell_type": "code",
   "execution_count": null,
   "id": "sensitive-baptist",
   "metadata": {},
   "outputs": [],
   "source": [
    "cathedral_description = \\\n",
    "\"\"\"\n",
    "<strong>Cologne Cathedral</strong> (German: Koelner Dom, officially Hohe Domkirche Sankt Petrus, \n",
    "English: Cathedral Church of Saint Peter) is a Catholic cathedral in Cologne, \n",
    "North Rhine-Westphalia, Germany. It is the seat of the Archbishop of Cologne \n",
    "and of the administration of the Archdiocese of Cologne. \n",
    "It is a renowned monument of German Catholicism and Gothic architecture \n",
    "and was declared a World Heritage Site in 1996.\n",
    "<a href=\"https://en.wikipedia.org/wiki/Cologne_Cathedral\" target=\"_blank\">Wikipedia</a> \n",
    "\"\"\"\n",
    "\n",
    "\n",
    "folium.Popup(cathedral_description).add_to(alt_shape)"
   ]
  },
  {
   "cell_type": "code",
   "execution_count": null,
   "id": "persistent-voltage",
   "metadata": {},
   "outputs": [],
   "source": [
    "alt_shape.add_to(cathedral_map_3)"
   ]
  },
  {
   "cell_type": "code",
   "execution_count": null,
   "id": "convertible-filename",
   "metadata": {},
   "outputs": [],
   "source": [
    "display(cathedral_map_3)"
   ]
  },
  {
   "cell_type": "markdown",
   "id": "contrary-school",
   "metadata": {},
   "source": [
    "#### Folium map of Cologne\n",
    "\n",
    "<p>\n",
    "centered around Cologne centroid.\n",
    "</p>"
   ]
  },
  {
   "cell_type": "markdown",
   "id": "hybrid-pepper",
   "metadata": {},
   "source": [
    "<strong>Removing diacritical marks using Python</strong>\n",
    "\n",
    "<p>\n",
    "In this case the German vowel mutations are removed.<br>\n",
    "<a href=\"https://stackoverflow.com/questions/48445459/removing-diacritical-marks-using-python\" \n",
    "target=\"_blank\">Stack</a> \n",
    "</p>\n",
    "\n"
   ]
  },
  {
   "cell_type": "code",
   "execution_count": null,
   "id": "placed-genealogy",
   "metadata": {},
   "outputs": [],
   "source": [
    "# sf_1.crs\n",
    "sf_356 = sf_1.copy()\n",
    "\n",
    "sf_356['centroid'] = sf_1.geometry.to_crs(3857).centroid\n",
    "sf_356['centroid'] = sf_356['centroid'].to_crs(4326)\n",
    "# print(sf_356.centroid.crs)\n",
    "\n",
    "sf_356.head(1)"
   ]
  },
  {
   "cell_type": "code",
   "execution_count": null,
   "id": "active-soviet",
   "metadata": {},
   "outputs": [],
   "source": [
    "# sf_356.STT_NAME.unique\n",
    "STT_NAME_idx = sf_356.columns.get_loc('STT_NAME')"
   ]
  },
  {
   "cell_type": "code",
   "execution_count": null,
   "id": "fifth-macedonia",
   "metadata": {},
   "outputs": [],
   "source": [
    "unvoweled_names = []\n",
    "\n",
    "for i in sf_356.iterrows():\n",
    "    \n",
    "    print(i[1][STT_NAME_idx])\n",
    "    unvoweled_name = unidecode.unidecode(i[1][STT_NAME_idx])\n",
    "    unvoweled_names.append(unvoweled_name)\n",
    "    \n",
    "unvoweled_names[:5]"
   ]
  },
  {
   "cell_type": "code",
   "execution_count": null,
   "id": "cubic-football",
   "metadata": {},
   "outputs": [],
   "source": [
    "sf_356['STT_NAME'] = unvoweled_names"
   ]
  },
  {
   "cell_type": "markdown",
   "id": "subjective-interpretation",
   "metadata": {},
   "source": [
    "It does not exactly what I wanted.<br>\n",
    "I wanted to replace vowels with ae and so on."
   ]
  },
  {
   "cell_type": "code",
   "execution_count": null,
   "id": "handed-playback",
   "metadata": {},
   "outputs": [],
   "source": [
    "cologne_center_4326 = cologne_center.to_crs(4326)\n",
    "cologne_center_geocoord =[float(cologne_center_4326.y), \n",
    "                          float(cologne_center_4326.x)]\n",
    "cologne_center_geocoord"
   ]
  },
  {
   "cell_type": "markdown",
   "id": "million-kitchen",
   "metadata": {},
   "source": [
    "<strong>\n",
    "Add title to Folium map.\n",
    "</strong>"
   ]
  },
  {
   "cell_type": "code",
   "execution_count": null,
   "id": "combined-freeze",
   "metadata": {},
   "outputs": [],
   "source": [
    "title_colog_map_districts = \"\"\"Cologne with districts.\"\"\"\n",
    "\n",
    "title_colog_map_districts = \\\n",
    "'''\n",
    "<h2 align=\"center\" style=\"font-size:14px\" font-style=\"italic\"><b>{}</b></h2>\n",
    "           \n",
    "'''.format(title_colog_map_districts)"
   ]
  },
  {
   "cell_type": "markdown",
   "id": "qualified-balloon",
   "metadata": {
    "tags": []
   },
   "source": [
    "<strong>\n",
    "Add pop up with Cologne info.\n",
    "</strong>\n",
    "\n",
    "<p>\n",
    "Special signs in the text of the popup must be escaped. Otherwise an error is returned.\n",
    ".<br>"
   ]
  },
  {
   "cell_type": "code",
   "execution_count": null,
   "id": "activated-commissioner",
   "metadata": {},
   "outputs": [],
   "source": [
    "colog_descript = \\\n",
    "\"\"\"<strong>Cologne</strong> is the largest city of Germanys most populous state of North \n",
    "Rhine-Westphalia and the fourth-most populous city in Germany. \n",
    "With 3.6 million people in the urban region and 1.1 million inhabitants within its city proper,\n",
    "Cologne is the largest city on the river Rhine and also the most populous city of both \n",
    "the Rhine-Ruhr Metropolitan Region and the Rhineland.\n",
    "<a href=\"https://en.wikipedia.org/wiki/Cologne\"\n",
    "target=\"_blank\"\">Wikipedia</a>\"\"\""
   ]
  },
  {
   "cell_type": "markdown",
   "id": "radical-metro",
   "metadata": {},
   "source": [
    "Again solving conflicts concerning crs."
   ]
  },
  {
   "cell_type": "code",
   "execution_count": null,
   "id": "equivalent-republic",
   "metadata": {},
   "outputs": [],
   "source": [
    "sf_1.head(1)"
   ]
  },
  {
   "cell_type": "code",
   "execution_count": null,
   "id": "herbal-process",
   "metadata": {},
   "outputs": [],
   "source": [
    "geo_index = sf_356.columns.get_loc('centroid')\n",
    "geo_index_title = sf_356.columns.get_loc('STT_NAME')"
   ]
  },
  {
   "cell_type": "markdown",
   "id": "legitimate-seattle",
   "metadata": {},
   "source": [
    "Extracting the geo coordinates of the district centroids."
   ]
  },
  {
   "cell_type": "code",
   "execution_count": null,
   "id": "extensive-winner",
   "metadata": {},
   "outputs": [],
   "source": [
    "geocoords_colog = []\n",
    "\n",
    "for row in sf_356.iterrows():\n",
    "    row_values = row[1]\n",
    "    geocoord_colog  = [row_values[geo_index].y, row_values[geo_index].x]\n",
    "    geocoords_colog.append(geocoord_colog)\n",
    "    \n",
    "geocoords_colog[:3]"
   ]
  },
  {
   "cell_type": "markdown",
   "id": "juvenile-desert",
   "metadata": {},
   "source": [
    "Creating the map with markers and popups."
   ]
  },
  {
   "cell_type": "code",
   "execution_count": null,
   "id": "front-suspension",
   "metadata": {},
   "outputs": [],
   "source": [
    "f_colog = folium.Figure(width=600, height=300)\n",
    "\n",
    "\n",
    "colog_map = folium.Map(location = \n",
    "                       cologne_center_geocoord, \n",
    "                       zoom_start=14, tiles='openstreetmap')\\\n",
    "                       .add_to(f_colog)\n",
    "\n",
    "\n",
    "colog_borders = folium.GeoJson(sf_1.geometry, style_function= \\\n",
    "                              lambda x: {'fillColor': 'limegreen',\n",
    "                              \"color\": \"black\",\n",
    "                              \"weight\": 1,\n",
    "                              \"opacity\": 0.8,\n",
    "                              \"stroke\":True}).add_to(colog_map)\n",
    "\n",
    "# This creates the markers for every district\n",
    "# It is important to place the marker and pop up inside the for loop\n",
    "\n",
    "for row in sf_356.iterrows():\n",
    "    row_values = row[1]\n",
    "    geocoord_colog  = [row_values[geo_index].y, row_values[geo_index].x]\n",
    "    \n",
    "# This creates the pop up \"name\" for every district\n",
    "\n",
    "    popup = row_values[geo_index_title]\n",
    "    \n",
    "    colog_districts_marker = folium.Marker(location = geocoord_colog, popup = popup)\n",
    "    colog_districts_marker.add_to(colog_map)\n",
    "\n",
    "colog_map.get_root().html.add_child(folium.Element(title_colog_map_districts))\n",
    "folium.Popup(colog_descript).add_to(colog_borders)\n",
    "\n"
   ]
  },
  {
   "cell_type": "code",
   "execution_count": null,
   "id": "progressive-stick",
   "metadata": {},
   "outputs": [],
   "source": [
    "display(colog_map)"
   ]
  },
  {
   "cell_type": "markdown",
   "id": "alpine-dependence",
   "metadata": {},
   "source": [
    "#### Folium map of Cologne wit parking meters"
   ]
  },
  {
   "cell_type": "markdown",
   "id": "missing-warner",
   "metadata": {},
   "source": [
    "Remove vowels."
   ]
  },
  {
   "cell_type": "code",
   "execution_count": null,
   "id": "possible-percentage",
   "metadata": {},
   "outputs": [],
   "source": [
    "def diacritical(row, v):\n",
    "        return unidecode.unidecode(row[v])"
   ]
  },
  {
   "cell_type": "markdown",
   "id": "sexual-irrigation",
   "metadata": {},
   "source": [
    "Surely there are better methods with replacement out there."
   ]
  },
  {
   "cell_type": "code",
   "execution_count": null,
   "id": "collected-internet",
   "metadata": {},
   "outputs": [],
   "source": [
    "# colo_df_2.columns\n",
    "# colo_df_2_34534 = colo_df_2.copy()\n",
    "# colo_df_2_34534.columns"
   ]
  },
  {
   "cell_type": "code",
   "execution_count": null,
   "id": "solved-pittsburgh",
   "metadata": {},
   "outputs": [],
   "source": [
    "colo_df_2['Aufstellort'] = \\\n",
    "colo_df_2.apply(diacritical, args=(['Aufstellort']), axis=1)"
   ]
  },
  {
   "cell_type": "code",
   "execution_count": null,
   "id": "separate-repair",
   "metadata": {},
   "outputs": [],
   "source": [
    "# colo_df_2['Aufstellort']\n",
    "# colo_df_2.head(1)\n",
    "# colo_df_2.info()"
   ]
  },
  {
   "cell_type": "markdown",
   "id": "collected-survey",
   "metadata": {},
   "source": [
    "Check geocoords of Cologne center."
   ]
  },
  {
   "cell_type": "code",
   "execution_count": null,
   "id": "entire-allah",
   "metadata": {},
   "outputs": [],
   "source": [
    "cologne_center_geocoord\n",
    "colo_df_2.head(1)"
   ]
  },
  {
   "cell_type": "markdown",
   "id": "armed-canada",
   "metadata": {},
   "source": [
    "This is the for loop for adding geo data to the map."
   ]
  },
  {
   "cell_type": "code",
   "execution_count": null,
   "id": "atomic-fossil",
   "metadata": {},
   "outputs": [],
   "source": [
    "geocoords_pm = []\n",
    "locations_pm = []\n",
    "\n",
    "for row in colo_df_2.iterrows():\n",
    "    row_value = row[1]\n",
    "    geocoord_pm = [row_value['Latitudes'], row_value['Longitudes']]\n",
    "    location_pm = row_value['Aufstellort']\n",
    "    geocoords_pm.append(geocoord_pm)\n",
    "    locations_pm.append(location_pm )\n",
    "    \n",
    "print(len(geocoords_pm))    \n",
    "geocoords_pm[:2]\n",
    "\n",
    "print(len(locations_pm))\n",
    "locations_pm[:4]"
   ]
  },
  {
   "cell_type": "code",
   "execution_count": null,
   "id": "cognitive-holder",
   "metadata": {},
   "outputs": [],
   "source": [
    "f_parking = folium.Figure(width=700, height=350)\n",
    "\n",
    "# Create a map centered around center of cologne\n",
    "# The geocoordinates need the form list(latitude, longitude)\n",
    "map_pm = folium.Map(location=cologne_center_geocoord, \n",
    "                    zoom_start=16, tiles='openstreetmap').add_to(f_parking)\n",
    "\n",
    "map_pm_district_borders = folium.GeoJson(sf_1.geometry,\n",
    "                                         style_function = \\\n",
    "                                         lambda x: {'color': 'black', 'weight': 0.5, \n",
    "                                                    'stroke': True}).add_to(map_pm)\n",
    "\n",
    "for row in colo_df_2.iterrows():\n",
    "    row_value = row[1]\n",
    "    \n",
    "    # This is for the parking meters markers\n",
    "    geocoord_parkingmeters = [row_value['Latitudes'], row_value['Longitudes']]\n",
    "    # This adds the popup to the marker with the name of the location\n",
    "    pm_popup = row_value['Aufstellort']\n",
    "    \n",
    "    \n",
    "    folium.Marker(location=geocoord_parkingmeters, popup=pm_popup,\n",
    "                  icon = folium.Icon(color='green', \n",
    "                                     icon_color='white', icon='anchor', \n",
    "                                     prefix='fa')).add_to(map_pm)"
   ]
  },
  {
   "cell_type": "code",
   "execution_count": null,
   "id": "blank-wireless",
   "metadata": {},
   "outputs": [],
   "source": [
    "display(map_pm)"
   ]
  },
  {
   "cell_type": "markdown",
   "id": "personal-avenue",
   "metadata": {},
   "source": [
    "## Quick reproduction: hospitals in Cologne"
   ]
  },
  {
   "cell_type": "markdown",
   "id": "revised-solomon",
   "metadata": {},
   "source": [
    "Import data with request API for http calls."
   ]
  },
  {
   "cell_type": "code",
   "execution_count": null,
   "id": "representative-tongue",
   "metadata": {},
   "outputs": [],
   "source": [
    "hospitals_endpoint_url = \\\n",
    "'https://geoportal.stadt-koeln.de/arcgis/rest/services/Stadtplanthemen/MapServer/4/query?text=&geometry=&geometryType=esriGeometryPoint&inSR=&spatialRel=esriSpatialRelIntersects&relationParam=&objectIds=&where=objectid+is+not+null&time=&returnCountOnly=false&returnIdsOnly=false&returnGeometry=true&maxAllowableOffset=&outSR=4326&outFields=*&f=json'\n",
    "\n",
    "hospitals_rawdata = requests.get(hospitals_endpoint_url).json()"
   ]
  },
  {
   "cell_type": "code",
   "execution_count": null,
   "id": "empirical-nigeria",
   "metadata": {},
   "outputs": [],
   "source": [
    "print(type(hospitals_rawdata))"
   ]
  },
  {
   "cell_type": "markdown",
   "id": "immune-replacement",
   "metadata": {},
   "source": [
    "Flatten the nested dict and thereby remove attribute meta data."
   ]
  },
  {
   "cell_type": "code",
   "execution_count": null,
   "id": "drawn-batch",
   "metadata": {},
   "outputs": [],
   "source": [
    "# print(hospitals_rawdata)\n",
    "print(hospitals_rawdata.keys())\n",
    "print(type(hospitals_rawdata['fields']))\n",
    "print(hospitals_rawdata['fields'][:2])\n",
    "print(type(hospitals_rawdata['features']))\n",
    "print(hospitals_rawdata['features'][0])"
   ]
  },
  {
   "cell_type": "code",
   "execution_count": null,
   "id": "artistic-tumor",
   "metadata": {},
   "outputs": [],
   "source": [
    "pm_455 = pd.json_normalize(pm_data, record_path=['result', 'records'])"
   ]
  },
  {
   "cell_type": "code",
   "execution_count": null,
   "id": "african-leisure",
   "metadata": {},
   "outputs": [],
   "source": [
    "hospitals_df = pd.json_normalize(hospitals_rawdata, record_path=['features'])\n",
    "\n",
    "print(type(hospitals_df))\n",
    "print(hospitals_df.info())\n",
    "print(hospitals_df.head())"
   ]
  },
  {
   "cell_type": "markdown",
   "id": "powerful-integration",
   "metadata": {},
   "source": [
    "Cleaning col names."
   ]
  },
  {
   "cell_type": "code",
   "execution_count": null,
   "id": "solid-samuel",
   "metadata": {},
   "outputs": [],
   "source": [
    "hospitals_df.rename(columns={'geometry.x':'Longitude', 'geometry.y':'Latitude'}, inplace=True)"
   ]
  },
  {
   "cell_type": "code",
   "execution_count": null,
   "id": "liberal-husband",
   "metadata": {},
   "outputs": [],
   "source": [
    "hospitals_df.columns"
   ]
  },
  {
   "cell_type": "markdown",
   "id": "communist-drinking",
   "metadata": {},
   "source": [
    "Constructing a geo df."
   ]
  },
  {
   "cell_type": "code",
   "execution_count": null,
   "id": "italian-advertiser",
   "metadata": {},
   "outputs": [],
   "source": [
    "hospitals_df_2 = hospitals_df.copy()"
   ]
  },
  {
   "cell_type": "code",
   "execution_count": null,
   "id": "marked-reynolds",
   "metadata": {},
   "outputs": [],
   "source": [
    "hospitals_df_2['geometry'] = \\\n",
    "hospitals_df_2.apply(lambda y: Point((y.Longitude, y.Latitude)), axis=1)\n",
    "\n",
    "print(type(hospitals_df_2))\n",
    "print(hospitals_df_2.loc[:2, 'geometry'])"
   ]
  },
  {
   "cell_type": "code",
   "execution_count": null,
   "id": "extended-arbitration",
   "metadata": {},
   "outputs": [],
   "source": [
    "hospitals_geo = geop.GeoDataFrame(hospitals_df_2, crs=\"EPSG:4326\" , geometry='geometry')\n",
    "hospitals_geo.columns = hospitals_geo.columns.str.replace('attributes.', '', regex=False)\n",
    "\n",
    "print(type(hospitals_geo))\n",
    "print(hospitals_geo.crs)\n",
    "print(hospitals_geo.columns.tolist())"
   ]
  },
  {
   "cell_type": "code",
   "execution_count": null,
   "id": "dramatic-lebanon",
   "metadata": {},
   "outputs": [],
   "source": [
    "hospitals_geo.head(1)"
   ]
  },
  {
   "cell_type": "markdown",
   "id": "connected-chart",
   "metadata": {},
   "source": [
    "Plot "
   ]
  },
  {
   "cell_type": "code",
   "execution_count": null,
   "id": "ruled-education",
   "metadata": {},
   "outputs": [],
   "source": [
    "fig, (ax1, ax2) = plt.subplots(2,1, figsize=(10,15))\n",
    "plt.tight_layout()\n",
    "\n",
    "sf_2.plot(ax=ax1)\n",
    "hospitals_geo.plot(ax=ax1, column='NAME', aspect=0.5, edgecolor='black', legend=True,\n",
    "                   legend_kwds={'ncol':5, 'bbox_to_anchor':(0.5, -0.1), 'loc':'upper center'})\n",
    "ax1.set_title('Hospitals locations in Cologne')\n",
    "\n",
    "\n",
    "sf_2.plot(ax=ax2, column='STT_NAME', aspect=1, legend=True,\n",
    "         legend_kwds={'ncol':6, 'bbox_to_anchor':(0.5, -0.05), 'loc':'upper center'})\n",
    "hospitals_geo.plot(ax=ax2, column='NAME', aspect=0.7, edgecolor='black', legend=False)\n",
    "ax2.set_title('Hospitals locations in Cologne by district')\n",
    "\n",
    "\n",
    "plt.subplots_adjust(hspace=0.05, wspace=0.5)\n",
    "plt.show()\n"
   ]
  },
  {
   "cell_type": "markdown",
   "id": "known-sending",
   "metadata": {},
   "source": []
  },
  {
   "cell_type": "markdown",
   "id": "serial-watch",
   "metadata": {},
   "source": [
    "#### Spatial joins"
   ]
  },
  {
   "cell_type": "code",
   "execution_count": null,
   "id": "organized-springfield",
   "metadata": {},
   "outputs": [],
   "source": [
    "print(hospitals_geo.crs)\n",
    "print(sf_2.crs)"
   ]
  },
  {
   "cell_type": "code",
   "execution_count": null,
   "id": "missing-conviction",
   "metadata": {},
   "outputs": [],
   "source": [
    "hospitals_intersect_dist = geop.sjoin(hospitals_geo, sf_2, op='intersects')\n",
    "print(type(hospitals_intersect_dist))\n",
    "print(hospitals_intersect_dist.shape)\n",
    "print(hospitals_intersect_dist.columns.tolist())\n",
    "print(hospitals_intersect_dist.STT_NAME.unique())\n",
    "\n",
    "inter_indexr_hospitals = hospitals_intersect_dist['index_right'].unique().tolist()\n",
    "print(len(inter_indexr_hospitals))\n",
    "sf2_index_hospitals = sf_2.iloc[sf_2.index[inter_indexr_hospitals],:]\n",
    "print(type(sf2_index_hospitals ))\n",
    "print(sf2_index_hospitals.shape)"
   ]
  },
  {
   "cell_type": "code",
   "execution_count": null,
   "id": "finnish-biography",
   "metadata": {},
   "outputs": [],
   "source": [
    "fig, ax = plt.subplots(1,1, figsize=(10,5))\n",
    "\n",
    "sf2_index_hospitals.plot(ax=ax) # plots districts with pm\n",
    "hospitals_intersect_dist.plot(column='NAME', \n",
    "                              edgecolor='black', ax=ax,\n",
    "                              legend=True,\n",
    "                              legend_kwds={'ncol':3, 'bbox_to_anchor':(0.5, -0.1), 'loc':'upper center'}) \n",
    "\n",
    "\n",
    "plt.show()"
   ]
  },
  {
   "cell_type": "markdown",
   "id": "wicked-bowling",
   "metadata": {},
   "source": [
    "Deutz"
   ]
  },
  {
   "cell_type": "code",
   "execution_count": null,
   "id": "collective-trail",
   "metadata": {},
   "outputs": [],
   "source": [
    "deutz_Hospitals_boolean_mask = \\\n",
    "(hospitals_intersect_dist['STT_NAME'] == 'Deutz' )\n",
    "\n",
    "hospital_deutz = hospitals_intersect_dist[deutz_Hospitals_boolean_mask]\n",
    "hospital_deutz"
   ]
  },
  {
   "cell_type": "code",
   "execution_count": null,
   "id": "received-protection",
   "metadata": {},
   "outputs": [],
   "source": [
    "deutz_hospitals_locations = \\\n",
    "hospital_deutz.plot(edgecolor='black', figsize=(8,4), color='teal', aspect=0.2)\n",
    "\n",
    "deutz_hospitals_locations\n",
    "plt.show()"
   ]
  },
  {
   "cell_type": "code",
   "execution_count": null,
   "id": "discrete-contract",
   "metadata": {
    "tags": []
   },
   "outputs": [],
   "source": [
    "hospital_deutz"
   ]
  },
  {
   "cell_type": "code",
   "execution_count": null,
   "id": "ranking-madness",
   "metadata": {},
   "outputs": [],
   "source": [
    "fig, ax = plt.subplots(1,1, figsize=(10,5))\n",
    "\n",
    "deutz_gs.plot(edgecolor='black', color='fuchsia', aspect=0.5, ax=ax)\n",
    "hospital_deutz.plot(edgecolor='black', ax=ax, column='NAME', legend=True,\n",
    "                    legend_kwds={'ncol':1, 'bbox_to_anchor':(0.5, -0.1), 'loc':'upper center'})\n",
    "\n",
    "plt.title('Hospitals in the district of Deutz')\n",
    "plt.show()"
   ]
  },
  {
   "cell_type": "markdown",
   "id": "manufactured-license",
   "metadata": {},
   "source": [
    "Only one hospital in Deutz."
   ]
  },
  {
   "cell_type": "markdown",
   "id": "atlantic-staff",
   "metadata": {},
   "source": [
    "Altstadt/Nord"
   ]
  },
  {
   "cell_type": "code",
   "execution_count": null,
   "id": "broken-nicaragua",
   "metadata": {},
   "outputs": [],
   "source": [
    "altnord_Hospitals_boolean_mask = \\\n",
    "(hospitals_intersect_dist['STT_NAME'] == 'Altstadt/Nord' )\n",
    "\n",
    "hospital_altnord = hospitals_intersect_dist[altnord_Hospitals_boolean_mask]\n",
    "hospital_altnord"
   ]
  },
  {
   "cell_type": "code",
   "execution_count": null,
   "id": "essential-glasgow",
   "metadata": {},
   "outputs": [],
   "source": [
    "altnord_shape= sf2_index_hospitals[sf2_index_hospitals.STT_NAME=='Altstadt/Nord']\n",
    "print(type(altnord_shape))\n",
    "altnord_shape.plot(edgecolor='black', color='yellowgreen')\n",
    "plt.show()"
   ]
  },
  {
   "cell_type": "code",
   "execution_count": null,
   "id": "informal-narrative",
   "metadata": {},
   "outputs": [],
   "source": [
    "fig, ax = plt.subplots(1,1, figsize=(10,5))\n",
    "\n",
    "altnord_shape.plot(edgecolor='black', linewidth=2, color='yellowgreen', ax=ax)\n",
    "hospital_altnord.plot(column='NAME', edgecolor='black', ax=ax, legend=True,\n",
    "                      legend_kwds={'ncol':1, 'bbox_to_anchor':(0.5, -0.1), 'loc':'upper center'})\n",
    "\n",
    "plt.title('Hospitals in the district of Altstadt/Nord', fontsize=12)\n",
    "plt.show()"
   ]
  },
  {
   "cell_type": "markdown",
   "id": "parental-healthcare",
   "metadata": {},
   "source": [
    "### Calculating geospatial attributes."
   ]
  },
  {
   "cell_type": "markdown",
   "id": "cooperative-collectible",
   "metadata": {},
   "source": [
    "Geo centroids"
   ]
  },
  {
   "cell_type": "code",
   "execution_count": null,
   "id": "sonic-privacy",
   "metadata": {},
   "outputs": [],
   "source": [
    "# hospitals_geo.head(1)\n",
    "print(hospitals_geo.crs)\n",
    "\n",
    "hospitals_geo_2 = hospitals_geo.to_crs(3857)\n",
    "hosp_centroids = hospitals_geo_2.geometry.centroid\n",
    "\n",
    "print(hosp_centroids.crs)"
   ]
  },
  {
   "cell_type": "code",
   "execution_count": null,
   "id": "domestic-disabled",
   "metadata": {},
   "outputs": [],
   "source": [
    "hosp_centroids[:2]"
   ]
  },
  {
   "cell_type": "markdown",
   "id": "extra-carter",
   "metadata": {},
   "source": [
    "#### Geo distances\n",
    "\n",
    "<p>\n",
    "from cathedral.\n",
    "</p>"
   ]
  },
  {
   "cell_type": "code",
   "execution_count": null,
   "id": "looking-canon",
   "metadata": {},
   "outputs": [],
   "source": [
    "def distances(row, p=cath_geo):\n",
    "    pr = p.distance(other=row)\n",
    "    return round(pr, 2)"
   ]
  },
  {
   "cell_type": "code",
   "execution_count": null,
   "id": "occupational-ireland",
   "metadata": {},
   "outputs": [],
   "source": [
    "hospitals_geo['Distances_cathedral m']=hosp_centroids.apply(distances)"
   ]
  },
  {
   "cell_type": "code",
   "execution_count": null,
   "id": "technological-belize",
   "metadata": {},
   "outputs": [],
   "source": [
    "hospitals_distances = hospitals_geo[['NAME', 'Distances_cathedral m']]\n",
    "hospitals_distances = hospitals_distances.copy()\n",
    "hospitals_distances['km'] = round(hospitals_distances['Distances_cathedral m'] / 1000, 2)\n",
    "hospitals_distances.sort_values(by='km', ascending=False).head()"
   ]
  },
  {
   "cell_type": "markdown",
   "id": "spatial-ground",
   "metadata": {},
   "source": [
    "From center of Cologne."
   ]
  },
  {
   "cell_type": "code",
   "execution_count": null,
   "id": "handmade-persian",
   "metadata": {},
   "outputs": [],
   "source": [
    "hospitals_geo_2323 = hospitals_geo.copy()"
   ]
  },
  {
   "cell_type": "code",
   "execution_count": null,
   "id": "julian-thermal",
   "metadata": {},
   "outputs": [],
   "source": [
    "# cath_geo\n",
    "# cath_geo.crs\n",
    "# cologne_center.crs\n",
    "# hosp_centroids"
   ]
  },
  {
   "cell_type": "code",
   "execution_count": null,
   "id": "broad-click",
   "metadata": {},
   "outputs": [],
   "source": [
    "cologne_center_3857 = cologne_center.to_crs(3857)\n",
    "cologne_center_3857"
   ]
  },
  {
   "cell_type": "code",
   "execution_count": null,
   "id": "freelance-diversity",
   "metadata": {},
   "outputs": [],
   "source": [
    "hospitals_geo_2323['Distances_center_m']= \\\n",
    "hosp_centroids.apply(distances, args=([cologne_center_3857]))"
   ]
  },
  {
   "cell_type": "code",
   "execution_count": null,
   "id": "potential-magic",
   "metadata": {},
   "outputs": [],
   "source": [
    "hospitals_geo_2323.head(1)"
   ]
  },
  {
   "cell_type": "markdown",
   "id": "generous-lighter",
   "metadata": {},
   "source": [
    "#### Folium map of Lindental district around university clinics"
   ]
  },
  {
   "cell_type": "code",
   "execution_count": null,
   "id": "automotive-consciousness",
   "metadata": {},
   "outputs": [],
   "source": [
    "# hospitals_geo.NAME.unique()\n",
    "uniklinik = hospitals_geo[hospitals_geo.NAME == 'Universitätskliniken']\n",
    "# uniklinik.columns\n",
    "uniklinik"
   ]
  },
  {
   "cell_type": "code",
   "execution_count": null,
   "id": "documentary-wildlife",
   "metadata": {},
   "outputs": [],
   "source": [
    "uni_geocoords = [float(uniklinik.geometry.y), float(uniklinik.geometry.x)]\n",
    "print(uni_geocoords)\n",
    "print(uniklinik.crs)\n",
    "\n",
    "f = folium.Figure(width=550, height=250)\n",
    "\n",
    "uniklinik_map = folium.Map(location=uni_geocoords, zoom_start=15,\n",
    "                           tiles='openstreetmap').add_to(f)\n",
    "\n",
    "\n",
    "folium.Marker(location=uni_geocoords, popup='Universitaetskliniken:<br>Joseph-Stelzmann-Str. 9',\n",
    "              icon = folium.Icon(icon='hospital-symbol', prefix='fa',\n",
    "                                 color='green')).add_to(uniklinik_map)"
   ]
  },
  {
   "cell_type": "code",
   "execution_count": null,
   "id": "common-welsh",
   "metadata": {},
   "outputs": [],
   "source": [
    "display(uniklinik_map)"
   ]
  },
  {
   "cell_type": "markdown",
   "id": "impossible-norway",
   "metadata": {},
   "source": [
    "Displaying borders of Lindenthal."
   ]
  },
  {
   "cell_type": "code",
   "execution_count": null,
   "id": "wanted-chapel",
   "metadata": {},
   "outputs": [],
   "source": [
    "# hospitals_intersect_dist[hospitals_intersect_dist.NAME == 'Universitätskliniken']\n",
    "Lindenthal = sf_2.loc[sf_2.STT_NAME=='Lindenthal']\n",
    "\n",
    "print(type(Lindenthal))\n",
    "Lindenthal"
   ]
  },
  {
   "cell_type": "code",
   "execution_count": null,
   "id": "genetic-picture",
   "metadata": {},
   "outputs": [],
   "source": [
    "Lindenthal_json = Lindenthal.to_json()\n",
    "\n",
    "Lindenthal_borders  =   folium.GeoJson(data=Lindenthal_json, \n",
    "                        style_function= \\\n",
    "                        lambda x: {'fillColor': 'crimson',\n",
    "                          \"color\": \"darkblue\",\n",
    "                          \"weight\": 7,\n",
    "                          \"opacity\": 0.6,\n",
    "                          \"stroke\":True})"
   ]
  },
  {
   "cell_type": "code",
   "execution_count": null,
   "id": "prime-platform",
   "metadata": {},
   "outputs": [],
   "source": [
    "folium.Popup(\"\"\" Lindenthal is a city district of the City of Cologne in Germany. It has about 153,000 inhabitants (as of December 2019) \n",
    "and covers an area of 41.8 square km. Many parts of Lindenthal are dominated by academic \n",
    "and research campuses, primarily linked to the University of Cologne and the German\n",
    "Sport University.\"\"\" ).add_to(Lindenthal_borders)\n",
    "\n",
    "f = folium.Figure(width=550, height=250)\n",
    "\n",
    "uniklinik_map_2 = folium.Map(location=uni_geocoords, \n",
    "                             zoom_start=12,\n",
    "                             tiles='openstreetmap').add_to(f)\n",
    "\n",
    "\n",
    "Lindenthal_borders.add_to(uniklinik_map_2)\n",
    "\n",
    "display(uniklinik_map_2)"
   ]
  },
  {
   "cell_type": "markdown",
   "id": "hearing-manual",
   "metadata": {},
   "source": [
    "#### Folium map of hospitals in Cologne"
   ]
  },
  {
   "cell_type": "code",
   "execution_count": null,
   "id": "embedded-virtue",
   "metadata": {},
   "outputs": [],
   "source": [
    "hospitals_geo.head(1)\n",
    "hospitals_geo.shape[0]"
   ]
  },
  {
   "cell_type": "code",
   "execution_count": null,
   "id": "relevant-zimbabwe",
   "metadata": {},
   "outputs": [],
   "source": [
    "hospitals_geo['NAME'] = \\\n",
    "hospitals_geo.apply(diacritical, args=(['NAME']), axis=1)"
   ]
  },
  {
   "cell_type": "markdown",
   "id": "fixed-gregory",
   "metadata": {},
   "source": [
    "This is another approach to iterate over the geo coords."
   ]
  },
  {
   "cell_type": "code",
   "execution_count": null,
   "id": "norwegian-carolina",
   "metadata": {},
   "outputs": [],
   "source": [
    "geocoords_hospitals = []\n",
    "hospital_names = []\n",
    "\n",
    "for i in range(0, hospitals_geo.shape[0]):\n",
    "    geocoords_hospital = [hospitals_geo.iloc[i]['Latitude'], hospitals_geo.iloc[i]['Longitude']]\n",
    "    geocoords_hospitals.append(geocoords_hospital)\n",
    "    \n",
    "    hospital_name = hospitals_geo.iloc[i]['NAME']\n",
    "    hospital_names.append(hospital_name)"
   ]
  },
  {
   "cell_type": "code",
   "execution_count": null,
   "id": "chief-registration",
   "metadata": {},
   "outputs": [],
   "source": [
    "print(geocoords_hospitals[:2])\n",
    "print(hospital_names[:4])"
   ]
  },
  {
   "cell_type": "code",
   "execution_count": null,
   "id": "tight-complaint",
   "metadata": {},
   "outputs": [],
   "source": [
    "f_hospitals = folium.Figure(width=500, height=300)\n",
    "\n",
    "hospitals_title= \"\"\"Hospitals in Cologne\"\"\"\n",
    "\n",
    "hospitals_title_2 = \\\n",
    "'''<h1 align=\"center\" style=\"font-size:16px\" font-style=\"italic\"><b>{}</b></h2>\n",
    "'''.format(hospitals_title)\n",
    "\n",
    "\n",
    "map_hospitals = folium.Map(location=cologne_center_geocoord,\n",
    "                           width='100%', height='100%', left='0%', top='0%', \n",
    "                           position='relative', tiles='OpenStreetMap', \n",
    "                           attr=None, min_zoom=2, max_zoom=18, \n",
    "                           zoom_start=11, min_lat=- 90, max_lat=90, min_lon=- 180, \n",
    "                           max_lon=180, max_bounds=False, crs='EPSG3857', \n",
    "                           control_scale=False, prefer_canvas=False, \n",
    "                           no_touch=False, disable_3d=False, png_enabled=False)\n",
    "\n",
    "map_hospitals_districts = folium.GeoJson(sf_1.geometry,\n",
    "                                         style_function = \\\n",
    "                                         lambda x: {'color': 'black', 'weight': 0.5, \n",
    "                                                    'stroke': True}).add_to(map_hospitals)\n",
    "\n",
    "for i in range(0, hospitals_geo.shape[0]):\n",
    "    geocoords_hospital = [hospitals_geo.iloc[i]['Latitude'], hospitals_geo.iloc[i]['Longitude']]\n",
    "    hospital_name = hospitals_geo.iloc[i]['NAME']\n",
    "    \n",
    "    folium.Marker(location=geocoords_hospital, popup=hospital_name,\n",
    "                  icon = folium.Icon(color='green', icon_color='white', icon='heart', \n",
    "                                     angle=0, prefix='glyphicon')).add_to(map_hospitals)\n",
    " \n",
    "\n",
    " \n",
    "map_hospitals.get_root().html.add_child(folium.Element(hospitals_title_2))"
   ]
  },
  {
   "cell_type": "code",
   "execution_count": null,
   "id": "streaming-angel",
   "metadata": {},
   "outputs": [],
   "source": [
    "display(map_hospitals)"
   ]
  },
  {
   "cell_type": "markdown",
   "id": "charming-judge",
   "metadata": {},
   "source": [
    "## Choropleth map\n",
    "<p>\n",
    "\"(from Greek χῶρος choros 'area/region' and πλῆθος plethos 'multitude') is a type of thematic map in which a set of pre-defined areas is colored or patterned in proportion to a statistical variable that represents an aggregate summary of a geographic characteristic within each area, such as population density or per-capita income.\" (Wikipedia)\n",
    "</p> \n",
    "\n",
    "<p>\n",
    "The definition above makes clear, a statistical variable is necessary.<br>\n",
    "Statistical variables are derived from given information for example by calculating a ratio sythentically, based on new introduced variables from other data sets, or both.\n",
    "</p> \n",
    "\n",
    "<p>\n",
    "The data set including the statistical variable here is the inhabitant development of Cologne by districts.\n",
    "</p> \n",
    "\n",
    "### Calculating statistical variables \n",
    "for expressing them in the Choropleth"
   ]
  },
  {
   "cell_type": "code",
   "execution_count": null,
   "id": "theoretical-identity",
   "metadata": {},
   "outputs": [],
   "source": [
    "# Einwohnerentwicklung_Stadtteil_6.csv\n",
    "inhabitants =  pd.read_csv('datasets/Einwohnerentwicklung_Stadtteil_6.csv',\n",
    "                           delimiter=',', encoding='utf-8')"
   ]
  },
  {
   "cell_type": "code",
   "execution_count": null,
   "id": "inner-magnet",
   "metadata": {},
   "outputs": [],
   "source": [
    "print(type(inhabitants))\n",
    "print(inhabitants.shape)\n",
    "print(inhabitants.info())"
   ]
  },
  {
   "cell_type": "code",
   "execution_count": null,
   "id": "civil-garage",
   "metadata": {},
   "outputs": [],
   "source": [
    "inhabitants.head(5)"
   ]
  },
  {
   "cell_type": "code",
   "execution_count": null,
   "id": "removable-stable",
   "metadata": {},
   "outputs": [],
   "source": [
    "# Vowels are displayed correctly\n",
    "inhabitant_districts = inhabitants.Stadtteil.unique()\n",
    "inhabitant_districts = np.sort(inhabitant_districts)\n",
    "\n",
    "print(type(inhabitant_districts))\n",
    "print(inhabitant_districts[:5])\n",
    "print(len(inhabitant_districts))"
   ]
  },
  {
   "cell_type": "markdown",
   "id": "nominated-tradition",
   "metadata": {},
   "source": [
    "Are the districts matching within data sets?"
   ]
  },
  {
   "cell_type": "code",
   "execution_count": null,
   "id": "verbal-booth",
   "metadata": {},
   "outputs": [],
   "source": [
    "sf_1.head(1)"
   ]
  },
  {
   "cell_type": "code",
   "execution_count": null,
   "id": "professional-poland",
   "metadata": {},
   "outputs": [],
   "source": [
    "sf_1_colog_districts = sf_1.STT_NAME.unique()\n",
    "sf_1_colog_districts  = np.sort(sf_1_colog_districts)\n",
    "\n",
    "print(sf_1_colog_districts[:3])\n",
    "print(len(sf_1_colog_districts))\n",
    "print(type(sf_1_colog_districts))"
   ]
  },
  {
   "cell_type": "code",
   "execution_count": null,
   "id": "passing-leather",
   "metadata": {},
   "outputs": [],
   "source": [
    "compare_districts = \\\n",
    "pd.DataFrame(zip(inhabitant_districts, sf_1_colog_districts ), columns=['Inhabitants', 'sf_1'])\n"
   ]
  },
  {
   "cell_type": "code",
   "execution_count": null,
   "id": "structured-integrity",
   "metadata": {},
   "outputs": [],
   "source": [
    "compare_districts.head()"
   ]
  },
  {
   "cell_type": "code",
   "execution_count": null,
   "id": "retained-offense",
   "metadata": {},
   "outputs": [],
   "source": [
    "compare_districts['Match_?'] = \\\n",
    "compare_districts.apply(lambda x: 1 if x.Inhabitants == x.sf_1 else 0, axis=1 )"
   ]
  },
  {
   "cell_type": "code",
   "execution_count": null,
   "id": "british-borough",
   "metadata": {},
   "outputs": [],
   "source": [
    "compare_districts.head(2)"
   ]
  },
  {
   "cell_type": "markdown",
   "id": "personal-research",
   "metadata": {},
   "source": [
    "Number of matches?"
   ]
  },
  {
   "cell_type": "code",
   "execution_count": null,
   "id": "legal-finger",
   "metadata": {},
   "outputs": [],
   "source": [
    "compare_districts['Match_?'].value_counts()"
   ]
  },
  {
   "cell_type": "code",
   "execution_count": null,
   "id": "canadian-dating",
   "metadata": {},
   "outputs": [],
   "source": [
    "mismatches = compare_districts[compare_districts['Match_?'] == 0]\n",
    "mismatches"
   ]
  },
  {
   "cell_type": "markdown",
   "id": "critical-gibraltar",
   "metadata": {},
   "source": [
    "The mismatches are caused by hyphens an forward slash.<br>\n",
    "Below the hyphens are replaced with forward slashes."
   ]
  },
  {
   "cell_type": "code",
   "execution_count": null,
   "id": "decent-going",
   "metadata": {},
   "outputs": [],
   "source": [
    "mis_list = mismatches.Inhabitants.to_list()\n",
    "mis_list \n",
    "\n",
    "# print(inhabitants.Stadtteil)"
   ]
  },
  {
   "cell_type": "code",
   "execution_count": null,
   "id": "spiritual-feedback",
   "metadata": {},
   "outputs": [],
   "source": [
    "matching_df = \\\n",
    "inhabitants.apply(lambda x: 1 if x.Stadtteil in  mis_list else 0, axis=1)\n",
    "matching_df[:5]"
   ]
  },
  {
   "cell_type": "code",
   "execution_count": null,
   "id": "composed-prescription",
   "metadata": {},
   "outputs": [],
   "source": [
    "mis_dropindex = mismatches.sf_1.reset_index(drop=True)"
   ]
  },
  {
   "cell_type": "code",
   "execution_count": null,
   "id": "skilled-expression",
   "metadata": {},
   "outputs": [],
   "source": [
    "inhabitants.loc[matching_df==1, 'Stadtteil'] = mis_dropindex\n",
    "inhabitants.head(4)"
   ]
  },
  {
   "cell_type": "markdown",
   "id": "secret-deficit",
   "metadata": {},
   "source": [
    "Time series plots."
   ]
  },
  {
   "cell_type": "code",
   "execution_count": null,
   "id": "continent-virus",
   "metadata": {},
   "outputs": [],
   "source": [
    "# index represents the groupby\n",
    "inhab_mline = inhabitants.set_index('Stadtteil').drop('Nr.', axis=1)\n",
    "inhab_mline.head(1)"
   ]
  },
  {
   "cell_type": "code",
   "execution_count": null,
   "id": "median-retro",
   "metadata": {},
   "outputs": [],
   "source": [
    "inhab_mline_T = inhab_mline.T\n",
    "inhab_mline_T.head(1)"
   ]
  },
  {
   "cell_type": "code",
   "execution_count": null,
   "id": "wanted-marsh",
   "metadata": {},
   "outputs": [],
   "source": [
    "fig, ax = plt.subplots(1,1, figsize=(15,8))\n",
    "plt.tight_layout()\n",
    "\n",
    "inhab_mline_T.plot(legend=True, ax=ax, \n",
    "                 title=\"Inhabitant development over time by district\")\n",
    "\n",
    "# bbox_to_anchor= (-0.03 = right to left, -0.1 = upper to lower) - adjustment of legend\n",
    "ax.legend(bbox_to_anchor= (-0.07, -0.1), loc=\"upper left\", ncol=8)\n",
    "ax.set_xlabel('Year', fontsize=14)\n",
    "ax.set_ylabel('Inhabitats (n)', fontsize=14)\n",
    "\n",
    "\n",
    "plt.show()"
   ]
  },
  {
   "cell_type": "code",
   "execution_count": null,
   "id": "hindu-isaac",
   "metadata": {},
   "outputs": [],
   "source": [
    "color_list=['#004200', '#0000bd', '#46f0f0', '#f032e6', '#bcf60c', '#000080',\n",
    "            '#f58231', '#ffbb3d', '#0000FF', '#242400', '#bcf60c', '#fabebe',\n",
    "            '#000042', '#6e00c2', '#616161', '#0f0f0f']\n",
    "\n",
    "color_list_2 = np.repeat(color_list, 10)"
   ]
  },
  {
   "cell_type": "markdown",
   "id": "adjustable-championship",
   "metadata": {},
   "source": [
    "Multiple line plot - one plot over time for every district."
   ]
  },
  {
   "cell_type": "code",
   "execution_count": null,
   "id": "based-duncan",
   "metadata": {},
   "outputs": [],
   "source": [
    "list_keys = inhab_mline.index.to_list() \n",
    "\n",
    "fig = plt.figure(figsize=(100,700))\n",
    "fig.subplots_adjust(wspace=0.1, hspace=0.6, bottom=0, top=0.5)\n",
    "\n",
    "\n",
    "for u,(i,j) in enumerate(zip(range(1,87), list_keys)):\n",
    "        ax = fig.add_subplot(40, 3, i)\n",
    "        # inhab_mline.loc['Altstadt/Nord', :]\n",
    "        inhab_mline.loc[j, :].plot(legend=False, ax=ax, color=color_list_2[i],\n",
    "                                   title=list_keys[u])\n",
    "   "
   ]
  },
  {
   "cell_type": "markdown",
   "id": "partial-fetish",
   "metadata": {},
   "source": [
    "###  Average inhabitant number from 2000 to 2012 per district: metric - mean inhabitants"
   ]
  },
  {
   "cell_type": "code",
   "execution_count": null,
   "id": "serial-ghana",
   "metadata": {},
   "outputs": [],
   "source": [
    "# print(inhabitants.head())\n",
    "years= inhabitants.iloc[:, [2,3,4,5]]\n",
    "print(years.info())"
   ]
  },
  {
   "cell_type": "code",
   "execution_count": null,
   "id": "ordinary-forward",
   "metadata": {},
   "outputs": [],
   "source": [
    "means_years = []\n",
    "\n",
    "for row in inhabitants.iterrows():\n",
    "    # print(row[1])\n",
    "    mean_year = round((row[1][2] + row[1][3] + row[1][4] + row[1][5]) / 4,0)\n",
    "    # print(type(row[1][2]))\n",
    "    means_years.append(mean_year)\n",
    "\n",
    "print(len(means_years))\n",
    "print(means_years[:5])"
   ]
  },
  {
   "cell_type": "code",
   "execution_count": null,
   "id": "leading-sigma",
   "metadata": {},
   "outputs": [],
   "source": [
    "inhabitants_2 = inhabitants.copy()"
   ]
  },
  {
   "cell_type": "code",
   "execution_count": null,
   "id": "surface-white",
   "metadata": {},
   "outputs": [],
   "source": [
    "inhabitants_2.loc[:,'Mean_Inhabitants'] = means_years"
   ]
  },
  {
   "cell_type": "code",
   "execution_count": null,
   "id": "respected-savings",
   "metadata": {},
   "outputs": [],
   "source": [
    "inhabitants_2.head()"
   ]
  },
  {
   "cell_type": "code",
   "execution_count": null,
   "id": "blessed-petersburg",
   "metadata": {},
   "outputs": [],
   "source": [
    "inhab_merge = inhabitants_2.iloc[:, [0,1,6]]\n",
    "inhab_merge.head(1)"
   ]
  },
  {
   "cell_type": "markdown",
   "id": "conditional-mexican",
   "metadata": {},
   "source": [
    "Sum inhabitants of Cologne by year."
   ]
  },
  {
   "cell_type": "code",
   "execution_count": null,
   "id": "lasting-wagon",
   "metadata": {},
   "outputs": [],
   "source": [
    "# cols to index - years to index\n",
    "years_index = inhabitants.drop('Nr.', axis=1).T"
   ]
  },
  {
   "cell_type": "code",
   "execution_count": null,
   "id": "unlimited-corner",
   "metadata": {},
   "outputs": [],
   "source": [
    "# Stadtteile as col names\n",
    "years_index = \\\n",
    "years_index.rename(columns = \n",
    "                   {col:name for col,name in zip(years_index.columns, inhabitants.Stadtteil)})"
   ]
  },
  {
   "cell_type": "code",
   "execution_count": null,
   "id": "other-grade",
   "metadata": {},
   "outputs": [],
   "source": [
    "years_index.drop('Stadtteil', inplace=True)"
   ]
  },
  {
   "cell_type": "code",
   "execution_count": null,
   "id": "bigger-union",
   "metadata": {},
   "outputs": [],
   "source": [
    "years_index.head()"
   ]
  },
  {
   "cell_type": "code",
   "execution_count": null,
   "id": "acute-packing",
   "metadata": {},
   "outputs": [],
   "source": [
    "years_index.iloc[0,:].sum()"
   ]
  },
  {
   "cell_type": "markdown",
   "id": "historical-solution",
   "metadata": {},
   "source": [
    "Calculating row sums."
   ]
  },
  {
   "cell_type": "code",
   "execution_count": null,
   "id": "worth-suicide",
   "metadata": {},
   "outputs": [],
   "source": [
    "np.sum(years_index.iloc[0,:])"
   ]
  },
  {
   "cell_type": "code",
   "execution_count": null,
   "id": "secure-services",
   "metadata": {},
   "outputs": [],
   "source": [
    "def rowsums(row):\n",
    "    return np.sum(row)"
   ]
  },
  {
   "cell_type": "markdown",
   "id": "answering-portable",
   "metadata": {},
   "source": [
    "<strong>Apply function to each row.</strong>\n",
    " \n",
    "<p>\n",
    "axis{0 or ‘index’, 1 or ‘columns’}, default 0<br>\n",
    "Axis along which the function is applied:<br>\n",
    "0 or ‘index’: apply function to each column.<br>\n",
    "1 or ‘columns’: apply function to each row.\n",
    "</p> "
   ]
  },
  {
   "cell_type": "code",
   "execution_count": null,
   "id": "proof-creature",
   "metadata": {},
   "outputs": [],
   "source": [
    "years_index['Sum'] = years_index.apply(rowsums, axis=1)"
   ]
  },
  {
   "cell_type": "code",
   "execution_count": null,
   "id": "varying-bride",
   "metadata": {},
   "outputs": [],
   "source": [
    "years_index.iloc[:,[0,5,-1]]"
   ]
  },
  {
   "cell_type": "code",
   "execution_count": null,
   "id": "manufactured-seating",
   "metadata": {},
   "outputs": [],
   "source": [
    "sf_1.columns\n",
    "sf_1.head(1)"
   ]
  },
  {
   "cell_type": "code",
   "execution_count": null,
   "id": "massive-timothy",
   "metadata": {},
   "outputs": [],
   "source": [
    "cologne_inhabitants = \\\n",
    "sf_1.merge(inhab_merge, left_on='STT_NAME', right_on='Stadtteil')"
   ]
  },
  {
   "cell_type": "markdown",
   "id": "studied-feeling",
   "metadata": {},
   "source": [
    "Adding the area as a another variable."
   ]
  },
  {
   "cell_type": "code",
   "execution_count": null,
   "id": "spatial-privacy",
   "metadata": {},
   "outputs": [],
   "source": [
    "# cologne_inhabitants.geometry.crs\n",
    "conversion_m_km = 1000000\n",
    "cologne_inhabitants.loc[:, 'Area_km'] = round(cologne_inhabitants.geometry.to_crs('EPSG:3857').area / conversion_m_km,2)"
   ]
  },
  {
   "cell_type": "code",
   "execution_count": null,
   "id": "democratic-marketing",
   "metadata": {},
   "outputs": [],
   "source": [
    "# Check\n",
    "inhabitants_2[inhabitants_2.Stadtteil == 'Flittard']"
   ]
  },
  {
   "cell_type": "markdown",
   "id": "psychological-cinema",
   "metadata": {},
   "source": [
    "<strong>Calculating population density</strong>\n",
    "<p>\n",
    "A population density is defined as the total number of people per unit of area:<br>\n",
    "D = P / A <br>\n",
    "Where D is the density<br>\n",
    "P is the population number<br>\n",
    "A is the area.<br>\n",
    "<a href=\"https://calculator.academy/population-density/\" target=\"_blank\">Population Density Calculator</a> \n",
    "</p> \n",
    "\n"
   ]
  },
  {
   "cell_type": "code",
   "execution_count": null,
   "id": "constant-montgomery",
   "metadata": {},
   "outputs": [],
   "source": [
    "cologne_inhabitants['population_density'] = \\\n",
    "round(cologne_inhabitants['Mean_Inhabitants'] / cologne_inhabitants['Area_km'],2)"
   ]
  },
  {
   "cell_type": "code",
   "execution_count": null,
   "id": "guilty-scene",
   "metadata": {},
   "outputs": [],
   "source": [
    "print(type(cologne_inhabitants))\n",
    "cologne_inhabitants.head(1)"
   ]
  },
  {
   "cell_type": "markdown",
   "id": "forced-vampire",
   "metadata": {},
   "source": [
    "### Choropleth maps"
   ]
  },
  {
   "cell_type": "code",
   "execution_count": null,
   "id": "solved-pierre",
   "metadata": {},
   "outputs": [],
   "source": [
    "fig = plt.figure(figsize=(15,15))\n",
    "fig.tight_layout()\n",
    "#plt.subplots_adjust(wspace=0, hspace=0.6)\n",
    "\n",
    "ax = fig.add_subplot(221)\n",
    "\n",
    "\n",
    "cologne_inhabitants.plot(column='Area_km', legend=True, ax=ax, figsize=((8,4)),\n",
    "                         cmap='coolwarm')\n",
    "ax.set_title('Cologne districts colored \\n by area size', fontsize=16)\n",
    "ax.set_xlabel('Longitude')\n",
    "ax.set_ylabel('Latitude')\n",
    "\n",
    "ax2 = fig.add_subplot(222)\n",
    "cologne_inhabitants.plot(column='Mean_Inhabitants', legend=True, ax=ax2, figsize=((8,4)), \n",
    "                         cmap='Greens')\n",
    "ax2.set_title('Cologne districts colored \\n by mean inhabitants numbers', fontsize=16)\n",
    "ax2.set_xlabel('Longitude')\n",
    "ax2.set_ylabel('Latitude')\n",
    "\n",
    "ax3 = fig.add_subplot(223)\n",
    "cologne_inhabitants.plot(column='population_density', legend=True, ax=ax3, figsize=((8,4)), \n",
    "                         cmap='Oranges')\n",
    "ax3.set_title('Cologne districts colored \\n by population_density', fontsize=16)\n",
    "ax3.set_xlabel('Longitude')\n",
    "ax3.set_ylabel('Latitude')\n",
    "\n",
    "plt.show()"
   ]
  },
  {
   "cell_type": "markdown",
   "id": "approved-clause",
   "metadata": {},
   "source": [
    "Merging the parking meters data df with the cologne_inhabitants df."
   ]
  },
  {
   "cell_type": "markdown",
   "id": "fallen-chambers",
   "metadata": {},
   "source": [
    "Selecting the relevant variables."
   ]
  },
  {
   "cell_type": "code",
   "execution_count": null,
   "id": "olympic-intake",
   "metadata": {},
   "outputs": [],
   "source": [
    "inhab_reduced = cologne_inhabitants[['Stadtteil', 'Mean_Inhabitants', 'Area_km', \n",
    "                                     'population_density']]\n",
    "inhab_reduced.head(1)"
   ]
  },
  {
   "cell_type": "markdown",
   "id": "rapid-convert",
   "metadata": {},
   "source": [
    "Merging the geo df created with a spatial join from above with the inhabitant df.<br>\n",
    "This confirms what a powerful tool spatial joins are."
   ]
  },
  {
   "cell_type": "code",
   "execution_count": null,
   "id": "great-heater",
   "metadata": {},
   "outputs": [],
   "source": [
    "pm_inter_inhab = \\\n",
    "pm_intersect_dist.merge(inhab_reduced, left_on='STT_NAME', right_on='Stadtteil')"
   ]
  },
  {
   "cell_type": "code",
   "execution_count": null,
   "id": "eastern-adoption",
   "metadata": {},
   "outputs": [],
   "source": [
    "sf1_geo_name = sf_1[['STT_NAME', 'geometry']]"
   ]
  },
  {
   "cell_type": "code",
   "execution_count": null,
   "id": "critical-democrat",
   "metadata": {},
   "outputs": [],
   "source": [
    "sf1_geo_name = sf1_geo_name.rename(columns = {'geometry':'district_geometry'})\n",
    "sf1_geo_name.head(1)"
   ]
  },
  {
   "cell_type": "code",
   "execution_count": null,
   "id": "foreign-grounds",
   "metadata": {},
   "outputs": [],
   "source": [
    "pm_inter_inhab_districts = pm_inter_inhab.merge(sf1_geo_name, on = 'STT_NAME')"
   ]
  },
  {
   "cell_type": "code",
   "execution_count": null,
   "id": "conventional-identifier",
   "metadata": {},
   "outputs": [],
   "source": [
    "cologne_inhabitants.head(1)"
   ]
  },
  {
   "cell_type": "code",
   "execution_count": null,
   "id": "alien-toyota",
   "metadata": {},
   "outputs": [],
   "source": [
    "choro_pm = pm_inter_inhab_districts.copy()\n",
    "choro_pm.rename(columns={'geometry':'geometry_pm', 'district_geometry': 'geometry'},\n",
    "                inplace=True)"
   ]
  },
  {
   "cell_type": "code",
   "execution_count": null,
   "id": "sized-business",
   "metadata": {},
   "outputs": [],
   "source": [
    "# print(choro_pm.geometry.crs)\n",
    "# print(choro_pm.geometry_pm.crs)\n",
    "# print(cologne_inhabitants.head(1))\n",
    "print(choro_pm.crs)\n",
    "choro_pm.head(1)\n"
   ]
  },
  {
   "cell_type": "code",
   "execution_count": null,
   "id": "virgin-export",
   "metadata": {},
   "outputs": [],
   "source": [
    "### Chorpleth plotting based on statistical variables."
   ]
  },
  {
   "cell_type": "code",
   "execution_count": null,
   "id": "referenced-calibration",
   "metadata": {
    "tags": []
   },
   "outputs": [],
   "source": [
    "choro_pm.shape"
   ]
  },
  {
   "cell_type": "code",
   "execution_count": null,
   "id": "convertible-gross",
   "metadata": {},
   "outputs": [],
   "source": [
    "choro_pm.drop(['STT_NAME', 'Abschnitt/-von', 'Abschnitt/-bis'], \n",
    "              axis=1, inplace=True)"
   ]
  },
  {
   "cell_type": "code",
   "execution_count": null,
   "id": "behind-maker",
   "metadata": {},
   "outputs": [],
   "source": [
    "print(choro_pm.shape)\n",
    "print(type(choro_pm))"
   ]
  },
  {
   "cell_type": "code",
   "execution_count": null,
   "id": "stylish-combine",
   "metadata": {},
   "outputs": [],
   "source": [
    "choro_pm_gb_Gebiet = choro_pm.groupby('Bezirk/Gebiet')['Bezirk/Gebiet'].count()\n",
    "choro_pm_gb_Gebiet_df = choro_pm_gb_Gebiet.to_frame(name='pm_per_Bezirk')\n",
    "choro_pm_gb_Gebiet_df.reset_index(inplace=True)\n",
    "\n",
    "# choro_pm_gb_Gebiet_df.index.rename('')\n",
    "print(type(choro_pm_gb_Gebiet_df))\n",
    "print(choro_pm_gb_Gebiet_df.shape)\n",
    "choro_pm_gb_Gebiet_df.head(2)"
   ]
  },
  {
   "cell_type": "code",
   "execution_count": null,
   "id": "suited-rugby",
   "metadata": {},
   "outputs": [],
   "source": [
    "choro_pm_233 = \\\n",
    "choro_pm[['Bezirk/Gebiet', 'Stadtteil', \n",
    "          'Mean_Inhabitants', 'Area_km', 'population_density',\n",
    "          'geometry']]"
   ]
  },
  {
   "cell_type": "code",
   "execution_count": null,
   "id": "structural-forwarding",
   "metadata": {},
   "outputs": [],
   "source": [
    "print(type(choro_pm.geometry))"
   ]
  },
  {
   "cell_type": "code",
   "execution_count": null,
   "id": "understood-buying",
   "metadata": {},
   "outputs": [],
   "source": [
    "choro_pm.geometry[:3]"
   ]
  },
  {
   "cell_type": "code",
   "execution_count": null,
   "id": "necessary-actor",
   "metadata": {},
   "outputs": [],
   "source": [
    "# choro_pm.columns"
   ]
  },
  {
   "cell_type": "code",
   "execution_count": null,
   "id": "optical-discipline",
   "metadata": {},
   "outputs": [],
   "source": [
    "choro_pm.groupby('Bezirk/Gebiet')['PSA-Nr.'].count()[:10]"
   ]
  },
  {
   "cell_type": "code",
   "execution_count": null,
   "id": "centered-mirror",
   "metadata": {},
   "outputs": [],
   "source": [
    "choro_pm.to_crs(3857).plot()\n",
    "plt.show()"
   ]
  },
  {
   "cell_type": "code",
   "execution_count": null,
   "id": "killing-circular",
   "metadata": {},
   "outputs": [],
   "source": []
  },
  {
   "cell_type": "markdown",
   "id": "fifty-external",
   "metadata": {},
   "source": []
  },
  {
   "cell_type": "code",
   "execution_count": null,
   "id": "classified-tobago",
   "metadata": {},
   "outputs": [],
   "source": [
    "# Like above - check - works\n",
    "cologne_inhabitants.plot(column='Area_km', legend=True)\n",
    "plt.title('Districts colored by area size', fontsize=12)\n",
    "plt.show()"
   ]
  },
  {
   "cell_type": "code",
   "execution_count": null,
   "id": "competent-daughter",
   "metadata": {},
   "outputs": [],
   "source": [
    "choro_pm.to_crs(3857).plot(column='Area_km', legend=True)\n",
    "plt.title('Districts with parking meters \\n colored by area size', fontsize=12)\n",
    "plt.show()"
   ]
  },
  {
   "cell_type": "code",
   "execution_count": null,
   "id": "collected-guatemala",
   "metadata": {},
   "outputs": [],
   "source": [
    "# Remind the crs!!!\n",
    "fig = plt.figure()\n",
    "ax=fig.add_subplot(111)\n",
    "choro_pm.geometry.to_crs(3857).plot(ax=ax, cmap='YlGn')\n",
    "choro_pm.geometry_pm.to_crs(3857).plot(ax=ax, color='r', edgecolor='black')\n",
    "ax.set_title('Districts with parking meters', fontsize=12)\n",
    "plt.show()"
   ]
  },
  {
   "cell_type": "code",
   "execution_count": null,
   "id": "medium-permission",
   "metadata": {},
   "outputs": [],
   "source": [
    "# Remind the crs!!!\n",
    "fig = plt.figure()\n",
    "ax=fig.add_subplot(111)\n",
    "choro_pm.to_crs(3857).plot(column='population_density', ax=ax, cmap='PuOr', legend=True)\n",
    "choro_pm.geometry_pm.to_crs(3857).plot(ax=ax, color='r', edgecolor='black')\n",
    "ax.set_title('Districts with parking meters \\n colored by population density', fontsize=12)\n",
    "plt.show()"
   ]
  },
  {
   "cell_type": "markdown",
   "id": "inappropriate-philippines",
   "metadata": {},
   "source": [
    "Is there a correlation between parking meters and population density?"
   ]
  },
  {
   "cell_type": "code",
   "execution_count": null,
   "id": "mysterious-titanium",
   "metadata": {},
   "outputs": [],
   "source": [
    "# Remind the crs!!!\n",
    "fig = plt.figure()\n",
    "ax=fig.add_subplot(111)\n",
    "choro_pm.to_crs(3857).plot(column='Mean_Inhabitants', ax=ax, cmap='Spectral', legend=True)\n",
    "choro_pm.geometry_pm.to_crs(3857).plot(ax=ax, color='r', edgecolor='black')\n",
    "ax.set_title('Districts with parking meters \\n colored by Mean_Inhabitants', \n",
    "             fontsize=12)\n",
    "plt.show()"
   ]
  },
  {
   "cell_type": "markdown",
   "id": "significant-release",
   "metadata": {
    "tags": []
   },
   "source": [
    "### Choropleth layers on Folium maps\n",
    "\n",
    "<p>\n",
    "Choropleth can be easily created by binding the data between Pandas DataFrames/Series and Geo/TopoJSON geometries. Color Brewer sequential color schemes are built-in to the library, and can be passed to quickly visualize different combinations.\n",
    "</p> \n",
    "<a href=\"https://python-visualization.github.io/folium/quickstart.html#Choropleth-maps\" target=\"_blank\">Github</a> \n",
    "\n",
    "<p>\n",
    "Two arguments of folium.choropleth are not self-explanatory.\n",
    "</p> \n",
    "\n",
    "<ul>\n",
    "  <li>\n",
    "  columns - a list of columns: one that corresponds to the polygons and one that has the\n",
    "  value to plot</li>\n",
    "  <li>key_on - a GeoJSON variable to bind the data to (always starts with feature )</li>\n",
    "</ul> \n",
    "\n",
    "<p>\n",
    "First we check the data frame. A special focus like always, when working with geopandas must \n",
    "be the CRS.</p> "
   ]
  },
  {
   "cell_type": "code",
   "execution_count": null,
   "id": "stretch-alias",
   "metadata": {},
   "outputs": [],
   "source": [
    "choro_pm = choro_pm.rename(columns={'Bezirk/Gebiet':'Bezirk'})\n",
    "choro_pm.info()"
   ]
  },
  {
   "cell_type": "code",
   "execution_count": null,
   "id": "frequent-adventure",
   "metadata": {},
   "outputs": [],
   "source": [
    "choro_pm.head(1)"
   ]
  },
  {
   "cell_type": "markdown",
   "id": "passing-musician",
   "metadata": {},
   "source": [
    "<p>\n",
    "The column geometry is the location of the parking meters.<br>\n",
    "This is useful, when location are set with markers, but can raise conflicts.<br>\n",
    "Geopandas is looking for geometry one geometry column sometimes.<br>\n",
    "At this point the column is therefore dropped.\n",
    "</p> "
   ]
  },
  {
   "cell_type": "code",
   "execution_count": null,
   "id": "coated-england",
   "metadata": {},
   "outputs": [],
   "source": [
    "choro_pm = choro_pm.drop('geometry_pm', axis=1)"
   ]
  },
  {
   "cell_type": "code",
   "execution_count": null,
   "id": "abandoned-hello",
   "metadata": {},
   "outputs": [],
   "source": []
  },
  {
   "cell_type": "code",
   "execution_count": null,
   "id": "adequate-proxy",
   "metadata": {},
   "outputs": [],
   "source": [
    "choro_pm = choro_pm.drop(columns=['Tagesgebuehr'])\n",
    "choro_pm = choro_pm.dropna()\n",
    "choro_pm.isnull().sum()"
   ]
  },
  {
   "cell_type": "code",
   "execution_count": null,
   "id": "computational-modern",
   "metadata": {},
   "outputs": [],
   "source": [
    "choro_pm.head(1)"
   ]
  },
  {
   "cell_type": "code",
   "execution_count": null,
   "id": "exact-young",
   "metadata": {},
   "outputs": [],
   "source": [
    "choro_pm.to_file(\"choro_pm_test.geojson\", driver='GeoJSON')\n"
   ]
  },
  {
   "cell_type": "code",
   "execution_count": null,
   "id": "least-confidence",
   "metadata": {},
   "outputs": [],
   "source": [
    "mode12 = choro_pm.mode\n",
    "print(type(mode12))"
   ]
  },
  {
   "cell_type": "code",
   "execution_count": null,
   "id": "endangered-organization",
   "metadata": {},
   "outputs": [],
   "source": [
    "print(choro_pm.geometry.crs)\n",
    "print(choro_pm.geometry[:3])"
   ]
  },
  {
   "cell_type": "markdown",
   "id": "retained-spine",
   "metadata": {},
   "source": [
    "<p>\n",
    "<b>Checking the GeoJson.</b><br>\n",
    "If the Json does not work folium.choropleth will not work.<br>\n",
    "The geo_data argument does not work without a GeoJson.\n",
    "</p> "
   ]
  },
  {
   "cell_type": "code",
   "execution_count": null,
   "id": "advisory-computer",
   "metadata": {},
   "outputs": [],
   "source": [
    "choro_complete_json =  choro_pm.to_json()"
   ]
  },
  {
   "cell_type": "code",
   "execution_count": null,
   "id": "legal-marina",
   "metadata": {},
   "outputs": [],
   "source": [
    "choro_complete_json[:1000]"
   ]
  },
  {
   "cell_type": "code",
   "execution_count": null,
   "id": "tough-rally",
   "metadata": {},
   "outputs": [],
   "source": [
    "choro_pm_dict = choro_pm.to_dict()\n",
    "choro_pm_dict.keys()"
   ]
  },
  {
   "cell_type": "code",
   "execution_count": null,
   "id": "excess-designation",
   "metadata": {},
   "outputs": [],
   "source": [
    "choro_pm.shape\n"
   ]
  },
  {
   "cell_type": "code",
   "execution_count": null,
   "id": "talented-circuit",
   "metadata": {},
   "outputs": [],
   "source": [
    "choro_pm.shape[0]"
   ]
  },
  {
   "cell_type": "code",
   "execution_count": null,
   "id": "selective-carrier",
   "metadata": {},
   "outputs": [],
   "source": [
    "choro_pm.head(2)"
   ]
  },
  {
   "cell_type": "code",
   "execution_count": null,
   "id": "double-proposition",
   "metadata": {},
   "outputs": [],
   "source": [
    "print(type(choro_pm.geometry[1]))"
   ]
  },
  {
   "cell_type": "markdown",
   "id": "dying-performer",
   "metadata": {},
   "source": [
    "#### Choropleth map of mean inhabitants by district"
   ]
  },
  {
   "cell_type": "code",
   "execution_count": null,
   "id": "operating-seafood",
   "metadata": {},
   "outputs": [],
   "source": [
    "map_pm_3 = folium.Map(location=cologne_center_geocoord, zoom_start=10)\n",
    "# folium.TileLayer('CartoDB positron', name=\"Light Map\",control=False).add_to(map_pm_3)\n",
    "\n",
    "map_pm_3.choropleth(\n",
    "geo_data=choro_pm,\n",
    "name='Choropleth',\n",
    "data=choro_pm,\n",
    "columns=['Stadtteil', 'Mean_Inhabitants'],\n",
    "key_on='feature.properties.Stadtteil',\n",
    "fill_color='Set2',\n",
    "fill_opacity=0.75,\n",
    "line_opacity=0.5,\n",
    "legend_name='Mean inhabitant over time per district or Stadtteil'\n",
    ")\n",
    "\n",
    "folium.LayerControl().add_to(map_pm_3)\n",
    "\n",
    "display(map_pm_3)"
   ]
  },
  {
   "cell_type": "markdown",
   "id": "asian-brand",
   "metadata": {},
   "source": [
    "The same plot like above on another map."
   ]
  },
  {
   "cell_type": "code",
   "execution_count": null,
   "id": "legendary-group",
   "metadata": {},
   "outputs": [],
   "source": [
    "mymap2 = folium.Map(location=cologne_center_geocoord, zoom_start=9,tiles=None)\n",
    "folium.TileLayer('CartoDB positron',name=\"Light Map\",control=False).add_to(mymap2)"
   ]
  },
  {
   "cell_type": "code",
   "execution_count": null,
   "id": "nutritional-brisbane",
   "metadata": {},
   "outputs": [],
   "source": [
    "begin = time.time()\n",
    "\n",
    "\n",
    "mymap2.choropleth(\n",
    " geo_data=choro_pm,\n",
    " name='Choropleth',\n",
    " data=choro_pm,\n",
    " columns=['Bezirk', 'Mean_Inhabitants'],\n",
    " key_on='feature.properties.Bezirk',\n",
    " fill_color='Reds',\n",
    " fill_opacity=1,\n",
    " line_opacity=0.2,\n",
    " legend_name='Mean Inhabitants over time per district or Bezirk',\n",
    " smooth_factor=0\n",
    ")\n",
    "\n",
    "display(mymap2)\n",
    "\n",
    "time.sleep(1)\n",
    "# store end time\n",
    "end = time.time()\n",
    "  \n",
    "# total time taken\n",
    "print(f\"Total runtime of a folium.choropleth based on a df of shape(2262, 20): is {end - begin}\")"
   ]
  },
  {
   "cell_type": "markdown",
   "id": "complex-paste",
   "metadata": {},
   "source": [
    "Checking again the crs."
   ]
  },
  {
   "cell_type": "code",
   "execution_count": null,
   "id": "empirical-thunder",
   "metadata": {},
   "outputs": [],
   "source": [
    "print(choro_pm.geometry[:2])\n",
    "print(choro_pm.shape)\n",
    "choro_pm.crs"
   ]
  },
  {
   "cell_type": "markdown",
   "id": "hindu-particular",
   "metadata": {},
   "source": [
    "#### Generating folium.choropleth maps <br> with geopandas groupby dataframes\n",
    "\n",
    "<p>\n",
    "The chloropleth above is based on a geopandas data frame of shape (2262, 20).<br>\n",
    "It is astonishing that geopandas is able to assign the metric to the districts over 2262 rows.<br>\n",
    "However the calculation requires heavy processing power.<br>\n",
    "It takes above 10 seconds.\n",
    "</p>\n",
    "    \n",
    "<p>\n",
    "The calculation cost is diminished, when the data frame is reduced.<br>\n",
    "This is done below with the groupby-method.<br>\n",
    "The first step is to select the variables needed for the plot, <br>\n",
    "then the groupby is applied and the aggregate without calculations is returned with 'first'.\n",
    "</p>"
   ]
  },
  {
   "cell_type": "code",
   "execution_count": null,
   "id": "parental-sector",
   "metadata": {
    "tags": []
   },
   "outputs": [],
   "source": [
    "mi2244 = choro_pm[['Stadtteil', 'Mean_Inhabitants', 'geometry']].\\\n",
    "groupby(['Stadtteil', 'Mean_Inhabitants']).agg({'geometry': 'first'})\n",
    "\n",
    "print(mi2244.crs)\n",
    "mi2244.reset_index(inplace=True)"
   ]
  },
  {
   "cell_type": "code",
   "execution_count": null,
   "id": "insured-sense",
   "metadata": {},
   "outputs": [],
   "source": [
    "# mi2244 = mi2244.set_crs(\"EPSG:3857\")\n",
    "# EPSG:4326\n",
    "mi2244 = mi2244.set_crs(\"EPSG:4326\")\n",
    "print(mi2244.crs)\n",
    "print(mi2244.geometry.crs)"
   ]
  },
  {
   "cell_type": "markdown",
   "id": "expected-promotion",
   "metadata": {},
   "source": [
    "Assigning a \"primary key\" to the data frame.<br>\n",
    "This maybe helpful, but is not necessary here."
   ]
  },
  {
   "cell_type": "code",
   "execution_count": null,
   "id": "cooked-proof",
   "metadata": {
    "tags": []
   },
   "outputs": [],
   "source": [
    "mi2244['PK'] = np.arange(1, mi2244.shape[0] + 1, 1)"
   ]
  },
  {
   "cell_type": "code",
   "execution_count": null,
   "id": "physical-separation",
   "metadata": {},
   "outputs": [],
   "source": [
    "mi2244.columns.to_list()"
   ]
  },
  {
   "cell_type": "code",
   "execution_count": null,
   "id": "governmental-faith",
   "metadata": {},
   "outputs": [],
   "source": [
    "mi2244=mi2244[['PK', 'Stadtteil', 'Mean_Inhabitants', 'geometry', None]]"
   ]
  },
  {
   "cell_type": "markdown",
   "id": "offensive-tobago",
   "metadata": {},
   "source": [
    "#### What happened? There is suddenly a column \"None\"!\n",
    "<p>\n",
    "Checking the data frame again.<br>\n",
    "The subsetting has produced a column \"None\".<br>\n",
    "There are some clues on Github, why this is the case, but nothing conclusive.<br>\n",
    "Not only that, but Geopandas determines the \"None\" <br>\n",
    "and not the  older \"geometry\" column as the \"geometry\" column.<br>\n",
    "This produces the error:<br>\n",
    "\"TypeError: Object of type Polygon is not JSON serializable\"<br>\n",
    "The older older geometry cannot be transformed as a geometry to Json,<br>\n",
    "because the \"None\"-column is allready \"JSON serialized\".\n",
    "</p> \n",
    "\n",
    "<p>\n",
    "The strategy to resolve the error here is, <br>\n",
    "to drop the older geometry column,<br>\n",
    "rename the Nan to geometry, and then set the geometry column to crs.<br>\n",
    "It is also possible to change the data type to object or so,<br>\n",
    "but this produces a warning message.\n",
    "</p>"
   ]
  },
  {
   "cell_type": "code",
   "execution_count": null,
   "id": "hydraulic-vaccine",
   "metadata": {},
   "outputs": [],
   "source": [
    "print(type(mi2244))\n",
    "print(mi2244.shape)\n",
    "print(mi2244.info())"
   ]
  },
  {
   "cell_type": "code",
   "execution_count": null,
   "id": "corporate-tours",
   "metadata": {},
   "outputs": [],
   "source": [
    "print(mi2244.isnull().sum())"
   ]
  },
  {
   "cell_type": "code",
   "execution_count": null,
   "id": "dramatic-pastor",
   "metadata": {},
   "outputs": [],
   "source": [
    "mi2244[:2]"
   ]
  },
  {
   "cell_type": "markdown",
   "id": "widespread-supervisor",
   "metadata": {},
   "source": [
    "Resolving the \"None\"- issue."
   ]
  },
  {
   "cell_type": "code",
   "execution_count": null,
   "id": "eleven-supervisor",
   "metadata": {},
   "outputs": [],
   "source": [
    "mi_5555 = mi2244.drop(columns=['geometry'])"
   ]
  },
  {
   "cell_type": "code",
   "execution_count": null,
   "id": "ethical-massage",
   "metadata": {},
   "outputs": [],
   "source": [
    "print(mi_5555.crs)\n",
    "print(type(mi_5555))\n",
    "print(mi_5555.info())\n",
    "mi_5555.head(1)"
   ]
  },
  {
   "cell_type": "code",
   "execution_count": null,
   "id": "instrumental-vault",
   "metadata": {},
   "outputs": [],
   "source": [
    "mi_6777 = mi_5555.rename(columns={None: 'geometry'})"
   ]
  },
  {
   "cell_type": "code",
   "execution_count": null,
   "id": "latter-queue",
   "metadata": {},
   "outputs": [],
   "source": [
    "mi_6777=mi_6777.set_geometry(col='geometry')"
   ]
  },
  {
   "cell_type": "code",
   "execution_count": null,
   "id": "bearing-vietnam",
   "metadata": {},
   "outputs": [],
   "source": [
    "print(mi_6777.crs)\n",
    "# mi_6777.to_crs('EPSG:4326')\n",
    "print(type(mi_6777.geometry))\n",
    "print(type(mi_6777.geometry[4]))\n",
    "print(mi_6777.geometry.crs)\n",
    "mi_6777.head(1)"
   ]
  },
  {
   "cell_type": "markdown",
   "id": "comic-radar",
   "metadata": {},
   "source": [
    "#### Did the transformation changed the values and do the GeoJson work?\n",
    "\n",
    "<p>\n",
    "This questions is answered by comparing the chained data frames.\n",
    "</p> \n",
    "<p>\n",
    "Data frame: choro_pm\n",
    "</p> "
   ]
  },
  {
   "cell_type": "code",
   "execution_count": null,
   "id": "registered-practice",
   "metadata": {
    "tags": []
   },
   "outputs": [],
   "source": [
    "print(choro_pm.crs)\n",
    "print(type(choro_pm.geometry[2]))\n",
    "choro_pm.geometry.head(2)"
   ]
  },
  {
   "cell_type": "code",
   "execution_count": null,
   "id": "painted-teddy",
   "metadata": {},
   "outputs": [],
   "source": [
    "choro_pm_444_3857 =  choro_pm.to_crs('EPSG:3857')\n",
    "print(choro_pm_444_3857.crs)\n",
    "choro_pm_444_3857.head(1)"
   ]
  },
  {
   "cell_type": "code",
   "execution_count": null,
   "id": "rental-yeast",
   "metadata": {},
   "outputs": [],
   "source": [
    "choro_pm.to_json()[:500]"
   ]
  },
  {
   "cell_type": "markdown",
   "id": "duplicate-vacuum",
   "metadata": {},
   "source": [
    "<p>\n",
    "Data frame: sf_1\n",
    "</p> "
   ]
  },
  {
   "cell_type": "code",
   "execution_count": null,
   "id": "skilled-accommodation",
   "metadata": {},
   "outputs": [],
   "source": [
    "#  WGS_1984_UTM_Zone_32N\n",
    "sf_1.geometry = sf_1.geometry.set_crs('EPSG:4326')\n",
    "sf_1.centroid = sf_1.astype(object)\n",
    "print(sf_1.columns)\n",
    "sf_1.info()\n",
    "sf_1.to_json()[:400]"
   ]
  },
  {
   "cell_type": "markdown",
   "id": "established-enlargement",
   "metadata": {},
   "source": [
    "Data frame: mi_6777"
   ]
  },
  {
   "cell_type": "code",
   "execution_count": null,
   "id": "moved-gardening",
   "metadata": {},
   "outputs": [],
   "source": [
    "print(mi_6777.crs)\n",
    "print(type(mi_6777.geometry[2]))\n",
    "mi_6777.geometry.head(2)"
   ]
  },
  {
   "cell_type": "code",
   "execution_count": null,
   "id": "radio-madrid",
   "metadata": {},
   "outputs": [],
   "source": [
    "mi_6777_js = mi_6777.to_json()"
   ]
  },
  {
   "cell_type": "code",
   "execution_count": null,
   "id": "completed-romania",
   "metadata": {},
   "outputs": [],
   "source": [
    "mi_6777_js[:500]"
   ]
  },
  {
   "cell_type": "markdown",
   "id": "ultimate-participant",
   "metadata": {},
   "source": [
    "\n",
    "<p>\n",
    "The geopspatial data is despite transformations maintained.<br>\n",
    "The GeoJson's are produced.\n",
    "</p> \n"
   ]
  },
  {
   "cell_type": "markdown",
   "id": "functioning-grocery",
   "metadata": {},
   "source": [
    "#### Choropleth map of mean inhabitants by district <br> based on a reduced Geopandas data frame"
   ]
  },
  {
   "cell_type": "code",
   "execution_count": null,
   "id": "divine-doctrine",
   "metadata": {},
   "outputs": [],
   "source": [
    "# store starting time\n",
    "begin = time.time()\n",
    "\n",
    "mi_6777_map = folium.Map(location=cologne_center_geocoord, zoom_start=10)\n",
    "folium.TileLayer('CartoDB positron',name=\"Light Map\",control=False).add_to(mi_6777_map)\n",
    "\n",
    "\n",
    "mi_6777_map.choropleth(\n",
    " geo_data=mi_6777,\n",
    " name='Choropleth',\n",
    " data=mi_6777,\n",
    " columns=[\"Stadtteil\", 'Mean_Inhabitants'],\n",
    " key_on='feature.properties.Stadtteil',\n",
    " fill_color='Reds',\n",
    " fill_opacity=1,\n",
    " line_opacity=0.2,\n",
    " legend_name='Districts colored by mean inhabitants over time',\n",
    " smooth_factor=0\n",
    ")\n",
    "\n",
    "display(mi_6777_map)\n",
    "\n",
    "time.sleep(1)\n",
    "# store end time\n",
    "end = time.time()\n",
    "  \n",
    "# total time taken\n",
    "print(f\"Total runtime of the program mean inhabitants is {end - begin}\")\n",
    "\n"
   ]
  },
  {
   "cell_type": "markdown",
   "id": "female-suicide",
   "metadata": {},
   "source": [
    "The runtime based on the reduced data frame is belwo 2 seconds."
   ]
  },
  {
   "cell_type": "markdown",
   "id": "seven-softball",
   "metadata": {},
   "source": [
    "#### Districts colored by population_density"
   ]
  },
  {
   "cell_type": "code",
   "execution_count": null,
   "id": "interested-europe",
   "metadata": {},
   "outputs": [],
   "source": [
    "choro_pm.columns"
   ]
  },
  {
   "cell_type": "code",
   "execution_count": null,
   "id": "floppy-market",
   "metadata": {},
   "outputs": [],
   "source": [
    "choro_pop_density_444 = choro_pm[['Stadtteil', 'population_density', 'geometry']].\\\n",
    "groupby(['Stadtteil', 'population_density']).agg({'geometry': 'first'})\n",
    "choro_pop_density_444.head()"
   ]
  },
  {
   "cell_type": "code",
   "execution_count": null,
   "id": "single-locator",
   "metadata": {},
   "outputs": [],
   "source": [
    "print(choro_pop_density_444.crs)\n"
   ]
  },
  {
   "cell_type": "code",
   "execution_count": null,
   "id": "grand-viewer",
   "metadata": {},
   "outputs": [],
   "source": [
    "choro_pop_density_444.reset_index(inplace=True)\n",
    "print(choro_pop_density_444.info())\n"
   ]
  },
  {
   "cell_type": "code",
   "execution_count": null,
   "id": "white-retention",
   "metadata": {},
   "outputs": [],
   "source": [
    "choro_pop_density_444 = choro_pop_density_444.set_crs(\"EPSG:4326\")\n"
   ]
  },
  {
   "cell_type": "code",
   "execution_count": null,
   "id": "round-sellers",
   "metadata": {},
   "outputs": [],
   "source": [
    "choro_pop_density_444  = choro_pop_density_444.drop(columns=['geometry'])\n",
    "\n",
    "choro_pop_density_444  = choro_pop_density_444.rename(columns={None: 'geometry'})\n",
    "\n",
    "choro_pop_density_444 = choro_pop_density_444.set_geometry(col='geometry')"
   ]
  },
  {
   "cell_type": "code",
   "execution_count": null,
   "id": "monthly-restaurant",
   "metadata": {},
   "outputs": [],
   "source": [
    "choro_pop_density_444.info()"
   ]
  },
  {
   "cell_type": "code",
   "execution_count": null,
   "id": "informal-kentucky",
   "metadata": {},
   "outputs": [],
   "source": [
    "begin = time.time()\n",
    "\n",
    "choro_pop_density_444_map = folium.Map(location=cologne_center_geocoord, zoom_start=10)\n",
    "# folium.TileLayer('CartoDB positron',name=\"Light Map\",control=False).add_to(mi_6777_map)\n",
    "\n",
    "\n",
    "choro_pop_density_444_map.choropleth(\n",
    " geo_data=choro_pop_density_444,\n",
    " name='Choropleth',\n",
    " data=choro_pop_density_444,\n",
    " columns=[\"Stadtteil\", 'population_density'],\n",
    " key_on='feature.properties.Stadtteil',\n",
    " fill_color='Spectral',\n",
    " fill_opacity=1,\n",
    " line_opacity=0.2,\n",
    " legend_name='Districts colored by population_density',\n",
    " smooth_factor=0\n",
    ")\n",
    "\n",
    "display(choro_pop_density_444_map)\n",
    "\n",
    "time.sleep(1)\n",
    "# store end time\n",
    "end = time.time()\n",
    "  \n",
    "processing_time = round(end - begin,2)\n",
    "    \n",
    "# total time taken\n",
    "print(f\"Total runtime of the program \\'population_density\\' is {processing_time } seconds.\")\n",
    "\n"
   ]
  },
  {
   "cell_type": "code",
   "execution_count": null,
   "id": "packed-center",
   "metadata": {},
   "outputs": [],
   "source": [
    "choro_pop_density_444['district_centers'] = \\\n",
    "choro_pop_density_444.geometry.to_crs('EPSG:3857').centroid"
   ]
  },
  {
   "cell_type": "code",
   "execution_count": null,
   "id": "spanish-transformation",
   "metadata": {},
   "outputs": [],
   "source": [
    "choro_pop_density_444['district_centers'] = \\\n",
    "choro_pop_density_444.district_centers.to_crs('EPSG:4326')"
   ]
  },
  {
   "cell_type": "code",
   "execution_count": null,
   "id": "ignored-flash",
   "metadata": {},
   "outputs": [],
   "source": [
    "choro_pop_density_444.head(1)"
   ]
  },
  {
   "cell_type": "code",
   "execution_count": null,
   "id": "helpful-block",
   "metadata": {},
   "outputs": [],
   "source": [
    "unvoweled_names_2 = []\n",
    "\n",
    "for row in choro_pop_density_444.iterrows():\n",
    "    \n",
    "    # print(row[1][0])\n",
    "    unvoweled_name = unidecode.unidecode(row[1][0])\n",
    "    unvoweled_names_2.append(unvoweled_name)\n",
    "    \n",
    "unvoweled_names_2[:5]"
   ]
  },
  {
   "cell_type": "code",
   "execution_count": null,
   "id": "atomic-christmas",
   "metadata": {},
   "outputs": [],
   "source": [
    "choro_pop_density_444['Stadtteil'] = unvoweled_names_2"
   ]
  },
  {
   "cell_type": "code",
   "execution_count": null,
   "id": "automotive-adaptation",
   "metadata": {},
   "outputs": [],
   "source": [
    "folium.Marker(location=uni_geocoords, popup='Universitaetskliniken:<br>Joseph-Stelzmann-Str. 9',\n",
    "              icon = folium.Icon(icon='hospital-symbol', prefix='fa',\n",
    "                                 color='green')).add_to(uniklinik_map)"
   ]
  },
  {
   "cell_type": "code",
   "execution_count": null,
   "id": "expressed-austin",
   "metadata": {},
   "outputs": [],
   "source": [
    "for row in choro_pop_density_444.iterrows():\n",
    "    row_values = row[1]\n",
    "    district_centers = row_values['district_centers']\n",
    "    district_location = [district_centers.y, district_centers.x]\n",
    "    district_popup = (\"Stadtteil: \" + \n",
    "                      str(row_values['Stadtteil']) + \n",
    "                      \" <br>\" + \"Population density: <br>\" + \n",
    "                      str(row_values['population_density']))\n",
    "    \n",
    "    marker_districts = \\\n",
    "    folium.Marker(location=district_location, popup = district_popup,\n",
    "                  icon = folium.Icon(icon='anchor', prefix='fa',\n",
    "                                 color='red'))\n",
    "    marker_districts.add_to(choro_pop_density_444_map)\n",
    "    \n",
    "display(choro_pop_density_444_map)\n",
    "    "
   ]
  },
  {
   "cell_type": "code",
   "execution_count": null,
   "id": "worth-fifty",
   "metadata": {},
   "outputs": [],
   "source": []
  }
 ],
 "metadata": {
  "kernelspec": {
   "display_name": "Python [conda env:geospatial]",
   "language": "python",
   "name": "conda-env-geospatial-py"
  },
  "language_info": {
   "codemirror_mode": {
    "name": "ipython",
    "version": 3
   },
   "file_extension": ".py",
   "mimetype": "text/x-python",
   "name": "python",
   "nbconvert_exporter": "python",
   "pygments_lexer": "ipython3",
   "version": "3.7.10"
  }
 },
 "nbformat": 4,
 "nbformat_minor": 5
}
