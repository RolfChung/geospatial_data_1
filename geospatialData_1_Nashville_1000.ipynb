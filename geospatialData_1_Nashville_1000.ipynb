{
 "cells": [
  {
   "cell_type": "markdown",
   "id": "mighty-certificate",
   "metadata": {},
   "source": [
    "# Summary\n",
    "\n",
    "<p>\n",
    "This notebook explores the city of Nashville using geospatial or geographic data.\n",
    "</p>   \n",
    "<p>\n",
    "A version of the notebook is avaible with<br>\n",
    "<a href=\"https://nbviewer.jupyter.org/github/RolfChung/geospatial_data_1/blob/main/geospatialData_1_Nashville_345.ipynb\" target=\"_blank\">nbviewer</a><br>\n",
    "Other than Github it shows folium plots.\n",
    "<p>\n",
    "   \n",
    "\"Geographic data and information is defined in the ISO/TC 211 series of standards as data and information having an implicit or explicit association with a location relative to Earth (a geographic location or geographic position).\"<br>\n",
    "<a href=\"https://en.wikipedia.org/wiki/Geographic_data_and_information\" target=\"_blank\">Wikipedia</a> \n",
    "</p>\n",
    "\n",
    "<p>\n",
    "Here this means in practical terms 'longitudes' and 'latitudes' are used. Two coordinate reference systems are mainly applied here: EPSG:4326 and EPSG:3857.\n",
    "</p>\n",
    "<p>\n",
    "\"A spatial reference system (SRS) or coordinate reference system (CRS) is a coordinate-based local, regional or global system used to locate geographical entities. A SRS commonly defines a specific map projection, as well as transformations between different SRS.\"<br>\n",
    "<a href=\"https://en.wikipedia.org/wiki/Spatial_reference_system\" target=\"_blank\">Wikipedia</a>  \n",
    "<br>\n",
    "It is of overall important to apply the right crs for the operation in case.<br>\n",
    "Otherwise major trouble is ahead.<br>\n",
    "More on this in the notebook.\n",
    "</p> \n",
    "\n",
    "<p>\n",
    "    In a Python perspective the <b>Geopandas</b> package is applied here.\n",
    "</p> \n",
    "\n",
    "<p>\n",
    "\"GeoPandas is an open source project to make working with geospatial data in python easier. GeoPandas extends the datatypes used by pandas to allow spatial operations on geometric types. Geometric operations are performed by shapely. Geopandas further depends on fiona for file access and matplotlib for plotting.\"<br>\n",
    "<a href=\"https://geopandas.readthedocs.io/en/latest/index.html\" target=\"_blank\">GeoPandas</a>  \n",
    "</p> \n",
    "\n",
    "<p>\n",
    "I am totally agreeing  with this. In general it makes life easier and is an entry point into the\n",
    "many geopspatial packages and dependencies behind it.\n",
    "</p>\n",
    "\n",
    "<p>\n",
    "Further topics explored here are:\n",
    "</p>\n",
    "\n",
    "<ul>\n",
    "  <li>Shapefiles</li>\n",
    "  <li>GeoDataFrames</li>\n",
    "  <li>GeoJson</li>\n",
    "  <li>Geospatial Joins</li>\n",
    "  <li>Geopspatial calculations</li>\n",
    "  <li>Geopandas plots</li>\n",
    "  <li>Folium plots</li>\n",
    "  <li>Choropleth plots</li>\n",
    "</ul> "
   ]
  },
  {
   "cell_type": "markdown",
   "id": "convinced-detroit",
   "metadata": {},
   "source": [
    "# Import packages"
   ]
  },
  {
   "cell_type": "code",
   "execution_count": null,
   "id": "quick-reporter",
   "metadata": {},
   "outputs": [],
   "source": [
    "import numpy as np\n",
    "import pandas as pd\n",
    "import matplotlib.pyplot as plt\n",
    "import seaborn as sns\n",
    "import os\n",
    "import geopandas as geop\n",
    "import json, requests\n",
    "from shapely.geometry import Point\n",
    "import pprint\n",
    "import sys\n",
    "import folium\n",
    "\n",
    "%matplotlib inline\n"
   ]
  },
  {
   "cell_type": "code",
   "execution_count": null,
   "id": "solved-cylinder",
   "metadata": {},
   "outputs": [],
   "source": [
    "print(\"Version Pandas: {}\".format(pd.__version__))\n",
    "print(\"Version Geopandas: {}\".format(geop.__version__))\n",
    "print(\"Version Numpy: {}\".format(np.__version__))"
   ]
  },
  {
   "cell_type": "markdown",
   "id": "printable-capacity",
   "metadata": {},
   "source": [
    "Did the import work?"
   ]
  },
  {
   "cell_type": "code",
   "execution_count": null,
   "id": "perfect-regulation",
   "metadata": {},
   "outputs": [],
   "source": [
    "import types\n",
    "def imports():\n",
    "    for name, val in globals().items():\n",
    "        if isinstance(val, types.ModuleType):\n",
    "            yield val.__name__\n",
    "list(imports())"
   ]
  },
  {
   "cell_type": "code",
   "execution_count": null,
   "id": "egyptian-bridal",
   "metadata": {},
   "outputs": [],
   "source": [
    "# Seaborn | Style And Color: ttps://www.geeksforgeeks.org/seaborn-style-and-color/\n",
    "sns.set() \n",
    "sns.set_style(\"whitegrid\") \n",
    "sns.set_style(\"ticks\", {\"xtick.major.size\":8, \"ytick.major.size\":8})\n",
    "sns.axes_style(\"whitegrid\")"
   ]
  },
  {
   "cell_type": "code",
   "execution_count": null,
   "id": "finite-formation",
   "metadata": {},
   "outputs": [],
   "source": [
    "currentwd = os.getcwd()\n",
    "# print(currentwd)"
   ]
  },
  {
   "cell_type": "markdown",
   "id": "greatest-contents",
   "metadata": {},
   "source": [
    "## Shapefiles of Nashville\n",
    "\n",
    "<p>\n",
    "\"The shapefile format is a geospatial vector data format for geographic information system (GIS) software. ... The shapefile format can spatially describe vector features: points, lines, and polygons, representing, for example, water wells, rivers, and lakes. Each item usually has attributes that describe it, such as name or temperature.\"<br>\n",
    "<a href=\"https://en.wikipedia.org/wiki/Shapefilem\" target=\"_blank\">Wikipedia</a> \n",
    "</p> \n",
    "\n",
    "\n",
    "\n",
    "<p>\n",
    "Shapefiles of Nashville are here used with <b>GeoPandas 0.9.0</b>.\n",
    "</p>\n",
    "\n",
    "<p>\n",
    "The Nashville geospatial data is available on \n",
    "<a href=\"https://data.nashville.gov/General-Government/Service-Districts-GIS-/xxxs-vvs4\" target=\"_blank\">data.nashville.gov</a> <br>\n",
    "According to description: <br>\n",
    "Geographic boundaries of the Urban Services District and General Services District of Nashville and Davidson County.\n",
    "</p> \n",
    "\n",
    "<p>\n",
    "Nashville has got two overarching districts: the Urban Services District and the\tGeneral Services District.<br> \t\n",
    "Within the two general districts are a lot of sub districts stored here in \"neighborhoods.geojson\".<br>\n",
    "</p> "
   ]
  },
  {
   "cell_type": "code",
   "execution_count": null,
   "id": "animated-germany",
   "metadata": {},
   "outputs": [],
   "source": [
    "nv = geop.read_file('datasets/neighborhoods.geojson', encoding='utf-8')"
   ]
  },
  {
   "cell_type": "code",
   "execution_count": null,
   "id": "outside-belize",
   "metadata": {},
   "outputs": [],
   "source": [
    "print(type(nv))"
   ]
  },
  {
   "cell_type": "code",
   "execution_count": null,
   "id": "protected-spell",
   "metadata": {},
   "outputs": [],
   "source": [
    "print(nv.dtypes)"
   ]
  },
  {
   "cell_type": "code",
   "execution_count": null,
   "id": "nuclear-queensland",
   "metadata": {},
   "outputs": [],
   "source": [
    "print(nv.shape)"
   ]
  },
  {
   "cell_type": "code",
   "execution_count": null,
   "id": "proper-compatibility",
   "metadata": {},
   "outputs": [],
   "source": [
    "print(nv.columns)"
   ]
  },
  {
   "cell_type": "code",
   "execution_count": null,
   "id": "synthetic-batman",
   "metadata": {},
   "outputs": [],
   "source": [
    "print(nv.index)"
   ]
  },
  {
   "cell_type": "code",
   "execution_count": null,
   "id": "monthly-number",
   "metadata": {},
   "outputs": [],
   "source": [
    "nv.info()"
   ]
  },
  {
   "cell_type": "code",
   "execution_count": null,
   "id": "agricultural-lying",
   "metadata": {},
   "outputs": [],
   "source": [
    "nv.head()"
   ]
  },
  {
   "cell_type": "code",
   "execution_count": null,
   "id": "thousand-optimum",
   "metadata": {},
   "outputs": [],
   "source": [
    "nv.tail()"
   ]
  },
  {
   "cell_type": "markdown",
   "id": "native-malta",
   "metadata": {},
   "source": [
    "#### Coordinate Reference Systems\n",
    "<p>\n",
    "\"The Coordinate Reference System (CRS) is important because the geometric shapes in a GeoSeries or GeoDataFrame object are simply a collection of coordinates in an arbitrary space. A CRS tells Python how those coordinates relate to places on the Earth.\"<br>\n",
    "<a href=\"https://geopandas.org/docs/user_guide/projections.html\" target=\"_blank\">geopandas</a> \n",
    "</p> \n"
   ]
  },
  {
   "cell_type": "code",
   "execution_count": null,
   "id": "breathing-cycle",
   "metadata": {},
   "outputs": [],
   "source": [
    "nv.geometry.crs"
   ]
  },
  {
   "cell_type": "markdown",
   "id": "disturbed-ranking",
   "metadata": {},
   "source": [
    "Shapes of some NV service districts"
   ]
  },
  {
   "cell_type": "code",
   "execution_count": null,
   "id": "comparative-trick",
   "metadata": {},
   "outputs": [],
   "source": [
    "print(nv.name[0])\n",
    "nv.loc[0, 'geometry']"
   ]
  },
  {
   "cell_type": "code",
   "execution_count": null,
   "id": "remarkable-conservation",
   "metadata": {},
   "outputs": [],
   "source": [
    "print(nv.name[1])\n",
    "nv.loc[1, 'geometry']"
   ]
  },
  {
   "cell_type": "code",
   "execution_count": null,
   "id": "seven-ensemble",
   "metadata": {},
   "outputs": [],
   "source": [
    "print(nv.name[144])\n",
    "nv.loc[144, 'geometry']"
   ]
  },
  {
   "cell_type": "markdown",
   "id": "human-defeat",
   "metadata": {},
   "source": [
    "### Shape of Nashville service districts"
   ]
  },
  {
   "cell_type": "code",
   "execution_count": null,
   "id": "parental-engineer",
   "metadata": {},
   "outputs": [],
   "source": [
    "nv.plot(edgecolor='black', linewidth=1, color='cyan', figsize=(15,5))\n",
    "plt.title('Shape of Nashville', fontsize=18)\n",
    "plt.show()"
   ]
  },
  {
   "cell_type": "code",
   "execution_count": null,
   "id": "useful-arthritis",
   "metadata": {},
   "outputs": [],
   "source": [
    "nv.plot(edgecolor='black', linewidth=1, column='name', legend=False, figsize=(15,5))\n",
    "plt.title('Shape of Nashville colored by districts', fontsize=18)\n",
    "plt.show()"
   ]
  },
  {
   "cell_type": "code",
   "execution_count": null,
   "id": "sustainable-mobility",
   "metadata": {},
   "outputs": [],
   "source": [
    "nv.plot(edgecolor='black', linewidth=1, column='name', legend=True,\n",
    "        legend_kwds={'bbox_to_anchor':(1,1), 'ncol':4, 'loc':'upper left'},\n",
    "        figsize=(15,5))\n",
    "plt.title('Shape of Nashville colored by service districts', fontsize=18)\n",
    "plt.show()"
   ]
  },
  {
   "cell_type": "markdown",
   "id": "weird-hierarchy",
   "metadata": {},
   "source": [
    "### Shape of Nashville overarching service districts"
   ]
  },
  {
   "cell_type": "code",
   "execution_count": null,
   "id": "unnecessary-construction",
   "metadata": {},
   "outputs": [],
   "source": [
    "nv_shape = geop.read_file('datasets/Nash_shape/geo_export_586b6f7f-f69c-426a-be97-7cc49f2b415b.shp')"
   ]
  },
  {
   "cell_type": "code",
   "execution_count": null,
   "id": "ultimate-gibraltar",
   "metadata": {},
   "outputs": [],
   "source": [
    "print(type(nv_shape))"
   ]
  },
  {
   "cell_type": "code",
   "execution_count": null,
   "id": "subject-organ",
   "metadata": {},
   "outputs": [],
   "source": [
    "print(nv_shape.dtypes)"
   ]
  },
  {
   "cell_type": "code",
   "execution_count": null,
   "id": "modified-malawi",
   "metadata": {},
   "outputs": [],
   "source": [
    "nv_shape.shape"
   ]
  },
  {
   "cell_type": "code",
   "execution_count": null,
   "id": "radical-combine",
   "metadata": {},
   "outputs": [],
   "source": [
    "nv_shape.columns"
   ]
  },
  {
   "cell_type": "code",
   "execution_count": null,
   "id": "super-canada",
   "metadata": {},
   "outputs": [],
   "source": [
    "nv_shape.index"
   ]
  },
  {
   "cell_type": "code",
   "execution_count": null,
   "id": "nutritional-letters",
   "metadata": {},
   "outputs": [],
   "source": [
    "nv_shape.info()"
   ]
  },
  {
   "cell_type": "code",
   "execution_count": null,
   "id": "painted-standard",
   "metadata": {},
   "outputs": [],
   "source": [
    "nv_shape"
   ]
  },
  {
   "cell_type": "code",
   "execution_count": null,
   "id": "experimental-demand",
   "metadata": {},
   "outputs": [],
   "source": [
    "USD_shape = nv_shape.loc[0, 'geometry']\n",
    "USD_shape"
   ]
  },
  {
   "cell_type": "code",
   "execution_count": null,
   "id": "changed-david",
   "metadata": {},
   "outputs": [],
   "source": [
    "# for i in pd.Series(nv_shape.iloc[0,3]):\n",
    "    # print(i)"
   ]
  },
  {
   "cell_type": "code",
   "execution_count": null,
   "id": "southwest-treasure",
   "metadata": {},
   "outputs": [],
   "source": [
    "nv_shape.plot(edgecolor='black', color='yellow', figsize=(12,5))\n",
    "plt.title('Shape of Nashville')\n",
    "plt.show()"
   ]
  },
  {
   "cell_type": "code",
   "execution_count": null,
   "id": "listed-builder",
   "metadata": {},
   "outputs": [],
   "source": [
    "nv_shape.plot(edgecolor='black', cmap='Set3', figsize=(12,5))\n",
    "plt.title('Shape of Nashville')\n",
    "plt.show()"
   ]
  },
  {
   "cell_type": "markdown",
   "id": "excess-franchise",
   "metadata": {},
   "source": [
    "#### Generating the outer boundaries of Nashville at a whole from given geometries\n",
    "\n",
    "<strong>with GeoSeries.unary_union</strong>\n",
    "\n",
    "<p>\n",
    "Return a geometry containing the union of all geometries in the GeoSeries.\n",
    "</p>\n"
   ]
  },
  {
   "cell_type": "code",
   "execution_count": null,
   "id": "polyphonic-armenia",
   "metadata": {},
   "outputs": [],
   "source": [
    "nv_shape_unary = nv_shape.unary_union\n",
    "nv_shape_unary"
   ]
  },
  {
   "cell_type": "code",
   "execution_count": null,
   "id": "pleased-wedding",
   "metadata": {},
   "outputs": [],
   "source": [
    "nv_shape_unary_gdf =  geop.GeoDataFrame(geometry=[nv_shape_unary], crs=nv_shape.crs)\n",
    "nv_shape_unary_gdf.plot(edgecolor='black', color='olive')\n",
    "plt.show()"
   ]
  },
  {
   "cell_type": "markdown",
   "id": "floral-refrigerator",
   "metadata": {},
   "source": [
    "### Working with attribute methods of Geoseries geometry data\n",
    "<p>\n",
    "starting by:<br> \n",
    "</p> \n",
    "\n",
    "#### Calculating the areas of NV"
   ]
  },
  {
   "cell_type": "code",
   "execution_count": null,
   "id": "greater-champion",
   "metadata": {},
   "outputs": [],
   "source": [
    "nv_shape.geometry.crs"
   ]
  },
  {
   "cell_type": "code",
   "execution_count": null,
   "id": "peaceful-things",
   "metadata": {},
   "outputs": [],
   "source": [
    "area_usd = nv_shape.geometry[0].area\n",
    "print(\"Area of {name}: {area}\".format(name= nv_shape.loc[0, 'name'], area= area_usd))"
   ]
  },
  {
   "cell_type": "code",
   "execution_count": null,
   "id": "progressive-inventory",
   "metadata": {},
   "outputs": [],
   "source": [
    "area_gsd = nv_shape.geometry[1].area\n",
    "print(\"Area of {name}: {area}\".format(name= nv_shape.loc[1, 'name'], area= area_gsd))"
   ]
  },
  {
   "cell_type": "markdown",
   "id": "funded-train",
   "metadata": {},
   "source": [
    "<p>\n",
    "Above the areas are calculated in decimal places according to the EPSG: 4326 crs.<br>\n",
    "This is not human friendly.<br>\n",
    "A better understanding is enabled by calculating m^2 and km^2.<br>\n",
    "This only works only for small distances.<br>\n",
    "Otherwise you have to correct for the fact that the\n",
    "earth is a sphere and not a disc ;-)<br>\n",
    "More on <a href=\"https://gis.stackexchange.com/questions/242545/how-can-epsg3857-be-in-meters\" target=\"_blank\">'How can EPSG:3857 be in meters?'</a> here.\n",
    "</p>\n",
    "\n",
    "<p>\n",
    "Using epsg=3857 for meters as a csr returns m^2.\n",
    "</p> \n",
    "\n",
    "<p>\n",
    "<b>Convert m squared to km squared:</b><br>\n",
    "\"How many m squared in 1 km squared? The answer is 1.000.000.\n",
    "We assume you are converting between square metre and square kilometre.\n",
    "You can view more details on each measurement unit:\n",
    "m squared or km squared\n",
    "The SI derived unit for area is the square meter.\n",
    "1 square meter is equal to 1.0E-6 km squared.\"<br>\n",
    "<a href=\"https://www.convertunits.com/from/m+squared/to/km+squared\" target=\"_blank\">convertunits.com</a> \n",
    "</p> \n"
   ]
  },
  {
   "cell_type": "code",
   "execution_count": null,
   "id": "polished-bidding",
   "metadata": {
    "tags": []
   },
   "outputs": [],
   "source": [
    "nv_areas_m = nv_shape.geometry.to_crs(epsg=3857).area\n",
    "nv_areas_m"
   ]
  },
  {
   "cell_type": "code",
   "execution_count": null,
   "id": "motivated-fusion",
   "metadata": {},
   "outputs": [],
   "source": [
    "conversion_m_km = 1000000\n",
    "nv_areas_m / conversion_m_km"
   ]
  },
  {
   "cell_type": "code",
   "execution_count": null,
   "id": "pending-fighter",
   "metadata": {},
   "outputs": [],
   "source": [
    "round(nv_areas_m / (10**6), 2)"
   ]
  },
  {
   "cell_type": "markdown",
   "id": "posted-stamp",
   "metadata": {},
   "source": [
    "Km 2 to miles 2."
   ]
  },
  {
   "cell_type": "code",
   "execution_count": null,
   "id": "cubic-estimate",
   "metadata": {},
   "outputs": [],
   "source": [
    "conversion_miles = 0.3861\n",
    "\n",
    "nv_area_km2 = pd.Series(list(nv_areas_m / (10**6))).round(2)\n",
    "print(nv_area_km2)\n",
    "nv_area_miles2 = pd.Series(list(np.array(nv_area_km2) *0.3861)).round(2)\n",
    "print(nv_area_miles2)"
   ]
  },
  {
   "cell_type": "code",
   "execution_count": null,
   "id": "entertaining-laugh",
   "metadata": {},
   "outputs": [],
   "source": [
    "nv_areas_df = pd.DataFrame(zip(nv_area_km2, nv_area_miles2), columns=('km2', 'miles2'),\n",
    "                           index=['UrbanSD', 'GeneralSD'])\n",
    "nv_areas_df"
   ]
  },
  {
   "cell_type": "code",
   "execution_count": null,
   "id": "binding-definition",
   "metadata": {},
   "outputs": [],
   "source": [
    "nv_areas_sums = nv_areas_df.apply(sum, axis=0)\n",
    "nv_areas_sums_series = \\\n",
    "pd.Series(data={'km2':nv_areas_sums[0], 'miles2':nv_areas_sums[1]}, name=\"Total_areas\")"
   ]
  },
  {
   "cell_type": "code",
   "execution_count": null,
   "id": "negative-address",
   "metadata": {},
   "outputs": [],
   "source": [
    "nv_areas_df.append(nv_areas_sums_series, ignore_index=False)"
   ]
  },
  {
   "cell_type": "markdown",
   "id": "serial-greensboro",
   "metadata": {},
   "source": [
    "# Schools in Nashville data set\n",
    "## Import data: schools in Nashville\n",
    "<p>\n",
    "Here are different methods of importing data checked out.\n",
    "</p> "
   ]
  },
  {
   "cell_type": "code",
   "execution_count": null,
   "id": "scientific-palmer",
   "metadata": {},
   "outputs": [],
   "source": [
    "# os.listdir('datasets')"
   ]
  },
  {
   "cell_type": "markdown",
   "id": "abandoned-burst",
   "metadata": {},
   "source": [
    "<b>Open method</b>"
   ]
  },
  {
   "cell_type": "code",
   "execution_count": null,
   "id": "sporting-premises",
   "metadata": {},
   "outputs": [],
   "source": [
    "path_1 = 'datasets/schools.csv'"
   ]
  },
  {
   "cell_type": "code",
   "execution_count": null,
   "id": "occupied-newport",
   "metadata": {},
   "outputs": [],
   "source": [
    "sd_1 = open(path_1, mode='r') # Open the file for reading\n",
    "sd_1_text = sd_1.read() # Read a file’s contents\n",
    "\n",
    "print(sd_1.closed) #  Check whether file is closed, file is not closed\n",
    "\n",
    "sd_1.close() # Close file\n",
    "\n",
    "print(sd_1_text[:430])"
   ]
  },
  {
   "cell_type": "markdown",
   "id": "straight-sharp",
   "metadata": {},
   "source": [
    "<b>With Open - method</b>"
   ]
  },
  {
   "cell_type": "code",
   "execution_count": null,
   "id": "junior-citation",
   "metadata": {},
   "outputs": [],
   "source": [
    "with open(path_1, 'r') as sd_2:\n",
    "    # read in and print the first two lines of the file sd_2\n",
    "    print(sd_2.readline()) \n",
    "    print(sd_2.readline())"
   ]
  },
  {
   "cell_type": "code",
   "execution_count": null,
   "id": "lightweight-slovak",
   "metadata": {},
   "outputs": [],
   "source": [
    "# import json, requests\n",
    "schools_endpoint = 'https://data.nashville.gov/resource/vpdy-5e23.json'"
   ]
  },
  {
   "cell_type": "code",
   "execution_count": null,
   "id": "respected-franchise",
   "metadata": {},
   "outputs": [],
   "source": [
    "schools_reqdata = requests.get(schools_endpoint).json()"
   ]
  },
  {
   "cell_type": "code",
   "execution_count": null,
   "id": "multiple-schema",
   "metadata": {},
   "outputs": [],
   "source": [
    "print(type(schools_reqdata))\n",
    "print(schools_reqdata[:1])"
   ]
  },
  {
   "cell_type": "code",
   "execution_count": null,
   "id": "biblical-seafood",
   "metadata": {},
   "outputs": [],
   "source": [
    "schools_reqdata_df = pd.DataFrame(schools_reqdata)\n",
    "# print(schools_reqdata_df.head())"
   ]
  },
  {
   "cell_type": "markdown",
   "id": "experienced-beverage",
   "metadata": {},
   "source": [
    "<b>Pandas</b>"
   ]
  },
  {
   "cell_type": "code",
   "execution_count": null,
   "id": "prime-penny",
   "metadata": {},
   "outputs": [],
   "source": [
    "sd_pd = pd.read_csv(path_1,\n",
    "                   header=0, \n",
    "                   sep=\",\")"
   ]
  },
  {
   "cell_type": "markdown",
   "id": "ancient-living",
   "metadata": {},
   "source": [
    "## Data exploration: school data"
   ]
  },
  {
   "cell_type": "code",
   "execution_count": null,
   "id": "nutritional-lottery",
   "metadata": {},
   "outputs": [],
   "source": [
    "type(sd_pd)"
   ]
  },
  {
   "cell_type": "code",
   "execution_count": null,
   "id": "voluntary-response",
   "metadata": {},
   "outputs": [],
   "source": [
    "sd_pd.shape"
   ]
  },
  {
   "cell_type": "code",
   "execution_count": null,
   "id": "checked-coffee",
   "metadata": {},
   "outputs": [],
   "source": [
    "sd_pd.columns"
   ]
  },
  {
   "cell_type": "code",
   "execution_count": null,
   "id": "conscious-transfer",
   "metadata": {},
   "outputs": [],
   "source": [
    "# number of not na-values\n",
    "sd_pd.count()"
   ]
  },
  {
   "cell_type": "code",
   "execution_count": null,
   "id": "quick-cattle",
   "metadata": {},
   "outputs": [],
   "source": [
    "sd_pd.info()"
   ]
  },
  {
   "cell_type": "code",
   "execution_count": null,
   "id": "exceptional-vision",
   "metadata": {},
   "outputs": [],
   "source": [
    "sd_pd.head(3)"
   ]
  },
  {
   "cell_type": "code",
   "execution_count": null,
   "id": "external-violation",
   "metadata": {},
   "outputs": [],
   "source": [
    "sd_pd.tail(3)"
   ]
  },
  {
   "cell_type": "code",
   "execution_count": null,
   "id": "other-public",
   "metadata": {},
   "outputs": [],
   "source": [
    "city_gb = sd_pd.groupby('City')['School ID'].count()\n",
    "city_gb"
   ]
  },
  {
   "cell_type": "code",
   "execution_count": null,
   "id": "published-xerox",
   "metadata": {},
   "outputs": [],
   "source": [
    "city_gb.sort_values(ascending=False).plot(kind='bar', edgecolor='black',\n",
    "                                          linewidth=3, title=\"Number of districts by city\",\n",
    "                                          color=['g', 'r'], )\n",
    "plt.grid(linewidth=1, color='gray')\n",
    "plt.show()"
   ]
  },
  {
   "cell_type": "code",
   "execution_count": null,
   "id": "mysterious-nigeria",
   "metadata": {},
   "outputs": [],
   "source": [
    "level_gb = sd_pd.groupby('School Level')['School ID'].count()\n",
    "level_gb"
   ]
  },
  {
   "cell_type": "code",
   "execution_count": null,
   "id": "civilian-singles",
   "metadata": {},
   "outputs": [],
   "source": [
    "level_gb.sort_values(ascending=False).plot(kind='bar', color=['magenta', 'cyan'],\n",
    "                                           edgecolor='black', linewidth=2,\n",
    "                                            title=\"Number of districts by level\")\n",
    "plt.grid(linewidth=0.7, color='brown')\n",
    "plt.show()"
   ]
  },
  {
   "cell_type": "code",
   "execution_count": null,
   "id": "inclusive-leadership",
   "metadata": {},
   "outputs": [],
   "source": [
    "sd_pd.groupby('State')['State'].count()"
   ]
  },
  {
   "cell_type": "markdown",
   "id": "wired-language",
   "metadata": {},
   "source": [
    "## Geopspatial data exploration: school data"
   ]
  },
  {
   "cell_type": "code",
   "execution_count": null,
   "id": "furnished-porcelain",
   "metadata": {},
   "outputs": [],
   "source": [
    "fig, ax = plt.subplots(4,1, figsize=(12,20))\n",
    "\n",
    "sns.scatterplot(x='Latitude', y='Longitude', \n",
    "                data=sd_pd, color='r', edgecolor='black', ax=ax[0])\n",
    "ax[0].set_title('School locations by longitude and latitude', fontsize=14)\n",
    "ax[0].grid(linewidth=1, color='gray')\n",
    "\n",
    "sns.regplot(x='Latitude', y='Longitude', \n",
    "            data=sd_pd, color='g', ax=ax[1],\n",
    "            scatter_kws={'s':45, 'alpha':0.83, 'color':'magenta', 'edgecolor':'black',\n",
    "            'linewidth':4},\n",
    "            line_kws={'color': 'darkblue', 'linewidth':3})\n",
    "ax[1].set_title('Regression plot', fontsize=14)\n",
    "ax[1].grid(linewidth=1, color='gray')\n",
    "\n",
    "sns.scatterplot(x='Latitude', y='Longitude', \n",
    "                data=sd_pd, color='r', edgecolor='black', ax=ax[2],\n",
    "                hue='School Level')\n",
    "ax[2].set_title('School locations colored by school level', fontsize=14)\n",
    "ax[2].grid(linewidth=1, color='gray')\n",
    "ax[2].legend(bbox_to_anchor=(1,1), loc='upper left')\n",
    "\n",
    "\n",
    "sns.scatterplot(x='Latitude', y='Longitude', \n",
    "                data=sd_pd, color='r', edgecolor='black', ax=ax[3],\n",
    "                hue='City') \n",
    "\n",
    "ax[3].set_title('School locations colored by city', fontsize=14)\n",
    "ax[3].grid(linewidth=1, color='gray')\n",
    "ax[3].legend(bbox_to_anchor=(1,1), loc='upper left')\n",
    "\n",
    "\n",
    "plt.subplots_adjust(hspace=0.5)\n",
    "plt.show()"
   ]
  },
  {
   "cell_type": "code",
   "execution_count": null,
   "id": "verified-romance",
   "metadata": {},
   "outputs": [],
   "source": [
    "sd_4 = sd_pd.copy()\n",
    "print(type(nv_shape))\n",
    "print(type(sd_4))"
   ]
  },
  {
   "cell_type": "markdown",
   "id": "indie-layer",
   "metadata": {},
   "source": [
    "#### Combining NV shape polygons & scatter location plots: school districts"
   ]
  },
  {
   "cell_type": "code",
   "execution_count": null,
   "id": "gothic-taiwan",
   "metadata": {},
   "outputs": [],
   "source": [
    "fig, ax1 = plt.subplots(1,1, figsize=(8, 8))\n",
    "nv_shape.plot(column='name', legend=True, ax=ax1, edgecolor='black',\n",
    "              linewidth=1, legend_kwds={'loc':'lower left'}, cmap='Set1', aspect=1)\n",
    "sns.scatterplot(x='Longitude', y='Latitude', data= sd_4, ax= ax1, color='blue', legend=False)\n",
    "ax1.set_title('Locations of chicken permits in Nashville general service districts', fontsize=12)\n",
    "plt.show()"
   ]
  },
  {
   "cell_type": "markdown",
   "id": "postal-speech",
   "metadata": {},
   "source": [
    "Most schools are in the Urban Services District."
   ]
  },
  {
   "cell_type": "markdown",
   "id": "weighted-moore",
   "metadata": {},
   "source": [
    "## Constructing a geopandas data frame from the schools geocoordinates\n",
    "\n",
    "<p>\n",
    "A geopandas data frame needs a \"geometry\" column.<br>\n",
    "This is a special geography format.<br>\n",
    "The schools data frame is a normal pandas data frame.<br>\n",
    "It stores lat and long, but not in the geometry format.<br>\n",
    "The shapely package offers options to create geographic formats like points, lines, and polygons.<br>\n",
    "The school locations are points.<br>\n",
    "Below the lats and longs are turned into shape points.\n",
    "</p> "
   ]
  },
  {
   "cell_type": "code",
   "execution_count": null,
   "id": "handmade-skating",
   "metadata": {},
   "outputs": [],
   "source": [
    "sd_5 = sd_4.copy()\n",
    "print(type(sd_5))\n",
    "# print(sd_5.columns)\n",
    "# print(sd_5.head())"
   ]
  },
  {
   "cell_type": "code",
   "execution_count": null,
   "id": "random-shakespeare",
   "metadata": {},
   "outputs": [],
   "source": [
    "sd_5['geometry'] = sd_5.apply(lambda g: Point((g.Longitude, g.Latitude)), axis=1)"
   ]
  },
  {
   "cell_type": "code",
   "execution_count": null,
   "id": "negative-cause",
   "metadata": {},
   "outputs": [],
   "source": [
    "sd_5[['Latitude', 'Longitude','geometry']].head()"
   ]
  },
  {
   "cell_type": "markdown",
   "id": "nearby-condition",
   "metadata": {},
   "source": [
    "Converting the data frame to a geopandas df."
   ]
  },
  {
   "cell_type": "code",
   "execution_count": null,
   "id": "serious-shopper",
   "metadata": {},
   "outputs": [],
   "source": [
    "sd_gp = geop.GeoDataFrame(sd_5, crs=\"EPSG:4326\", geometry='geometry')\n",
    "\n",
    "print(type(sd_gp))\n",
    "print(sd_gp.crs)\n",
    "# print(sd_gp.head())"
   ]
  },
  {
   "cell_type": "markdown",
   "id": "civil-investment",
   "metadata": {},
   "source": [
    "Changing the coordinate reference system from decimals to meters (3857)."
   ]
  },
  {
   "cell_type": "code",
   "execution_count": null,
   "id": "scheduled-identification",
   "metadata": {},
   "outputs": [],
   "source": [
    "sd_gp_meters = sd_gp.copy()\n",
    "\n",
    "sd_gp_meters.geometry = sd_gp_meters.geometry.to_crs(epsg = 3857) \n",
    "\n",
    "print(sd_gp_meters.crs)\n",
    "print(sd_gp.loc[:2,'geometry'])\n",
    "print(sd_gp_meters.geometry[:2])"
   ]
  },
  {
   "cell_type": "markdown",
   "id": "refined-millennium",
   "metadata": {},
   "source": [
    "Using the both geo df."
   ]
  },
  {
   "cell_type": "code",
   "execution_count": null,
   "id": "oriental-lodge",
   "metadata": {},
   "outputs": [],
   "source": [
    "fig, ax1 = plt.subplots(1,1, figsize=(8, 5))\n",
    "\n",
    "nv_shape.plot(column='name', legend=True, ax=ax1, edgecolor='black',\n",
    "              linewidth=1, legend_kwds={'loc':'lower left'}, cmap='Set1', aspect=1)\n",
    "sd_gp.plot(ax=ax1, edgecolor='black', color='green')\n",
    "\n",
    "\n",
    "ax1.set_title('Locations of schools in Nashville service districts', fontsize=12)\n",
    "plt.show()"
   ]
  },
  {
   "cell_type": "markdown",
   "id": "brown-thirty",
   "metadata": {},
   "source": [
    "## School districts"
   ]
  },
  {
   "cell_type": "code",
   "execution_count": null,
   "id": "precise-prototype",
   "metadata": {},
   "outputs": [],
   "source": [
    "sdist = geop.read_file('datasets/school_districts.geojson')\n",
    "\n",
    "print(type(sdist))\n"
   ]
  },
  {
   "cell_type": "code",
   "execution_count": null,
   "id": "intense-reset",
   "metadata": {},
   "outputs": [],
   "source": [
    "print(sdist.columns.to_list())"
   ]
  },
  {
   "cell_type": "code",
   "execution_count": null,
   "id": "cosmetic-fourth",
   "metadata": {},
   "outputs": [],
   "source": [
    "sdist.info()"
   ]
  },
  {
   "cell_type": "code",
   "execution_count": null,
   "id": "growing-thickness",
   "metadata": {},
   "outputs": [],
   "source": [
    "sdist[[ 'city', 'district']].head()"
   ]
  },
  {
   "cell_type": "code",
   "execution_count": null,
   "id": "suspected-tours",
   "metadata": {},
   "outputs": [],
   "source": [
    "pprint.pprint(sdist[['city', 'geometry']].head())"
   ]
  },
  {
   "cell_type": "code",
   "execution_count": null,
   "id": "occasional-islam",
   "metadata": {},
   "outputs": [],
   "source": [
    "sdist.info()"
   ]
  },
  {
   "cell_type": "code",
   "execution_count": null,
   "id": "dimensional-jefferson",
   "metadata": {},
   "outputs": [],
   "source": [
    "fig, ax1 = plt.subplots(1,1, figsize=(8, 5))\n",
    "\n",
    "sdist.plot(column='city', legend=True, ax=ax1, edgecolor='black',\n",
    "              linewidth=1, legend_kwds={'loc':'lower left'}, cmap='Set3', aspect=1)\n",
    "sd_gp.plot(ax=ax1, edgecolor='black', color='green')\n",
    "\n",
    "\n",
    "ax1.set_title('Locations of schools \\n in Nashville school in cities', fontsize=12)\n",
    "plt.show()"
   ]
  },
  {
   "cell_type": "code",
   "execution_count": null,
   "id": "becoming-airfare",
   "metadata": {},
   "outputs": [],
   "source": [
    "fig, ax1 = plt.subplots(1,1, figsize=(8, 5))\n",
    "\n",
    "sdist.plot(column='district', legend=True, ax=ax1, edgecolor='black',\n",
    "           linewidth=1, \n",
    "           legend_kwds={'loc':'upper left', 'bbox_to_anchor':(1,1)}, \n",
    "           cmap='Set1', aspect=1)\n",
    "sd_gp.plot(ax=ax1, edgecolor='black', color='green')\n",
    "\n",
    "\n",
    "ax1.set_title('Locations of schools \\n in Nashville school districts', fontsize=12)\n",
    "plt.show()"
   ]
  },
  {
   "cell_type": "markdown",
   "id": "experimental-recall",
   "metadata": {},
   "source": [
    "### Attributes of school data\n",
    "#### Areas"
   ]
  },
  {
   "cell_type": "markdown",
   "id": "young-vanilla",
   "metadata": {},
   "source": [
    "Calculating the areas of the school location data."
   ]
  },
  {
   "cell_type": "code",
   "execution_count": null,
   "id": "consistent-civilization",
   "metadata": {},
   "outputs": [],
   "source": [
    "sd_gp_meters.crs"
   ]
  },
  {
   "cell_type": "code",
   "execution_count": null,
   "id": "early-update",
   "metadata": {},
   "outputs": [],
   "source": [
    "print(sd_gp_meters.geometry.area.unique())\n",
    "print(sd_gp_meters.geometry.area[:3])"
   ]
  },
  {
   "cell_type": "markdown",
   "id": "instant-princess",
   "metadata": {},
   "source": [
    "The areas are all 0. This was expected. A location as point has not got an area.<br>\n",
    "What about the school district areas?"
   ]
  },
  {
   "cell_type": "code",
   "execution_count": null,
   "id": "revolutionary-israel",
   "metadata": {},
   "outputs": [],
   "source": [
    "sdist_m = sdist.to_crs(epsg=3857)\n",
    "\n",
    "print(sdist_m.crs)"
   ]
  },
  {
   "cell_type": "markdown",
   "id": "steady-louisville",
   "metadata": {},
   "source": [
    "Areas in meters."
   ]
  },
  {
   "cell_type": "code",
   "execution_count": null,
   "id": "rising-midnight",
   "metadata": {},
   "outputs": [],
   "source": [
    "sd_areas_dict_city = {}\n",
    "\n",
    "for i in range(0, len(sdist_m)):\n",
    "    a  = sdist_m.geometry[i].area / conversion_m_km\n",
    "    c =  sdist_m.city[i]\n",
    "    sd_areas_dict_city[c] = round(a,4)\n",
    "    \n",
    "pprint.pprint(sd_areas_dict_city)"
   ]
  },
  {
   "cell_type": "code",
   "execution_count": null,
   "id": "classified-telling",
   "metadata": {},
   "outputs": [],
   "source": [
    "sd_areas_dict_district = {}\n",
    "\n",
    "for i in range(0, len(sdist_m)):\n",
    "    a  = sdist_m.geometry[i].area / conversion_m_km\n",
    "    c =  sdist_m.district[i]\n",
    "    sd_areas_dict_district[c] = round(a,4)\n",
    "    \n",
    "pprint.pprint(sd_areas_dict_district)"
   ]
  },
  {
   "cell_type": "code",
   "execution_count": null,
   "id": "unlike-president",
   "metadata": {},
   "outputs": [],
   "source": [
    "ad_v = list(sd_areas_dict_district.values())\n",
    "ad_v_m = list(np.array(ad_v) * conversion_miles)\n",
    "ad_v_m = [round(i,4) for i in ad_v_m]\n",
    "ad_v_m"
   ]
  },
  {
   "cell_type": "code",
   "execution_count": null,
   "id": "crude-precipitation",
   "metadata": {},
   "outputs": [],
   "source": [
    "df_sd_kmm = pd.DataFrame(zip(ad_v, ad_v_m), columns=['a_km2', 'a_m2'])\n",
    "df_sd_kmm.index.name = 'School_districts'\n",
    "df_sd_kmm"
   ]
  },
  {
   "cell_type": "markdown",
   "id": "engaged-eclipse",
   "metadata": {},
   "source": [
    "#### GeoSeries Centroids\n",
    "<p>\n",
    "centers are derived from geometry variables.<br>\n",
    "Geometry variables are shapes or areas consisting of line or polygons.<br>\n",
    "Centroids are points in the centers of areas.\n",
    "<\\p>    \n"
   ]
  },
  {
   "cell_type": "code",
   "execution_count": null,
   "id": "cultural-morris",
   "metadata": {},
   "outputs": [],
   "source": [
    "print(sdist_m.columns)\n",
    "print(sdist_m[['district', 'city', 'geometry']].head())\n"
   ]
  },
  {
   "cell_type": "code",
   "execution_count": null,
   "id": "bigger-airplane",
   "metadata": {},
   "outputs": [],
   "source": [
    "sdist_m.crs"
   ]
  },
  {
   "cell_type": "code",
   "execution_count": null,
   "id": "olympic-beauty",
   "metadata": {},
   "outputs": [],
   "source": [
    "sdistrict_centroids = \\\n",
    "pd.DataFrame(list(zip(sdist_m['district'], sdist_m.geometry.centroid)),\n",
    "             columns=['District', 'Centroid'])\n",
    "\n",
    "print(type(sdistrict_centroids))\n",
    "sdistrict_centroids"
   ]
  },
  {
   "cell_type": "code",
   "execution_count": null,
   "id": "complicated-practitioner",
   "metadata": {},
   "outputs": [],
   "source": [
    "sdistrict_centroids.iloc[0,:]"
   ]
  },
  {
   "cell_type": "code",
   "execution_count": null,
   "id": "athletic-shuttle",
   "metadata": {},
   "outputs": [],
   "source": [
    "print(sdist_m['district'][0])\n",
    "district_1 = sdist_m.geometry[0].centroid\n",
    "print(district_1)"
   ]
  },
  {
   "cell_type": "code",
   "execution_count": null,
   "id": "concrete-peter",
   "metadata": {},
   "outputs": [],
   "source": [
    "dist1_series = geop.GeoSeries(district_1, crs='EPSG:3857')\n",
    "\n",
    "print(type(dist1_series))\n",
    "print(dist1_series.crs)\n",
    "print(dist1_series)"
   ]
  },
  {
   "cell_type": "code",
   "execution_count": null,
   "id": "about-multimedia",
   "metadata": {},
   "outputs": [],
   "source": [
    "print(sdist_m['district'][8])\n",
    "\n",
    "district_7 = sdist_m.geometry[8].centroid\n",
    "\n",
    "print(district_7)\n",
    "print(type(district_7))"
   ]
  },
  {
   "cell_type": "code",
   "execution_count": null,
   "id": "surgical-cookbook",
   "metadata": {},
   "outputs": [],
   "source": [
    "dist7_series = geop.GeoSeries(district_7, crs='EPSG:3857')\n",
    "\n",
    "print(type(dist7_series))\n",
    "print(dist7_series.crs)\n",
    "print(dist7_series)"
   ]
  },
  {
   "cell_type": "code",
   "execution_count": null,
   "id": "right-moisture",
   "metadata": {},
   "outputs": [],
   "source": [
    "sdist_m.geometry.centroid"
   ]
  },
  {
   "cell_type": "code",
   "execution_count": null,
   "id": "supposed-terminology",
   "metadata": {},
   "outputs": [],
   "source": [
    "sdist_m.geometry.centroid.distance(sdist_m.geometry.centroid)"
   ]
  },
  {
   "cell_type": "markdown",
   "id": "grave-acoustic",
   "metadata": {},
   "source": [
    "Center of Nashville"
   ]
  },
  {
   "cell_type": "code",
   "execution_count": null,
   "id": "wicked-aircraft",
   "metadata": {},
   "outputs": [],
   "source": [
    "nv_center = nv_shape_unary_gdf.to_crs(3857).centroid\n",
    "nv_center"
   ]
  },
  {
   "cell_type": "code",
   "execution_count": null,
   "id": "placed-victoria",
   "metadata": {},
   "outputs": [],
   "source": [
    "nv_center_4 = nv_center.to_crs(4326)\n",
    "nv_center_4"
   ]
  },
  {
   "cell_type": "code",
   "execution_count": null,
   "id": "perceived-nightmare",
   "metadata": {},
   "outputs": [],
   "source": [
    "fig, ax = plt.subplots(1,1, figsize=(10,4))\n",
    "\n",
    "nv_shape_unary_gdf.to_crs(3857).plot(edgecolor='black', linewidth=3, color='slateblue', ax=ax)\n",
    "nv_center.plot(ax=ax, edgecolor='black', linewidth=0.3, color='aqua')\n",
    "\n",
    "for ax in fig.axes:\n",
    "    plt.sca(ax)\n",
    "    plt.xticks(rotation=90)\n",
    "\n",
    "plt.title('Center of Nashville at a whole')\n",
    "plt.show()"
   ]
  },
  {
   "cell_type": "markdown",
   "id": "fallen-letter",
   "metadata": {},
   "source": [
    "### GeoSeries.distance()\n",
    "\n",
    "<p>\n",
    "allows to calculate the distance between two points.<br>\n",
    "The \"from\" point is here the Nashville mayors office Public Square, Suite 100\n",
    "Nashville, TN 37201.<br>\n",
    "Latitude and longitude coordinates are: 36.166840 -86.778200.<br>\n",
    "The \"other\" points are the centroids from above.\n",
    "</p> "
   ]
  },
  {
   "cell_type": "code",
   "execution_count": null,
   "id": "vertical-vietnamese",
   "metadata": {},
   "outputs": [],
   "source": [
    "mayor = geop.GeoSeries(Point((-86.778200, 36.166840 )), crs=\"EPSG:4326\")\n",
    "\n",
    "print(type(mayor))\n",
    "print(mayor)\n",
    "print(mayor.crs)"
   ]
  },
  {
   "cell_type": "code",
   "execution_count": null,
   "id": "effective-belgium",
   "metadata": {},
   "outputs": [],
   "source": [
    "mayor_2 = mayor.copy()\n",
    "mayor_2 = mayor.to_crs(3857)\n",
    "\n",
    "print(type(mayor_2))\n",
    "print(mayor_2.crs)\n",
    "print(mayor_2)\n",
    "print(mayor_2.index)"
   ]
  },
  {
   "cell_type": "markdown",
   "id": "unlike-general",
   "metadata": {},
   "source": [
    "Distance of district 1 centroid to the mayor's office."
   ]
  },
  {
   "cell_type": "code",
   "execution_count": null,
   "id": "closed-rouge",
   "metadata": {},
   "outputs": [],
   "source": [
    "dist_dist1 = mayor_2.distance(other=district_1)\n",
    "\n",
    "distance_dist1_m = round(float(dist_dist1))\n",
    "print(distance_dist1_m, 'm')\n",
    "\n",
    "distance_dist1_km = round(float(dist_dist1 / 1000),2)\n",
    "print(distance_dist1_km, 'km')"
   ]
  },
  {
   "cell_type": "markdown",
   "id": "indie-carol",
   "metadata": {},
   "source": [
    "Distance of district 7 centroid to the mayor's office."
   ]
  },
  {
   "cell_type": "code",
   "execution_count": null,
   "id": "signal-conversation",
   "metadata": {},
   "outputs": [],
   "source": [
    "distance_dist7 = mayor_2.distance(other=district_7)\n",
    "\n",
    "distance_dist7_m = round(float(distance_dist7))\n",
    "print(distance_dist7_m )\n",
    "\n",
    "distance_dist7_km = round(float(distance_dist7/1000),2)\n",
    "print(distance_dist7_km )"
   ]
  },
  {
   "cell_type": "markdown",
   "id": "arctic-income",
   "metadata": {},
   "source": [
    "Distances between mayor and every school district centroid."
   ]
  },
  {
   "cell_type": "code",
   "execution_count": null,
   "id": "direct-merit",
   "metadata": {},
   "outputs": [],
   "source": [
    "sd_centers_df = \\\n",
    "geop.GeoDataFrame(sdistrict_centroids, crs='EPSG:3857', geometry='Centroid')\n",
    "\n",
    "sd_centers_df.rename(columns={'Centroid': 'geometry'}, inplace=True)\n",
    "\n",
    "print(type(sd_centers_df))\n",
    "print(sd_centers_df.crs)\n",
    "print(sd_centers_df.head(1))"
   ]
  },
  {
   "cell_type": "code",
   "execution_count": null,
   "id": "virgin-thirty",
   "metadata": {},
   "outputs": [],
   "source": [
    "distances_mayor = []\n",
    "\n",
    "for n, row in enumerate(sd_centers_df.iterrows()):\n",
    "    # print(type(row[1]))\n",
    "    # print(row[1][1])\n",
    "    \n",
    "    distance = round(float(mayor_2.distance(other=row[1][1])),2)\n",
    "    distances_mayor.append(distance)\n",
    "    \n",
    "distances_mayor"
   ]
  },
  {
   "cell_type": "code",
   "execution_count": null,
   "id": "varying-label",
   "metadata": {},
   "outputs": [],
   "source": [
    "sd_centers_df_2 = sd_centers_df.copy()\n",
    "\n",
    "sd_centers_df_2.rename(columns={'geometry': 'district centroid'}, inplace=True)\n",
    "sd_centers_df_2['distance_m'] = distances_mayor\n",
    "sd_centers_df_2['distance km'] = round(sd_centers_df_2['distance_m'] / 1000, 2)\n",
    "\n",
    "sd_centers_df_2"
   ]
  },
  {
   "cell_type": "markdown",
   "id": "exciting-breathing",
   "metadata": {},
   "source": [
    "#### Spatial joins\n",
    "\n",
    "<p>\n",
    "A spatial join uses binary predicates such as intersects and crosses to combine two GeoDataFrames based on the spatial relationship between their geometries.\n",
    "</p> \n",
    "\n",
    "<p>\n",
    "A common use case might be a spatial join between a point layer and a polygon layer where you want to retain the point geometries and grab the attributes of the intersecting polygons.<br>\n",
    "<a href=\"https://geopandas.org/gallery/spatial_joins.html\" target=\"_blank\">geopandas.org</a> \n",
    "</p> \n",
    "\n",
    "<p>\n",
    "The matching is achieved with the geometry columns, every GeoPandasDataframe has got.<br>\n",
    "Without a geometry col a data structure cannot be a GeoPandasDataframe.<br>\n",
    "The modi of joins in GeoPandas follows SQL logic.\n",
    "</p>\n",
    "\n"
   ]
  },
  {
   "cell_type": "markdown",
   "id": "photographic-catch",
   "metadata": {},
   "source": [
    "Joining schools with the main service districts."
   ]
  },
  {
   "cell_type": "code",
   "execution_count": null,
   "id": "worth-identity",
   "metadata": {},
   "outputs": [],
   "source": [
    "# print(type(nv_shape))\n",
    "# print(nv_shape)\n",
    "# print(nv_shape.crs)\n",
    "print(nv_shape.name)"
   ]
  },
  {
   "cell_type": "code",
   "execution_count": null,
   "id": "honey-belarus",
   "metadata": {},
   "outputs": [],
   "source": [
    "# sdist_m : school location data\n",
    "\n",
    "# print(type(sdist_m.head(1))\n",
    "# print(type(sdist_m))\n",
    "\n",
    "sdist_m_4326 = sdist_m.to_crs(4326)\n",
    "print(sdist_m_4326.crs)"
   ]
  },
  {
   "cell_type": "markdown",
   "id": "funny-kazakhstan",
   "metadata": {},
   "source": [
    "Intersects returns all cols, when matching occurs."
   ]
  },
  {
   "cell_type": "code",
   "execution_count": null,
   "id": "synthetic-walker",
   "metadata": {},
   "outputs": [],
   "source": [
    "schools_intersect_maindistricts = geop.sjoin(sd_gp, nv_shape, op = 'intersects')\n",
    "print(schools_intersect_maindistricts.shape)\n"
   ]
  },
  {
   "cell_type": "markdown",
   "id": "civic-editing",
   "metadata": {},
   "source": [
    "All schools fall into the main service districts."
   ]
  },
  {
   "cell_type": "code",
   "execution_count": null,
   "id": "median-anaheim",
   "metadata": {},
   "outputs": [],
   "source": [
    "print(schools_intersect_maindistricts.name.unique())\n",
    "print(schools_intersect_maindistricts.name.value_counts())"
   ]
  },
  {
   "cell_type": "code",
   "execution_count": null,
   "id": "auburn-football",
   "metadata": {},
   "outputs": [],
   "source": [
    "print(\"Schools in maindistricts: {}\".format(schools_intersect_maindistricts.shape[0]))\n",
    "\n",
    "# schools_intersect_maindistricts.head(1)\n",
    "schools_intersect_maindistricts.columns.tolist()"
   ]
  },
  {
   "cell_type": "markdown",
   "id": "suspended-tackle",
   "metadata": {},
   "source": [
    "The variables 'index_right', 'area_sq_mi' for example are from the main districts df (nv_shape).<br>\n",
    "School location points have not any areas."
   ]
  },
  {
   "cell_type": "code",
   "execution_count": null,
   "id": "roman-ranch",
   "metadata": {},
   "outputs": [],
   "source": [
    "schools_intersect_maindistricts.plot(edgecolor='black', color='magenta')\n",
    "plt.show()"
   ]
  },
  {
   "cell_type": "markdown",
   "id": "elder-junction",
   "metadata": {},
   "source": [
    "Does a left join change anything?<br>\n",
    "Probably not in this case as all schools fall into one of the two districts."
   ]
  },
  {
   "cell_type": "code",
   "execution_count": null,
   "id": "exciting-johns",
   "metadata": {},
   "outputs": [],
   "source": [
    "schools_intersect_maindistricts_left = geop.sjoin(sd_gp, nv_shape, how = 'left')\n",
    "\n",
    "# print(type(schools_intersect_maindistricts_left))\n",
    "print(schools_intersect_maindistricts_left.shape)"
   ]
  },
  {
   "cell_type": "markdown",
   "id": "adult-testing",
   "metadata": {},
   "source": [
    "Does a left join change anything?<br>\n",
    "Probably not in this case."
   ]
  },
  {
   "cell_type": "code",
   "execution_count": null,
   "id": "broken-setting",
   "metadata": {},
   "outputs": [],
   "source": [
    "schools_intersect_maindistricts_within = geop.sjoin(sd_gp, nv_shape, op = 'within')\n",
    "\n",
    "print(type(schools_intersect_maindistricts_within))\n",
    "print(schools_intersect_maindistricts_within.shape)\n",
    "print(\"Schools within main districts: {}\".format(schools_intersect_maindistricts_within.shape[0]))"
   ]
  },
  {
   "cell_type": "markdown",
   "id": "latin-butler",
   "metadata": {},
   "source": [
    "Probably not in this case as all schools fall into one of the two districts."
   ]
  },
  {
   "cell_type": "markdown",
   "id": "serious-tsunami",
   "metadata": {},
   "source": [
    "Joining schools with school districts."
   ]
  },
  {
   "cell_type": "code",
   "execution_count": null,
   "id": "pursuant-contributor",
   "metadata": {},
   "outputs": [],
   "source": [
    "# print(sd_gp.head(1))\n",
    "# print(sd_gp.crs)\n",
    "# print(type(sd_gp))\n",
    "# print(sd_gp.head())"
   ]
  },
  {
   "cell_type": "code",
   "execution_count": null,
   "id": "surrounded-willow",
   "metadata": {},
   "outputs": [],
   "source": [
    "school_intersect_districts = geop.sjoin(sd_gp, sdist_m_4326, op = 'intersects')\n",
    "print(type(school_intersect_districts))"
   ]
  },
  {
   "cell_type": "code",
   "execution_count": null,
   "id": "recognized-selling",
   "metadata": {},
   "outputs": [],
   "source": [
    "print(sd_gp.shape)\n",
    "print(school_intersect_districts.shape)"
   ]
  },
  {
   "cell_type": "markdown",
   "id": "temporal-slave",
   "metadata": {},
   "source": [
    "The columns of the joined df are consisting of the cols of the joining df."
   ]
  },
  {
   "cell_type": "code",
   "execution_count": null,
   "id": "surprised-sustainability",
   "metadata": {},
   "outputs": [],
   "source": [
    "# concat allows to create df with different length of cols\n",
    "\n",
    "intersect_schools = \\\n",
    "pd.concat([pd.Series(sd_gp.columns.tolist()), \n",
    "           pd.Series(sdist_m_4326.columns.tolist()),\n",
    "           pd.Series(school_intersect_districts.columns.tolist())], \n",
    "           ignore_index=True, \n",
    "           axis=1)\n",
    "\n",
    "intersect_schools.columns = ['sd_gp', 'sdist_m_4326' ,'Joined_df']\n",
    "\n",
    "intersect_schools = intersect_schools.fillna(0)\n",
    "intersect_schools"
   ]
  },
  {
   "cell_type": "code",
   "execution_count": null,
   "id": "nonprofit-resource",
   "metadata": {},
   "outputs": [],
   "source": [
    "school_intersect_districts.plot(edgecolor='black', color='magenta')\n",
    "plt.show()"
   ]
  },
  {
   "cell_type": "markdown",
   "id": "absent-extension",
   "metadata": {},
   "source": [
    "Joining schools with NV neighborhoods.<br>\n",
    "Other than above not all schools might have a neighborhoods."
   ]
  },
  {
   "cell_type": "code",
   "execution_count": null,
   "id": "suitable-victor",
   "metadata": {},
   "outputs": [],
   "source": [
    "# print(type(nv))\n",
    "# print(nv.head(1))"
   ]
  },
  {
   "cell_type": "code",
   "execution_count": null,
   "id": "amended-manufacturer",
   "metadata": {},
   "outputs": [],
   "source": [
    "schools_intersect_neighborhoods = geop.sjoin(sd_gp, nv, op = 'intersects')\n",
    "schools_intersect_neighborhoods_left = geop.sjoin(sd_gp, nv, how = 'left')\n",
    "schools_intersect_neighborhoods_right = geop.sjoin(sd_gp, nv, how = 'right')\n",
    "\n",
    "print(type(schools_intersect_neighborhoods))\n",
    "# print(schools_intersect_neighborhoods.head(1))"
   ]
  },
  {
   "cell_type": "code",
   "execution_count": null,
   "id": "planned-turner",
   "metadata": {},
   "outputs": [],
   "source": [
    "print(\"Intersect:\", schools_intersect_neighborhoods.shape)\n",
    "print(\"Left:\", schools_intersect_neighborhoods_left.shape)\n",
    "print(\"Right:\", schools_intersect_neighborhoods_right.shape)"
   ]
  },
  {
   "cell_type": "code",
   "execution_count": null,
   "id": "responsible-elder",
   "metadata": {},
   "outputs": [],
   "source": [
    "schools_intersect_neighborhoods.City.value_counts()"
   ]
  },
  {
   "cell_type": "code",
   "execution_count": null,
   "id": "nutritional-sister",
   "metadata": {},
   "outputs": [],
   "source": [
    "n_unique_neigh = len(schools_intersect_neighborhoods.name.unique())\n",
    "print(\"Number of unique neighborhoods: {}\".format(n_unique_neigh))"
   ]
  },
  {
   "cell_type": "code",
   "execution_count": null,
   "id": "deluxe-trial",
   "metadata": {},
   "outputs": [],
   "source": [
    "print(\"Schools intersecting with neighborhoods: {}\".format(schools_intersect_neighborhoods.shape[0]))"
   ]
  },
  {
   "cell_type": "markdown",
   "id": "outdoor-rough",
   "metadata": {},
   "source": [
    "Not in all neighborhoods are schools."
   ]
  },
  {
   "cell_type": "code",
   "execution_count": null,
   "id": "general-ancient",
   "metadata": {},
   "outputs": [],
   "source": [
    "schools_intersect_neighborhoods.plot(edgecolor='black', color='magenta')\n",
    "plt.show()"
   ]
  },
  {
   "cell_type": "markdown",
   "id": "colored-naples",
   "metadata": {},
   "source": [
    "Top five neigborhoods by number of schools."
   ]
  },
  {
   "cell_type": "code",
   "execution_count": null,
   "id": "offshore-links",
   "metadata": {},
   "outputs": [],
   "source": [
    "schools_intersect_neighborhoods[['School Name', 'name']].groupby('name').aggregate('count').\\\n",
    "sort_values(ascending=False, by='School Name')[:5]"
   ]
  },
  {
   "cell_type": "markdown",
   "id": "revised-switch",
   "metadata": {},
   "source": [
    "Joining areas (polygons)."
   ]
  },
  {
   "cell_type": "code",
   "execution_count": null,
   "id": "genuine-obligation",
   "metadata": {},
   "outputs": [],
   "source": [
    "maindist_inter_neigh_within = geop.sjoin(nv, nv_shape, op='within')\n",
    "print(maindist_inter_neigh_within.shape)"
   ]
  },
  {
   "cell_type": "code",
   "execution_count": null,
   "id": "brilliant-manufacturer",
   "metadata": {},
   "outputs": [],
   "source": [
    "maindist_inter_neigh = geop.sjoin(nv, nv_shape, op='intersects')\n",
    "print(maindist_inter_neigh.shape)"
   ]
  },
  {
   "cell_type": "code",
   "execution_count": null,
   "id": "operating-stack",
   "metadata": {},
   "outputs": [],
   "source": [
    "maindist_inter_neigh.head(2)"
   ]
  },
  {
   "cell_type": "code",
   "execution_count": null,
   "id": "generous-resident",
   "metadata": {},
   "outputs": [],
   "source": [
    "print(maindist_inter_neigh.columns.tolist())"
   ]
  },
  {
   "cell_type": "code",
   "execution_count": null,
   "id": "pending-paintball",
   "metadata": {},
   "outputs": [],
   "source": [
    "maindist_inter_neigh['name_left'].unique()[:5]"
   ]
  },
  {
   "cell_type": "code",
   "execution_count": null,
   "id": "polar-fiber",
   "metadata": {},
   "outputs": [],
   "source": [
    "maindist_inter_neigh['name_right'].value_counts().sort_values(ascending=False)[:10]"
   ]
  },
  {
   "cell_type": "markdown",
   "id": "charged-program",
   "metadata": {},
   "source": [
    "Of the neighborhoods 195 are in the USD and 112 in the GSD."
   ]
  },
  {
   "cell_type": "code",
   "execution_count": null,
   "id": "flying-belize",
   "metadata": {},
   "outputs": [],
   "source": [
    "maindist_inter_neigh = maindist_inter_neigh.\\\n",
    "                       rename(columns={'name_right':'main_Districts', 'name_left':'neigborhoods'})\n",
    "# maindist_inter_neigh.main_Districts"
   ]
  },
  {
   "cell_type": "code",
   "execution_count": null,
   "id": "accredited-nightlife",
   "metadata": {},
   "outputs": [],
   "source": [
    "maindist_inter_neigh[['neigborhoods', 'main_Districts']].groupby('main_Districts').agg('count')"
   ]
  },
  {
   "cell_type": "markdown",
   "id": "prostate-velvet",
   "metadata": {},
   "source": [
    "# Chicken permits in Nashville data set\n",
    "## Import json data: chicken permits in Nashville"
   ]
  },
  {
   "cell_type": "code",
   "execution_count": null,
   "id": "cardiovascular-litigation",
   "metadata": {},
   "outputs": [],
   "source": [
    "chickens = pd.read_json('https://data.nashville.gov/resource/vpdy-5e23.json')"
   ]
  },
  {
   "cell_type": "markdown",
   "id": "focal-hungary",
   "metadata": {},
   "source": [
    "## Data exploration: chicken permits data"
   ]
  },
  {
   "cell_type": "code",
   "execution_count": null,
   "id": "peaceful-wound",
   "metadata": {},
   "outputs": [],
   "source": [
    "print(type(chickens))\n",
    "print(chickens.shape)\n",
    "print(chickens.columns.tolist)"
   ]
  },
  {
   "cell_type": "code",
   "execution_count": null,
   "id": "beneficial-effort",
   "metadata": {},
   "outputs": [],
   "source": [
    "chickens.head(3)"
   ]
  },
  {
   "cell_type": "code",
   "execution_count": null,
   "id": "domestic-omaha",
   "metadata": {},
   "outputs": [],
   "source": [
    "chickens.tail(3)"
   ]
  },
  {
   "cell_type": "code",
   "execution_count": null,
   "id": "naval-garden",
   "metadata": {},
   "outputs": [],
   "source": [
    "chickens.info()"
   ]
  },
  {
   "cell_type": "code",
   "execution_count": null,
   "id": "suited-electronics",
   "metadata": {},
   "outputs": [],
   "source": [
    "chickens = chickens.drop(chickens.columns[7:13], axis=1)"
   ]
  },
  {
   "cell_type": "code",
   "execution_count": null,
   "id": "colored-ghana",
   "metadata": {},
   "outputs": [],
   "source": [
    "nas =       pd.DataFrame(zip(chickens.isna().sum(), chickens.count(),\n",
    "                chickens.isna().sum() + chickens.count()), \n",
    "            columns=['NA\\'s', 'Values', 'Total'], \n",
    "            index=chickens.columns)\n",
    "\n",
    "nas"
   ]
  },
  {
   "cell_type": "markdown",
   "id": "conventional-grant",
   "metadata": {},
   "source": [
    "### Groupby: chicken permits data"
   ]
  },
  {
   "cell_type": "code",
   "execution_count": null,
   "id": "victorian-imperial",
   "metadata": {},
   "outputs": [],
   "source": [
    "gb_district = chickens.groupby('district')['permit'].sum()\n",
    "gb_district[:3]"
   ]
  },
  {
   "cell_type": "code",
   "execution_count": null,
   "id": "robust-eligibility",
   "metadata": {},
   "outputs": [],
   "source": [
    "gb_district.sort_values().plot(kind='bar', \n",
    "                               figsize=(15,7), edgecolor='black', linewidth=4,\n",
    "                               color=['magenta', 'yellow', 'cyan', \"crimson\", 'brown'],\n",
    "                               title='Chicken permits by districts', fontsize=15,\n",
    "                               grid=True)\n",
    "\n",
    "plt.title('Chicken permits by districts', fontsize=23, fontweight='bold')\n",
    "\n",
    "plt.show()"
   ]
  },
  {
   "cell_type": "markdown",
   "id": "metric-deposit",
   "metadata": {},
   "source": [
    "### Geopspatial data exploration: chicken permits data\n",
    "<b>Longitude and latitudes</b>\n",
    "\n",
    "<p>\n",
    "The geocoordinates are stored together with other information\n",
    "in the variable mapped_location.<br>\n",
    "The geocoorindates should be stored as tidy variables each in one column.\n",
    "</p> "
   ]
  },
  {
   "cell_type": "code",
   "execution_count": null,
   "id": "lonely-spencer",
   "metadata": {},
   "outputs": [],
   "source": [
    "with pd.option_context('display.max_rows', None,\n",
    "                       'display.max_columns', None,\n",
    "                       'display.precision', 1000,\n",
    "                       ):\n",
    "    print(chickens.loc[:5, ['city', 'mapped_location']])\n",
    "\n",
    "# Why doesn't context print not the whole dict?"
   ]
  },
  {
   "cell_type": "markdown",
   "id": "designed-island",
   "metadata": {},
   "source": [
    "Trying to understand the construction."
   ]
  },
  {
   "cell_type": "code",
   "execution_count": null,
   "id": "reasonable-worthy",
   "metadata": {},
   "outputs": [],
   "source": [
    "ml = chickens.mapped_location\n",
    "print(type(ml))\n",
    "print(ml[:3])"
   ]
  },
  {
   "cell_type": "code",
   "execution_count": null,
   "id": "threatened-explorer",
   "metadata": {},
   "outputs": [],
   "source": [
    "ml10 = ml[10]\n",
    "print(type(ml10))\n",
    "print(ml10['latitude'])"
   ]
  },
  {
   "cell_type": "markdown",
   "id": "exposed-mattress",
   "metadata": {},
   "source": [
    "Conclusion:<br>\n",
    "This a nested construction, whereby a n dicts are stored inside of pd.Series.<br>\n",
    "Therefore the construction is iterated with list comprehensions and not as a dict of dicts."
   ]
  },
  {
   "cell_type": "code",
   "execution_count": null,
   "id": "imposed-making",
   "metadata": {},
   "outputs": [],
   "source": [
    "latitudes = [i['latitude'] for i in ml]\n",
    "latitudes = [float(i) for i in latitudes]"
   ]
  },
  {
   "cell_type": "code",
   "execution_count": null,
   "id": "median-wichita",
   "metadata": {},
   "outputs": [],
   "source": [
    "print(type(latitudes[99]))\n",
    "print(len(latitudes))\n",
    "print(latitudes[:5])"
   ]
  },
  {
   "cell_type": "code",
   "execution_count": null,
   "id": "regional-asthma",
   "metadata": {},
   "outputs": [],
   "source": [
    "longitudes = [i['longitude'] for i in ml]\n",
    "longitudes = [float(i) for i in longitudes]"
   ]
  },
  {
   "cell_type": "code",
   "execution_count": null,
   "id": "british-jason",
   "metadata": {},
   "outputs": [],
   "source": [
    "print(longitudes[:5])\n",
    "print(type(longitudes[15]))\n",
    "print(len(longitudes))"
   ]
  },
  {
   "cell_type": "code",
   "execution_count": null,
   "id": "improved-tuner",
   "metadata": {},
   "outputs": [],
   "source": [
    "chickens_2 = chickens.copy()"
   ]
  },
  {
   "cell_type": "code",
   "execution_count": null,
   "id": "preliminary-slovakia",
   "metadata": {},
   "outputs": [],
   "source": [
    "chickens_2['Longitudes'] = longitudes\n",
    "chickens_2['Latitudes'] = latitudes"
   ]
  },
  {
   "cell_type": "code",
   "execution_count": null,
   "id": "compatible-activity",
   "metadata": {},
   "outputs": [],
   "source": [
    "chickens_2.columns"
   ]
  },
  {
   "cell_type": "code",
   "execution_count": null,
   "id": "further-virtue",
   "metadata": {},
   "outputs": [],
   "source": [
    "chickens_2[['Longitudes', 'Latitudes']].head()"
   ]
  },
  {
   "cell_type": "code",
   "execution_count": null,
   "id": "alone-titanium",
   "metadata": {},
   "outputs": [],
   "source": [
    "geo_354 = chickens_2[['Longitudes', 'Latitudes']]\n",
    "geo_354.aggregate({'min', 'max' ,'median'})"
   ]
  },
  {
   "cell_type": "code",
   "execution_count": null,
   "id": "worldwide-language",
   "metadata": {},
   "outputs": [],
   "source": [
    "geo_354.head(3)"
   ]
  },
  {
   "cell_type": "code",
   "execution_count": null,
   "id": "hidden-acrylic",
   "metadata": {},
   "outputs": [],
   "source": [
    "geo_354.info()"
   ]
  },
  {
   "cell_type": "markdown",
   "id": "coupled-frank",
   "metadata": {
    "tags": []
   },
   "source": [
    "### Is there a problem wiith overplotting?\n",
    "\n",
    "A lot of geocoordinate points are close to each other and fit in nearby bins.\n",
    "\n"
   ]
  },
  {
   "cell_type": "code",
   "execution_count": null,
   "id": "significant-corps",
   "metadata": {},
   "outputs": [],
   "source": [
    "fig = plt.figure(figsize=(15,5))\n",
    "ax1 = fig.add_subplot(1,2,1)\n",
    "sns.histplot(x='Longitudes', data=geo_354, edgecolor='black', color='green', ax=ax1, bins=50)\n",
    "\n",
    "ax2 = fig.add_subplot(1,2,2)\n",
    "sns.histplot(x='Latitudes', data=geo_354, edgecolor='black', color='crimson', ax=ax2, bins=50)\n",
    "plt.show()\n",
    "\n",
    "\n",
    "plt.scatter(x=chickens_2['Longitudes'], y=chickens_2['Latitudes'], s=0.5, alpha=0.7)\n",
    "plt.show()\n",
    "\n",
    "plt.figure(figsize=(8,8))\n",
    "sns.jointplot(x='Longitudes', y='Latitudes',  data= chickens_2, height=5,\n",
    "              color='g', s=2)\n",
    "plt.ylabel('longitude')\n",
    "plt.xlabel('latitude')\n",
    "\n",
    "ax1.set_xlim(left=-86.8, right=-86.801)\n",
    "\n",
    "\n",
    "plt.grid()\n",
    "plt.show()\n",
    "\n",
    "sns.kdeplot(data = chickens_2, x='Longitudes', y='Latitudes', cmap=\"Reds\", shade=True)\n",
    "plt.title('Determining overplotting with a 2D density graph', loc='left')\n",
    "plt.show()\n",
    "\n"
   ]
  },
  {
   "cell_type": "code",
   "execution_count": null,
   "id": "growing-coordinator",
   "metadata": {},
   "outputs": [],
   "source": [
    "plt.figure(figsize=(20,5))\n",
    "sns.stripplot(x='Longitudes', y='Latitudes',  data= chickens_2, s=4)\n",
    "plt.xticks(rotation = 90)\n",
    "plt.grid()\n",
    "plt.show()"
   ]
  },
  {
   "cell_type": "markdown",
   "id": "forward-secret",
   "metadata": {},
   "source": [
    "### Locations: chicken permits data"
   ]
  },
  {
   "cell_type": "code",
   "execution_count": null,
   "id": "strong-dimension",
   "metadata": {},
   "outputs": [],
   "source": [
    "sns.set_style('darkgrid')\n",
    "fig, (ax1, ax2) = plt.subplots(2,1, figsize=(8,10))\n",
    "\n",
    "sns.scatterplot(x='Longitudes', y='Latitudes', data= chickens_2, ax= ax1, \n",
    "                alpha=0.2, \n",
    "                s=200,\n",
    "                marker = \"o\")\n",
    "ax1.set_xlim(left=-86.9, right=-86.7)\n",
    "ax1.set_title('Locations: chicken permits data', fontsize=23)\n",
    "\n",
    "\n",
    "sns.scatterplot(x='Longitudes', y='Latitudes',  data= chickens_2, ax= ax2, hue='permit', s=200)\n",
    "ax2.set_xlim(left=-86.9, right=-86.7)\n",
    "plt.show()"
   ]
  },
  {
   "cell_type": "code",
   "execution_count": null,
   "id": "bronze-driver",
   "metadata": {},
   "outputs": [],
   "source": [
    "sns.set_style('darkgrid')\n",
    "fig, (ax1, ax2) = plt.subplots(2,1, figsize=(8,10))\n",
    "\n",
    "sns.scatterplot(x='Longitudes', y='Latitudes', data= chickens_2, ax= ax1, alpha=0.2, size=\"permit\")\n",
    "ax1.set_xlim(left=-86.9, right=-86.7)\n",
    "ax1.set_title('Locations: chicken permits data', fontsize=23)\n",
    "\n",
    "\n",
    "sns.scatterplot(x='Longitudes', y='Latitudes', data= chickens_2, ax= ax2, hue='permit')\n",
    "ax2.set_xlim(left=-86.9, right=-86.7)\n",
    "\n",
    "\n",
    "for ax in fig.axes:\n",
    "    plt.sca(ax)\n",
    "    plt.xticks(rotation=90)\n",
    "\n",
    "\n",
    "    \n",
    "plt.subplots_adjust(hspace=0.3)\n",
    "plt.show()"
   ]
  },
  {
   "cell_type": "markdown",
   "id": "religious-leone",
   "metadata": {},
   "source": [
    "### Combining shape polygons & scatter location plots\n",
    "<p>\n",
    "into layered plots.\n",
    "</p>\n"
   ]
  },
  {
   "cell_type": "code",
   "execution_count": null,
   "id": "changed-flash",
   "metadata": {},
   "outputs": [],
   "source": [
    "fig, ax1 = plt.subplots(1,1, figsize=(12, 12))\n",
    "nv_shape.plot(column='name', legend=True, ax=ax1, edgecolor='black',\n",
    "              linewidth=1, legend_kwds={'loc':'lower left'}, aspect=0.8)\n",
    "sns.scatterplot(x='Longitudes', y='Latitudes', data= chickens_2, ax= ax1, color='red', \n",
    "                size=\"permit\", legend=False)\n",
    "ax1.set_title('Locations of chicken permits in Nashville general service districts', fontsize=12)\n",
    "plt.show()"
   ]
  },
  {
   "cell_type": "code",
   "execution_count": null,
   "id": "deadly-comment",
   "metadata": {},
   "outputs": [],
   "source": [
    "fig, ax1 = plt.subplots(1,1, figsize=(10,5))\n",
    "\n",
    "nv.plot(ax=ax1, column='name', legend=False, aspect=0.5)\n",
    "sns.scatterplot(x='Longitudes', y='Latitudes', data= chickens_2, ax= ax1, color='black')\n",
    "ax1.set_xlim(left=-87, right=-86.7)\n",
    "ax1.set_title('Locations of chicken permits in Nashville sub service districts', fontsize=12)\n",
    "\n",
    "plt.show()"
   ]
  },
  {
   "cell_type": "markdown",
   "id": "analyzed-tracy",
   "metadata": {},
   "source": [
    "It seems that a lot of permits, where issued for the same location or chicken farm."
   ]
  },
  {
   "cell_type": "markdown",
   "id": "rational-pioneer",
   "metadata": {},
   "source": [
    "# Creating interactive maps of Nashville with Folium\n",
    "\n",
    "<p>\n",
    ", which is Python package based on the leaflet.js library<br>\n",
    "or in words of the <a href=\"https://python-visualization.github.io/folium/\" target=\"_blank\">Folium 0.12.1 documentation:</a>\n",
    "</p> \n",
    "\n",
    "<p>\n",
    "\"Folium makes it easy to visualize data that’s been manipulated in Python on an interactive leaflet map. It enables both the binding of data to a map for choropleth visualizations as well as passing rich vector/raster/HTML visualizations as markers on the map.\"<br>\n",
    "\n",
    "<p>\n",
    "Below a map is created centered around the <b>Graceland, the home of Elvis Presley, in Memphis</b>, TN.<br>\n",
    "Latitude: 35.0459425757 / Longitude: -90.0229972176\n",
    "</p> "
   ]
  },
  {
   "cell_type": "code",
   "execution_count": null,
   "id": "activated-immune",
   "metadata": {},
   "outputs": [],
   "source": [
    "graceland_df = pd.DataFrame([Point((35.0459425757, -90.0229972176 ))],\n",
    "                            columns=['geometry'])\n",
    "\n",
    "graceland_gdf = geop.GeoDataFrame(graceland_df, geometry='geometry', crs='EPSG:4326')\n",
    "\n",
    "graceland_gdf "
   ]
  },
  {
   "cell_type": "code",
   "execution_count": null,
   "id": "laughing-comfort",
   "metadata": {},
   "outputs": [],
   "source": [
    "graceland_point = Point((35.0459425757, -90.0229972176 ))\n",
    "print(graceland_point)\n",
    "print(type(graceland_point))\n"
   ]
  },
  {
   "cell_type": "markdown",
   "id": "capable-technique",
   "metadata": {},
   "source": [
    "<b>How are the coordinates of a Shapely point extracted?</b><br>\n",
    "\n",
    "<p>\n",
    "Simply subsetting the tuple throws an error.<br>\n",
    "Instead using the coords-method.<br>\n",
    "<a href=\"https://stackoverflow.com/questions/20474549/extract-points-coordinates-from-a-polygon-in-shapely\" target=\"_blank\">\n",
    "stackoverflow.com</a> \n",
    "</p> \n"
   ]
  },
  {
   "cell_type": "code",
   "execution_count": null,
   "id": "architectural-twelve",
   "metadata": {},
   "outputs": [],
   "source": [
    "print(graceland_point.coords[0][0])\n",
    "print(type(graceland_point.coords[0][0]))\n",
    "print(graceland_point.coords[0][1])\n",
    "\n",
    "grace_lat = graceland_point.coords[0][0]\n",
    "grace_long = graceland_point.coords[0][1]\n",
    "grace_coord = [grace_lat, grace_long]\n",
    "print(grace_coord)"
   ]
  },
  {
   "cell_type": "code",
   "execution_count": null,
   "id": "conditional-clear",
   "metadata": {},
   "outputs": [],
   "source": [
    "graceland_gseries = geop.GeoSeries(graceland_point, crs=\"EPSG:4326\")\n",
    "\n",
    "print(type(graceland_gseries))\n",
    "print(graceland_gseries)\n",
    "print(graceland_gseries[0])"
   ]
  },
  {
   "cell_type": "markdown",
   "id": "bizarre-magic",
   "metadata": {},
   "source": [
    "Another method is to use the x and y methods."
   ]
  },
  {
   "cell_type": "code",
   "execution_count": null,
   "id": "cubic-universal",
   "metadata": {},
   "outputs": [],
   "source": [
    "graceland_centerpoint = graceland_gseries[0]\n",
    "grace_y_long = graceland_centerpoint.y\n",
    "grace_x_lat = graceland_centerpoint.x\n",
    "\n",
    "print(grace_y_long)\n",
    "print(grace_x_lat)"
   ]
  },
  {
   "cell_type": "code",
   "execution_count": null,
   "id": "detected-student",
   "metadata": {},
   "outputs": [],
   "source": [
    "f = folium.Figure(width=600, height=300)\n",
    "\n",
    "graceland = folium.Map(location = grace_coord, zoom_start=28, tiles='openstreetmap').add_to(f)\n",
    "#display(graceland)"
   ]
  },
  {
   "cell_type": "code",
   "execution_count": null,
   "id": "strategic-convergence",
   "metadata": {},
   "outputs": [],
   "source": [
    "graceland_gseries"
   ]
  },
  {
   "cell_type": "code",
   "execution_count": null,
   "id": "complicated-width",
   "metadata": {},
   "outputs": [],
   "source": [
    "grace_tojson = graceland_gseries.to_json()\n",
    "grace_tojson"
   ]
  },
  {
   "cell_type": "code",
   "execution_count": null,
   "id": "human-yellow",
   "metadata": {},
   "outputs": [],
   "source": [
    "graceland_json = folium.GeoJson(grace_tojson)"
   ]
  },
  {
   "cell_type": "code",
   "execution_count": null,
   "id": "familiar-finland",
   "metadata": {},
   "outputs": [],
   "source": [
    "folium.Popup('Graceland').add_to(graceland_json)"
   ]
  },
  {
   "cell_type": "code",
   "execution_count": null,
   "id": "balanced-wireless",
   "metadata": {},
   "outputs": [],
   "source": [
    "graceland_json.add_to(graceland)"
   ]
  },
  {
   "cell_type": "code",
   "execution_count": null,
   "id": "respiratory-kitchen",
   "metadata": {},
   "outputs": [],
   "source": [
    "display(graceland)"
   ]
  },
  {
   "cell_type": "markdown",
   "id": "military-values",
   "metadata": {},
   "source": [
    "Pop-up Graceland?"
   ]
  },
  {
   "cell_type": "markdown",
   "id": "normal-value",
   "metadata": {},
   "source": [
    "#### Folium map of schools in Nashville"
   ]
  },
  {
   "cell_type": "code",
   "execution_count": null,
   "id": "ambient-question",
   "metadata": {},
   "outputs": [],
   "source": [
    "geocoord_NV_center = [float(nv_center_4.geometry.y), float(nv_center_4.geometry.x)]"
   ]
  },
  {
   "cell_type": "code",
   "execution_count": null,
   "id": "innovative-trance",
   "metadata": {},
   "outputs": [],
   "source": [
    "sd_gp.columns"
   ]
  },
  {
   "cell_type": "code",
   "execution_count": null,
   "id": "crazy-eclipse",
   "metadata": {},
   "outputs": [],
   "source": [
    "geocoords_schools_map = []\n",
    "school_names = []\n",
    "for row in sd_gp.iterrows():\n",
    "        geocoord_schools = [row[1]['Latitude'], row[1]['Longitude']]\n",
    "        geocoords_schools_map.append(geocoord_schools)\n",
    "        school_name = row[1]['School Name']\n",
    "        school_names.append(school_name)\n",
    "        \n",
    "geocoords_schools_map[:2]\n",
    "school_names[:4]"
   ]
  },
  {
   "cell_type": "code",
   "execution_count": null,
   "id": "proprietary-wrong",
   "metadata": {},
   "outputs": [],
   "source": [
    "f_schools = folium.Figure(width = 500, height = 300)\n",
    "\n",
    "school_title = \"\"\"Schools in Nashville within school districts\"\"\"\n",
    "\n",
    "school_title_2 = \\\n",
    "'''<h1 align=\"center\" style=\"font-size:16px\" font-style=\"italic\"><b>{}</b></h2>\n",
    "'''.format(school_title )\n",
    "\n",
    "map_schools = folium.Map(location=geocoord_NV_center,\n",
    "                         width='100%', height='100%', left='0%', top='0%', \n",
    "                         position='relative', tiles='OpenStreetMap', \n",
    "                         attr=None, min_zoom=2, max_zoom=18, \n",
    "                         zoom_start=11, min_lat=- 90, max_lat=90, min_lon=- 180, \n",
    "                         max_lon=180, max_bounds=False, crs='EPSG3857', \n",
    "                         control_scale=False, prefer_canvas=False, \n",
    "                         no_touch=False, disable_3d=False, png_enabled=False)\n",
    "\n",
    "map_schools.get_root().html.add_child(folium.Element(school_title_2))\n",
    "\n",
    "# Add school district borders\n",
    "map_schools_borders = folium.GeoJson(nv.geometry,\n",
    "                                     style_function = \\\n",
    "                                     lambda x: \n",
    "                                     {'color':'black', 'weight':0.5, 'fillColor':'blue'}).\\\n",
    "                                     add_to(map_schools)\n",
    "\n",
    "\n",
    "for row in sd_gp.iterrows():\n",
    "        geocoord_schools = [row[1]['Latitude'], row[1]['Longitude']]\n",
    "        school_name = row[1]['School Name']\n",
    "        folium.Marker(location=geocoord_schools, popup=school_name,\n",
    "                      icon = folium.Icon(color='green', icon_color='white', icon='heart-empty', \n",
    "                                     angle=0, prefix='glyphicon')).add_to(map_schools)\n",
    "        \n",
    "\n",
    "\n",
    "display(map_schools)"
   ]
  },
  {
   "cell_type": "markdown",
   "id": "standing-stage",
   "metadata": {},
   "source": [
    "# Art work in Nashville data set\n",
    "## Quick reproduction: art work in Nashville"
   ]
  },
  {
   "cell_type": "code",
   "execution_count": null,
   "id": "pointed-intro",
   "metadata": {},
   "outputs": [],
   "source": [
    "arty = pd.read_csv('datasets/public_art.csv')\n",
    "\n",
    "print(type(arty))\n",
    "print(arty.info())\n",
    "print(arty[['Title', 'Latitude', 'Longitude']].head())"
   ]
  },
  {
   "cell_type": "code",
   "execution_count": null,
   "id": "exterior-border",
   "metadata": {},
   "outputs": [],
   "source": [
    "arty_gp = arty.copy()\n",
    "arty_gp['geometry'] = arty.apply(lambda x: Point((x.Longitude, x.Latitude)), axis=1)\n",
    "\n",
    "# 'EPSG:4326' = decimal crs\n",
    "arty_gp = geop.GeoDataFrame(arty_gp, crs='EPSG:4326', geometry='geometry')\n",
    "\n",
    "\n",
    "print(type(arty_gp))\n",
    "print(arty_gp.crs)\n",
    "print(arty_gp[['Title', 'Latitude', 'Longitude', 'geometry']].head())"
   ]
  },
  {
   "cell_type": "code",
   "execution_count": null,
   "id": "accepted-freight",
   "metadata": {},
   "outputs": [],
   "source": [
    "fig, ax1 = plt.subplots(1,1, figsize=(12, 12))\n",
    "plt.tight_layout()\n",
    "\n",
    "nv_shape.plot(column='name', legend=True, ax=ax1, edgecolor='black',\n",
    "              linewidth=1, legend_kwds={'loc':'upper right'}, aspect=0.8)\n",
    "\n",
    "arty_gp.plot(column ='Title', legend=True, ax=ax1, edgecolor='black',\n",
    "             linewidth=1, \n",
    "             legend_kwds={'loc':'upper center', 'bbox_to_anchor':(0.5, -0.05), 'ncol':4}, \n",
    "             aspect=0.8)\n",
    "\n",
    "ax1.set_title('Locations of art in Nashville general service districts', fontsize=17,\n",
    "              fontweight='bold')\n",
    "plt.show()"
   ]
  },
  {
   "cell_type": "code",
   "execution_count": null,
   "id": "associate-magic",
   "metadata": {},
   "outputs": [],
   "source": [
    "fig, ax1 = plt.subplots(1,1, figsize=(12, 12))\n",
    "plt.tight_layout()\n",
    "\n",
    "nv.plot(column='name', legend=True, ax=ax1, edgecolor='black',\n",
    "        linewidth=1, legend_kwds={'loc':'upper right'}, aspect=0.8,\n",
    "         cmap='gist_gray')\n",
    "\n",
    "arty_gp.plot(column ='Title', legend=True, ax=ax1, edgecolor='black',\n",
    "             linewidth=1, \n",
    "             legend_kwds={'loc':'upper center', 'bbox_to_anchor':(0.5, -0.05), 'ncol':4}, \n",
    "             aspect=0.8, cmap='Reds')\n",
    "\n",
    "ax1.set_title('Locations of chicken permits in Nashville general service districts', fontsize=17,\n",
    "              fontweight='bold')\n",
    "plt.show()"
   ]
  },
  {
   "cell_type": "markdown",
   "id": "electrical-belarus",
   "metadata": {},
   "source": [
    "#### Geospatial join"
   ]
  },
  {
   "cell_type": "code",
   "execution_count": null,
   "id": "above-waste",
   "metadata": {},
   "outputs": [],
   "source": [
    "art_within_neighbors = geop.sjoin(arty_gp, nv, op ='within')\n",
    "print(type(art_within_neighbors))"
   ]
  },
  {
   "cell_type": "markdown",
   "id": "competent-settle",
   "metadata": {},
   "source": [
    "print(art_within_neighbors.crs)\n",
    "print(art_within_neighbors.shape)\n",
    "print(arty_gp.shape)\n",
    "\n",
    "art_within_neighbors.head(1)"
   ]
  },
  {
   "cell_type": "markdown",
   "id": "fatal-preference",
   "metadata": {},
   "source": [
    "Only 40 pieces of art are within neighbourhoods."
   ]
  },
  {
   "cell_type": "code",
   "execution_count": null,
   "id": "tracked-agreement",
   "metadata": {},
   "outputs": [],
   "source": [
    "neighbor_12 = pd.Series(art_within_neighbors.name.unique().tolist())"
   ]
  },
  {
   "cell_type": "code",
   "execution_count": null,
   "id": "worldwide-beverage",
   "metadata": {},
   "outputs": [],
   "source": [
    "art_within_neighbors.columns.tolist()\n",
    "art_within_neighbors[['name', 'Title']].groupby('name').\\\n",
    "agg('count').sort_values(by='Title', ascending=False)"
   ]
  },
  {
   "cell_type": "markdown",
   "id": "respected-sigma",
   "metadata": {},
   "source": [
    "Most art is in the Urban Residents. Let's have a closer look into it."
   ]
  },
  {
   "cell_type": "code",
   "execution_count": null,
   "id": "determined-david",
   "metadata": {},
   "outputs": [],
   "source": [
    "urban_art = art_within_neighbors[art_within_neighbors.name=='Urban Residents']\n",
    "\n",
    "print(type(urban_art))\n",
    "print(urban_art.shape)\n",
    "print(urban_art.columns.tolist())"
   ]
  },
  {
   "cell_type": "code",
   "execution_count": null,
   "id": "subtle-distribution",
   "metadata": {},
   "outputs": [],
   "source": [
    "urban_neighbors = nv.loc[nv.name=='Urban Residents']\n",
    "\n",
    "print(urban_neighbors.shape)"
   ]
  },
  {
   "cell_type": "code",
   "execution_count": null,
   "id": "experienced-regression",
   "metadata": {},
   "outputs": [],
   "source": [
    "fig, ax = plt.subplots(1,1, figsize=(12,5))\n",
    "\n",
    "urban_neighbors.plot(edgecolor='black', linewidth=3, color='lime', ax=ax)\n",
    "urban_art.plot(edgecolor='black', linewidth=3, ax=ax, column='Type', legend=True,\n",
    "               legend_kwds={'ncol':1, 'bbox_to_anchor':(1, 1), 'loc':'upper center'}\n",
    "               )\n",
    "\n",
    "for ax in fig.axes:\n",
    "    plt.sca(ax)\n",
    "    plt.xticks(rotation=90)\n",
    "\n",
    "plt.title('Art work in Urban Residents')\n",
    "plt.show()"
   ]
  },
  {
   "cell_type": "code",
   "execution_count": null,
   "id": "accomplished-thanks",
   "metadata": {},
   "outputs": [],
   "source": [
    "urban_neighbors = urban_neighbors.to_crs(3857)\n",
    "print(urban_neighbors.crs)\n",
    "urban_area_km_squared = urban_neighbors.geometry.area / (10**6)\n",
    "urban_area_km_squared "
   ]
  },
  {
   "cell_type": "markdown",
   "id": "accomplished-killing",
   "metadata": {},
   "source": [
    "#### Nashville Urban Center Residents district.\n",
    "\n",
    "<p>\n",
    "Creating a interactive Folium map.\n",
    "</p> \n"
   ]
  },
  {
   "cell_type": "markdown",
   "id": "convinced-large",
   "metadata": {},
   "source": [
    "#### Add (district) border shape to the Folium map."
   ]
  },
  {
   "cell_type": "code",
   "execution_count": null,
   "id": "unlikely-flood",
   "metadata": {},
   "outputs": [],
   "source": [
    "urban_neighbors"
   ]
  },
  {
   "cell_type": "code",
   "execution_count": null,
   "id": "preceding-plumbing",
   "metadata": {},
   "outputs": [],
   "source": [
    "urban_center = urban_neighbors.geometry.centroid\n",
    "print(type(urban_center))\n",
    "print(urban_center.crs)\n",
    "\n",
    "urban_center"
   ]
  },
  {
   "cell_type": "code",
   "execution_count": null,
   "id": "confidential-surname",
   "metadata": {},
   "outputs": [],
   "source": [
    "# crs?\n",
    "print(urban_center.crs)\n",
    "urban_c566 = urban_center.to_crs(4326)\n",
    "print(urban_c566.crs)"
   ]
  },
  {
   "cell_type": "code",
   "execution_count": null,
   "id": "vertical-invasion",
   "metadata": {},
   "outputs": [],
   "source": [
    "uc_geoc = [ urban_c566.y , urban_c566.x]\n",
    "uc_geoc = [float(i) for i in uc_geoc]\n",
    "uc_geoc "
   ]
  },
  {
   "cell_type": "code",
   "execution_count": null,
   "id": "bridal-mediterranean",
   "metadata": {},
   "outputs": [],
   "source": [
    "fig, ax = plt.subplots(1,1, figsize=(12,5))\n",
    "\n",
    "urban_neighbors.plot(edgecolor='black', linewidth=3, color='lime', ax=ax)\n",
    "urban_center.plot(ax=ax, edgecolor='black', linewidth=3, cmap='gist_rainbow')\n",
    "\n",
    "for ax in fig.axes:\n",
    "    plt.sca(ax)\n",
    "    plt.xticks(rotation=90)\n",
    "\n",
    "plt.title('Center of Urban Residents')\n",
    "plt.show()"
   ]
  },
  {
   "cell_type": "code",
   "execution_count": null,
   "id": "particular-affect",
   "metadata": {},
   "outputs": [],
   "source": [
    "f = folium.Figure(width=400, height=300)\n",
    "\n",
    "nv_urbanc_map = folium.Map(location=uc_geoc, zoom_start=14,\n",
    "                           tiles=\"openstreetmap\").add_to(f)\n",
    "display(nv_urbanc_map)"
   ]
  },
  {
   "cell_type": "code",
   "execution_count": null,
   "id": "appointed-document",
   "metadata": {},
   "outputs": [],
   "source": [
    "ub_borders =   folium.GeoJson(urban_neighbors.geometry,\n",
    "               style_function= \\\n",
    "               lambda x: {'fillColor': 'crimson',\n",
    "                          \"color\": \"#ff7800\",\n",
    "                          \"weight\": 5,\n",
    "                          \"opacity\": 0.8,\n",
    "                          \"stroke\":True}).add_to(nv_urbanc_map)"
   ]
  },
  {
   "cell_type": "markdown",
   "id": "contained-letter",
   "metadata": {},
   "source": [
    "#### Add a pop up to the (district) border shape of the Folium map.\n",
    "\n",
    "<p>\n",
    "Pop up understands HTML.\n",
    "</p> "
   ]
  },
  {
   "cell_type": "code",
   "execution_count": null,
   "id": "communist-length",
   "metadata": {},
   "outputs": [],
   "source": [
    "nv_descript = \\\n",
    "\"\"\"<strong>Nashville</strong> is the capital and most populous city of the U.S. state of Tennessee. \n",
    "The city is the county seat of Davidson County and is located on the Cumberland River.\n",
    "It is the 23rd most-populous city in the United States.\n",
    "<a href=\"https://en.wikipedia.org/wiki/Nashville,_Tennessee\"\n",
    "target=\"_blank\"\">Wikipedia</a>\"\"\"\n",
    "\n",
    "folium.Popup(nv_descript ).add_to(ub_borders)"
   ]
  },
  {
   "cell_type": "code",
   "execution_count": null,
   "id": "dental-recommendation",
   "metadata": {},
   "outputs": [],
   "source": [
    "display(nv_urbanc_map)"
   ]
  },
  {
   "cell_type": "markdown",
   "id": "inside-maple",
   "metadata": {},
   "source": [
    "Lockeland Springs district."
   ]
  },
  {
   "cell_type": "code",
   "execution_count": null,
   "id": "light-magazine",
   "metadata": {},
   "outputs": [],
   "source": [
    "lock = nv.loc[nv.name == 'Lockeland Springs'].to_crs(3857)\n",
    "print(lock)\n",
    "print(lock.crs)\n",
    "\n",
    "lock_art = art_within_neighbors.loc[art_within_neighbors.name == 'Lockeland Springs'].to_crs(3857)\n",
    "print(lock_art[['Title', 'Medium', 'Location']])\n",
    "print(lock_art.crs)\n",
    "\n",
    "lock_center = nv.loc[nv.name=='Lockeland Springs'].to_crs(3857).geometry.centroid\n",
    "print(lock_center)\n",
    "print(type(lock_center))\n",
    "print(lock_center.crs)"
   ]
  },
  {
   "cell_type": "code",
   "execution_count": null,
   "id": "oriental-extreme",
   "metadata": {},
   "outputs": [],
   "source": [
    "lock_center_4326 = lock_center.to_crs(4326)\n",
    "lock_y_long = lock_center_4326.geometry.y\n",
    "lock_x_lat = lock_center_4326.geometry.x\n",
    "lock_coords = [lock_y_long, lock_x_lat]\n",
    "lock_coords = [float(i) for i in lock_coords]\n",
    "print(lock_coords)"
   ]
  },
  {
   "cell_type": "code",
   "execution_count": null,
   "id": "returning-interim",
   "metadata": {},
   "outputs": [],
   "source": [
    "fig, ax = plt.subplots(1,1, figsize=(10,4))\n",
    "\n",
    "lock.plot(edgecolor='black', linewidth=3, color='crimson', ax=ax)\n",
    "lock_art.plot(column='Title', ax=ax, linewidth=0.3, edgecolor='black', legend=True,\n",
    "              legend_kwds={'ncol':1, 'bbox_to_anchor':(0.5, -0.1), 'loc':'upper center'})\n",
    "lock_center.plot(ax=ax, color='lime')\n",
    "\n",
    "plt.title('Art in Lockeland Springs')\n",
    "plt.show()"
   ]
  },
  {
   "cell_type": "code",
   "execution_count": null,
   "id": "labeled-print",
   "metadata": {},
   "outputs": [],
   "source": [
    "# Add title - Thanks to: \n",
    "# https://stackoverflow.com/questions/61928013/adding-a-title-or-text-to-a-folium-map\n",
    "\n",
    "loc = 'Shape of Lock in Folium map of Nashville'\n",
    "title_html = '''\n",
    "             <h3 align=\"center\" style=\"font-size:16px\"><b>{}</b></h3>\n",
    "             '''.format(loc)   \n",
    "\n",
    "f = folium.Figure(width=600, height=300)\n",
    "\n",
    "map_lock = folium.Map(location=lock_coords, zoom_start=14).add_to(f)\n",
    "folium.GeoJson(lock.geometry).add_to(map_lock)\n",
    "\n",
    "map_lock .get_root().html.add_child(folium.Element(title_html))\n",
    "\n",
    "map_lock .save('lock.html')\n",
    "\n",
    "display(map_lock)"
   ]
  },
  {
   "cell_type": "markdown",
   "id": "optional-valentine",
   "metadata": {},
   "source": [
    "<strong> Creating a interactive Folium map.</strong> \n",
    "<p>\n",
    "Including, adding the urban district borders, a title and a pop up to the map.\n",
    "</p> "
   ]
  },
  {
   "cell_type": "code",
   "execution_count": null,
   "id": "surrounded-jumping",
   "metadata": {},
   "outputs": [],
   "source": [
    "# print(urban_neighbors)\n",
    "urban_center_4326 = urban_center.to_crs(4326)\n",
    "print(urban_center_4326.crs)\n",
    "\n",
    "urban_center_geocoord_list = [float(urban_center_4326.y), float(urban_center_4326.x)]\n",
    "print(urban_center_geocoord_list)\n",
    "\n",
    "title_urbc = 'Nashville centered around the center of the urban district within borders'\n",
    "\n",
    "title_urbc_html = '''\n",
    "                  <h2 align=\"center\" style=\"font-size:14px\" font-style=\"italic\"><b>{}</b></h2>\n",
    "           \n",
    "                  '''.format(title_urbc)\n",
    "# print(title_urbc_html)\n",
    "\n",
    "f_nv_ubc = folium.Figure(width=600, height=300)\n",
    "\n",
    "nv_urbcenter = folium.Map(location=urban_center_geocoord_list,\n",
    "                          zoom_start=14, tiles='Stamen Terrain').add_to(f_nv_ubc)\n",
    "\n",
    "# folium.GeoJson(lock.geometry).add_to(map_lock)\n",
    "urbd_borders = folium.GeoJson(urban_neighbors.geometry,\n",
    "               style_function= \\\n",
    "               lambda x: {'fillColor': 'limegreen',\n",
    "                          \"color\": \"plum\",\n",
    "                          \"weight\": 5,\n",
    "                          \"opacity\": 0.8,\n",
    "                          \"stroke\":True}).add_to(nv_urbcenter)\n",
    "\n",
    "nv_urbcenter.get_root().html.add_child(folium.Element(title_urbc_html))\n",
    "folium.Popup(nv_descript).add_to(urbd_borders)\n",
    "\n"
   ]
  },
  {
   "cell_type": "code",
   "execution_count": null,
   "id": "ignored-there",
   "metadata": {},
   "outputs": [],
   "source": [
    "display(nv_urbcenter)"
   ]
  },
  {
   "cell_type": "markdown",
   "id": "olympic-strengthening",
   "metadata": {},
   "source": [
    "<strong>Adding markers to the map.</strong>\n",
    "\n",
    "<p>\n",
    "Iterating over the rows of the df gets the markers.\n",
    "</p> "
   ]
  },
  {
   "cell_type": "code",
   "execution_count": null,
   "id": "handed-numbers",
   "metadata": {},
   "outputs": [],
   "source": [
    "urban_art = urban_art.copy()\n",
    "urban_art.iloc[0,0] = 'Fourth and Commerce Sculpture'"
   ]
  },
  {
   "cell_type": "code",
   "execution_count": null,
   "id": "limited-ownership",
   "metadata": {},
   "outputs": [],
   "source": [
    "urban_art.iloc[0,0]"
   ]
  },
  {
   "cell_type": "code",
   "execution_count": null,
   "id": "durable-partition",
   "metadata": {},
   "outputs": [],
   "source": [
    "# print(urban_art.head(1))\n",
    "# print(urban_art.geometry.y)\n",
    "# print(urban_art.columns)\n",
    "# Getting the index number of the geometry column\n",
    "# print(len(urban_art.geometry))"
   ]
  },
  {
   "cell_type": "code",
   "execution_count": null,
   "id": "limiting-single",
   "metadata": {},
   "outputs": [],
   "source": [
    "print(urban_art.isna().sum())"
   ]
  },
  {
   "cell_type": "markdown",
   "id": "handmade-viking",
   "metadata": {},
   "source": [
    "The NA's could be a problem, when generating pop-ups."
   ]
  },
  {
   "cell_type": "code",
   "execution_count": null,
   "id": "undefined-bosnia",
   "metadata": {},
   "outputs": [],
   "source": [
    "urban_art = urban_art.fillna(\"\")\n",
    "print(urban_art.isna().sum())"
   ]
  },
  {
   "cell_type": "markdown",
   "id": "oriented-bennett",
   "metadata": {},
   "source": [
    "Also special signs like \"'\" could cause problems."
   ]
  },
  {
   "cell_type": "code",
   "execution_count": null,
   "id": "invalid-press",
   "metadata": {},
   "outputs": [],
   "source": [
    "urban_art = urban_art.replace(to_replace=\"\\'\", value='`')"
   ]
  },
  {
   "cell_type": "code",
   "execution_count": null,
   "id": "taken-number",
   "metadata": {},
   "outputs": [],
   "source": [
    "type(urban_art)"
   ]
  },
  {
   "cell_type": "code",
   "execution_count": null,
   "id": "modified-closer",
   "metadata": {},
   "outputs": [],
   "source": [
    "geo_index = urban_art.columns.get_loc('geometry')\n",
    "geo_index_title = urban_art.columns.get_loc('Title')"
   ]
  },
  {
   "cell_type": "markdown",
   "id": "reliable-banks",
   "metadata": {},
   "source": [
    "Example: get the name-values of the pieces of art by iterating."
   ]
  },
  {
   "cell_type": "code",
   "execution_count": null,
   "id": "joined-culture",
   "metadata": {},
   "outputs": [],
   "source": [
    "urban_art_pieces = []\n",
    "for row in urban_art.iterrows():\n",
    "    all_row_values = row[1]\n",
    "    piece_of_art = all_row_values[0]\n",
    "    urban_art_pieces.append(piece_of_art)\n",
    "    \n",
    "print(len(urban_art_pieces))\n",
    "print(urban_art_pieces[:3])"
   ]
  },
  {
   "cell_type": "code",
   "execution_count": null,
   "id": "great-deposit",
   "metadata": {},
   "outputs": [],
   "source": [
    "title_urbc_html_2 = \\\n",
    "\"\"\"Art in the Nashville urban district marked on the map.\"\"\"\n",
    "\n",
    "title_urbc_html_2 = '''\n",
    "                  <h2 align=\"center\" style=\"font-size:14px\" font-style=\"italic\"><b>{}</b></h2>\n",
    "           \n",
    "                  '''.format(title_urbc_html_2)\n",
    "\n",
    "nv_urbcenter_2 = folium.Map(location=urban_center_geocoord_list,\n",
    "                            zoom_start=16, tiles='Stamen Terrain')\n",
    "\n",
    "urbd_borders_2 = folium.GeoJson(urban_neighbors.geometry,\n",
    "               style_function= \\\n",
    "               lambda x: {'fillColor': 'limegreen',\n",
    "                          \"color\": \"plum\",\n",
    "                          \"weight\": 5,\n",
    "                          \"opacity\": 0.8,\n",
    "                          \"stroke\":True}).add_to(nv_urbcenter_2)\n",
    "\n",
    "nv_urbcenter_2.get_root().html.add_child(folium.Element(title_urbc_html_2))\n",
    "folium.Popup(nv_descript).add_to(urbd_borders_2)\n",
    "\n",
    "display(nv_urbcenter_2)"
   ]
  },
  {
   "cell_type": "markdown",
   "id": "ordered-classroom",
   "metadata": {
    "tags": []
   },
   "source": [
    "<p>\n",
    "Folium Marker created an error, maybe because the text for the Popup is too long.<br>\n",
    "The popup was not rendered.<br>\n",
    "The solution is to adjust the popup frame for the text.<br>\n",
    "Alternatively the font size maybe adjusted.<br>\n",
    "Thanks to:<br>\n",
    "<a href=\"https://stackoverflow.com/questions/62228489/python-folium-how-to-create-a-folium-map-marker-with-multiple-popup-text-line\"\n",
    "target=\"_blank\">Stack</a> \n",
    "</p> "
   ]
  },
  {
   "cell_type": "code",
   "execution_count": null,
   "id": "nuclear-recovery",
   "metadata": {},
   "outputs": [],
   "source": [
    "urban_art.columns"
   ]
  },
  {
   "cell_type": "code",
   "execution_count": null,
   "id": "falling-forge",
   "metadata": {},
   "outputs": [],
   "source": [
    "for row in urban_art.iterrows():\n",
    "    row_values = row[1]\n",
    "    geocoords_uba = [row_values[geo_index].y, row_values[geo_index].x]\n",
    "    \n",
    "    title = \\\n",
    "    '<h3 align=\"center\" style=\"font-size:12px\" font-style=\"italic\">' + row_values[0] + '</h3>'\n",
    "    # print(row_values[0])\n",
    "    \n",
    "    iframe = folium.IFrame(title,\n",
    "                       width=100,\n",
    "                       height=60)\n",
    "\n",
    "    popup = folium.Popup(iframe, max_width=100)\n",
    "\n",
    "    marker_uba = folium.Marker(location = geocoords_uba,\n",
    "                               popup=popup)\n",
    "    marker_uba.add_to(nv_urbcenter_2 )"
   ]
  },
  {
   "cell_type": "code",
   "execution_count": null,
   "id": "excessive-springfield",
   "metadata": {},
   "outputs": [],
   "source": [
    "display(nv_urbcenter_2)"
   ]
  },
  {
   "cell_type": "code",
   "execution_count": null,
   "id": "appointed-leather",
   "metadata": {},
   "outputs": [],
   "source": [
    "nv_urbcenter_23 = nv_urbcenter_2 \n",
    "\n",
    "\n",
    "for row in urban_art.iterrows():\n",
    "    row_values = row[1]\n",
    "    geocoords_uba = [row_values[geo_index].y, row_values[geo_index].x]\n",
    "    \n",
    "    title_desc = '<strong align=center>' + row_values['Title'] + '</strong>'  + ': ' \\\n",
    "    + '<p style=\"font-size:12px\">' + row_values['Description'] + '</p>'\n",
    "    \n",
    "    iframe = folium.IFrame(title_desc, width=300, height=100)\n",
    "    \n",
    "    popup = folium.Popup(iframe, max_width=300)\n",
    "    \n",
    "    # print(popup)\n",
    "    \n",
    "    folium.Marker(location=geocoords_uba, popup=popup, \n",
    "                  icon=folium.Icon(color=\"indigo\")).add_to(nv_urbcenter_23)"
   ]
  },
  {
   "cell_type": "code",
   "execution_count": null,
   "id": "narrative-spine",
   "metadata": {},
   "outputs": [],
   "source": [
    "display(nv_urbcenter_23)"
   ]
  },
  {
   "cell_type": "markdown",
   "id": "direct-anniversary",
   "metadata": {},
   "source": [
    "## Choropleth \n",
    "\n",
    "A <b>choropleth</b> map is: \n",
    "</p> \n",
    "<p>\n",
    "\"A choropleth map (from Greek χῶρος choros 'area/region' and πλῆθος plethos 'multitude') is a type of thematic map in which a set of pre-defined areas is colored or patterned in proportion to a statistical variable that represents an aggregate summary of a geographic characteristic within each area, such as population density or per-capita income.\" (Wikipedia)\n",
    "</p> \n"
   ]
  },
  {
   "cell_type": "code",
   "execution_count": null,
   "id": "interim-default",
   "metadata": {},
   "outputs": [],
   "source": [
    "sd_gp.columns.to_list()"
   ]
  },
  {
   "cell_type": "code",
   "execution_count": null,
   "id": "scheduled-approach",
   "metadata": {},
   "outputs": [],
   "source": [
    "schools_in_districts = sd_gp[['geometry', 'School Name', 'Latitude', 'Longitude']]"
   ]
  },
  {
   "cell_type": "code",
   "execution_count": null,
   "id": "genuine-credit",
   "metadata": {},
   "outputs": [],
   "source": [
    "schools_in_districts.head(2)"
   ]
  },
  {
   "cell_type": "code",
   "execution_count": null,
   "id": "advanced-journalist",
   "metadata": {},
   "outputs": [],
   "source": [
    "print(sdist.crs)\n",
    "print(sdist.geometry.crs)"
   ]
  },
  {
   "cell_type": "code",
   "execution_count": null,
   "id": "close-thong",
   "metadata": {},
   "outputs": [],
   "source": [
    "sdist.head(1)"
   ]
  },
  {
   "cell_type": "code",
   "execution_count": null,
   "id": "focal-bidding",
   "metadata": {},
   "outputs": [],
   "source": [
    "type(sd_gp)"
   ]
  },
  {
   "cell_type": "code",
   "execution_count": null,
   "id": "aware-trauma",
   "metadata": {},
   "outputs": [],
   "source": [
    "sd_gp.head(1)"
   ]
  },
  {
   "cell_type": "code",
   "execution_count": null,
   "id": "happy-season",
   "metadata": {},
   "outputs": [],
   "source": [
    "# schools_in_districts = gpd.sjoin(school_districts, schools_geo, op = 'contains')\n",
    "schools_in_districts = geop.sjoin(sdist, sd_gp , op = 'contains')"
   ]
  },
  {
   "cell_type": "code",
   "execution_count": null,
   "id": "prerequisite-measurement",
   "metadata": {},
   "outputs": [],
   "source": [
    "schools_in_districts.head(1)"
   ]
  },
  {
   "cell_type": "code",
   "execution_count": null,
   "id": "saved-college",
   "metadata": {},
   "outputs": [],
   "source": [
    "schools_in_districts.info()"
   ]
  },
  {
   "cell_type": "code",
   "execution_count": null,
   "id": "solid-japanese",
   "metadata": {},
   "outputs": [],
   "source": [
    "schools_in_districts_2 = \\\n",
    "schools_in_districts.loc[:, ['district', 'School ID', 'School Name', 'city',\n",
    "                             'geometry', 'Latitude', 'Longitude']]"
   ]
  },
  {
   "cell_type": "code",
   "execution_count": null,
   "id": "communist-boundary",
   "metadata": {},
   "outputs": [],
   "source": [
    "schools_in_districts_2.rename(columns=\n",
    "                              {'School ID': 'school_id', 'School Name': 'name'}, \n",
    "                               inplace=True)\n",
    "\n",
    "schools_in_districts_2.head(2)"
   ]
  },
  {
   "cell_type": "code",
   "execution_count": null,
   "id": "intense-sunrise",
   "metadata": {},
   "outputs": [],
   "source": [
    "schools_in_districts_2_3857 = schools_in_districts_2.to_crs('EPSG:3857')\n",
    "print(schools_in_districts_2_3857.crs)\n",
    "schools_in_districts_2_3857.head(2)"
   ]
  },
  {
   "cell_type": "code",
   "execution_count": null,
   "id": "neutral-flood",
   "metadata": {},
   "outputs": [],
   "source": [
    "schools_in_districts_2.district.unique()"
   ]
  },
  {
   "cell_type": "code",
   "execution_count": null,
   "id": "frequent-buffalo",
   "metadata": {},
   "outputs": [],
   "source": [
    "schools_in_districts_2.crs"
   ]
  },
  {
   "cell_type": "code",
   "execution_count": null,
   "id": "electrical-conjunction",
   "metadata": {},
   "outputs": [],
   "source": [
    "schools_in_districts_3857 = schools_in_districts_2.to_crs(epsg=3857)\n",
    "print(schools_in_districts_3857.crs)\n",
    "schools_in_districts_3857.head(1)"
   ]
  },
  {
   "cell_type": "markdown",
   "id": "bored-friend",
   "metadata": {},
   "source": [
    "#### Calculating the are metric in km^2"
   ]
  },
  {
   "cell_type": "code",
   "execution_count": null,
   "id": "interpreted-timothy",
   "metadata": {},
   "outputs": [],
   "source": [
    "# define a variable for m^2 to km^2\n",
    "sqm_to_sqkm = 10**6"
   ]
  },
  {
   "cell_type": "code",
   "execution_count": null,
   "id": "peaceful-survivor",
   "metadata": {},
   "outputs": [],
   "source": [
    "schools_in_districts_3857['area'] = \\\n",
    "round(schools_in_districts_3857.geometry.area / sqm_to_sqkm, 2)\n",
    "\n",
    "schools_in_districts_3857.head(1)"
   ]
  },
  {
   "cell_type": "code",
   "execution_count": null,
   "id": "frequent-judgment",
   "metadata": {},
   "outputs": [],
   "source": [
    "schools_in_districts_4326 = schools_in_districts_3857.to_crs(epsg=4326)\n",
    "schools_in_districts_4326.crs"
   ]
  },
  {
   "cell_type": "code",
   "execution_count": null,
   "id": "given-exchange",
   "metadata": {},
   "outputs": [],
   "source": [
    "schools_in_districts_4326.plot(column = 'area', cmap = 'Reds', edgecolor = 'black',\n",
    "                               legend=True)\n",
    "plt.title(\"Choropleth of school districts based on area\")\n",
    "plt.show()"
   ]
  },
  {
   "cell_type": "code",
   "execution_count": null,
   "id": "latest-elizabeth",
   "metadata": {},
   "outputs": [],
   "source": [
    "schools_counts = schools_in_districts_4326.groupby(['district']).size()\n",
    "\n",
    "print(type(schools_counts))\n",
    "schools_counts"
   ]
  },
  {
   "cell_type": "code",
   "execution_count": null,
   "id": "restricted-columbia",
   "metadata": {},
   "outputs": [],
   "source": [
    "schools_counts_df = schools_counts.to_frame().reset_index(level=0)\n",
    "schools_counts_df.columns = ['district', 'school_counts']\n",
    "schools_counts_df.head(2)"
   ]
  },
  {
   "cell_type": "code",
   "execution_count": null,
   "id": "protected-george",
   "metadata": {},
   "outputs": [],
   "source": [
    "# districts with schools counted\n",
    "district_school_counts = sdist.merge(schools_counts_df, on='district')\n",
    "district_school_counts[['last_name', 'district', 'school_counts']].head()"
   ]
  },
  {
   "cell_type": "code",
   "execution_count": null,
   "id": "swiss-scheme",
   "metadata": {},
   "outputs": [],
   "source": [
    "print(type(district_school_counts))\n",
    "print(np.shape(district_school_counts))"
   ]
  },
  {
   "cell_type": "code",
   "execution_count": null,
   "id": "authentic-peoples",
   "metadata": {},
   "outputs": [],
   "source": [
    "district_school_counts.dtypes"
   ]
  },
  {
   "cell_type": "code",
   "execution_count": null,
   "id": "twenty-registration",
   "metadata": {},
   "outputs": [],
   "source": [
    "print(type(district_school_counts.geometry[1]))"
   ]
  },
  {
   "cell_type": "code",
   "execution_count": null,
   "id": "joint-latest",
   "metadata": {},
   "outputs": [],
   "source": [
    "district_school_counts_json = district_school_counts.to_json()\n",
    "district_school_counts_json[:700]"
   ]
  },
  {
   "cell_type": "code",
   "execution_count": null,
   "id": "welsh-difficulty",
   "metadata": {},
   "outputs": [],
   "source": [
    "district_school_counts.to_file(\"district_school_counts_gejson.geojson\", driver='GeoJSON')"
   ]
  },
  {
   "cell_type": "code",
   "execution_count": null,
   "id": "functional-morgan",
   "metadata": {},
   "outputs": [],
   "source": [
    "district_school_counts.plot(column='school_counts', cmap='BuGn', edgecolor='black',\n",
    "                            legend=True)\n",
    "plt.title(\"Choropleth of districts colored by school counts\")\n",
    "plt.xlabel('longitude')\n",
    "plt.ylabel('latitude')\n",
    "plt.show()"
   ]
  },
  {
   "cell_type": "code",
   "execution_count": null,
   "id": "accessible-offset",
   "metadata": {},
   "outputs": [],
   "source": [
    "district_school_counts['density'] = \\\n",
    "district_school_counts.apply(lambda row: row.school_counts / row.geometry.area, axis=1)"
   ]
  },
  {
   "cell_type": "code",
   "execution_count": null,
   "id": "human-wrapping",
   "metadata": {},
   "outputs": [],
   "source": [
    "print(district_school_counts.columns.to_list())"
   ]
  },
  {
   "cell_type": "code",
   "execution_count": null,
   "id": "given-biodiversity",
   "metadata": {},
   "outputs": [],
   "source": [
    "district_school_counts.plot(column='density', cmap='Blues', edgecolor='black', linewidth=1, \n",
    "                            legend=True,  figsize=(10,6))\n",
    "\n",
    "plt.title(\"Chloropleth of districts by school density\")\n",
    "plt.xlabel('longitude')\n",
    "plt.ylabel('latitude')\n",
    "\n",
    "plt.show()"
   ]
  },
  {
   "cell_type": "code",
   "execution_count": null,
   "id": "incorporate-extra",
   "metadata": {},
   "outputs": [],
   "source": [
    "print(district_school_counts.crs)\n",
    "print(district_school_counts.geometry.crs)"
   ]
  },
  {
   "cell_type": "code",
   "execution_count": null,
   "id": "japanese-truck",
   "metadata": {},
   "outputs": [],
   "source": [
    "title_2222 = \\\n",
    "\"\"\"Number of schools in school district.\"\"\"\n",
    "\n",
    "title_2222 = \\\n",
    "''' <h2 align=\"center\" style=\"font-size:14px\" font-style=\"italic\"><b>{}</b></h2>'''.format(title_2222)\n",
    "\n",
    "\n",
    "f = folium.Figure(width=600, height=300)\n",
    "\n",
    "nashville = [36.1636,-86.7823]\n",
    "m = folium.Map(location=nashville, zoom_start=10).add_to(f)\n",
    "\n",
    "m.choropleth(\n",
    "geo_data=district_school_counts,\n",
    "name='Choropleth',\n",
    "data=district_school_counts,\n",
    "columns=['district', 'density'],\n",
    "key_on='feature.properties.district',\n",
    "fill_color='Set1',\n",
    "fill_opacity=0.75,\n",
    "line_opacity=0.5,\n",
    "legend_name='Schools per km squared by School District'\n",
    ")\n",
    "\n",
    "m.get_root().html.add_child(folium.Element(title_2222))\n",
    "\n",
    "# Add layer control and display\n",
    "folium.LayerControl().add_to(m)\n",
    "display(m)"
   ]
  },
  {
   "cell_type": "markdown",
   "id": "organic-irish",
   "metadata": {},
   "source": [
    "### Adding markers "
   ]
  },
  {
   "cell_type": "code",
   "execution_count": null,
   "id": "welsh-summit",
   "metadata": {},
   "outputs": [],
   "source": [
    "district_school_counts_3857 = district_school_counts.to_crs(epsg=3857)\n",
    "\n",
    "district_school_counts_3857['center'] = district_school_counts_3857.geometry.centroid\n",
    "\n",
    "print(district_school_counts_3857.crs)\n",
    "district_school_counts.head(1)"
   ]
  },
  {
   "cell_type": "code",
   "execution_count": null,
   "id": "internal-rescue",
   "metadata": {},
   "outputs": [],
   "source": [
    "district_school_counts['center'] = district_school_counts_3857.center.to_crs(epsg = 4326)"
   ]
  },
  {
   "cell_type": "code",
   "execution_count": null,
   "id": "tamil-hebrew",
   "metadata": {},
   "outputs": [],
   "source": [
    "district_school_counts = district_school_counts_3857.to_crs(epsg = 4326)\n",
    "district_school_counts['center'] = district_school_counts_3857.center.to_crs(epsg = 4326)\n",
    "\n",
    "print(district_school_counts.geometry.crs)\n",
    "print(district_school_counts.center.crs)\n",
    "district_school_counts.head(1)"
   ]
  },
  {
   "cell_type": "code",
   "execution_count": null,
   "id": "unique-ethnic",
   "metadata": {},
   "outputs": [],
   "source": [
    "for row in district_school_counts.iterrows():\n",
    "    iii = row[1]\n",
    "    centerpoint = iii['center']\n",
    "    l = [centerpoint.y , centerpoint.x]\n",
    "    p = ('District: ' + str(iii['district'] + ' - Number of schools: ' + str(iii['school_counts'])))\n",
    "    marker = folium.Marker(location = l , popup = p)\n",
    "    marker.add_to(m)\n",
    "    \n",
    "display(m)"
   ]
  },
  {
   "cell_type": "code",
   "execution_count": null,
   "id": "representative-plymouth",
   "metadata": {},
   "outputs": [],
   "source": []
  }
 ],
 "metadata": {
  "kernelspec": {
   "display_name": "Python [conda env:geospatial]",
   "language": "python",
   "name": "conda-env-geospatial-py"
  },
  "language_info": {
   "codemirror_mode": {
    "name": "ipython",
    "version": 3
   },
   "file_extension": ".py",
   "mimetype": "text/x-python",
   "name": "python",
   "nbconvert_exporter": "python",
   "pygments_lexer": "ipython3",
   "version": "3.7.10"
  }
 },
 "nbformat": 4,
 "nbformat_minor": 5
}
